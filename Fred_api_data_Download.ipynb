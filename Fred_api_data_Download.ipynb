{
  "nbformat": 4,
  "nbformat_minor": 0,
  "metadata": {
    "colab": {
      "provenance": []
    },
    "kernelspec": {
      "name": "python3",
      "display_name": "Python 3"
    },
    "language_info": {
      "name": "python"
    }
  },
  "cells": [
    {
      "cell_type": "markdown",
      "source": [
        "# API DATA DOWNLOAD MODULE\n",
        "\n",
        "Made by: Prabin Raj Shrestha\n",
        "\n",
        "<a href=\"https://colab.research.google.com/drive/1F-JP9Tk892XnlnmM_PpzEU0IuwyMsGnZ\" target=\"_parent\"><img src=\"https://colab.research.google.com/assets/colab-badge.svg\" alt=\"Open In Colab\"/></a>"
      ],
      "metadata": {
        "id": "Yn72Z14TaESq"
      }
    },
    {
      "cell_type": "markdown",
      "source": [
        "---"
      ],
      "metadata": {
        "id": "rS8Eus1dgMoL"
      }
    },
    {
      "cell_type": "markdown",
      "source": [
        "## Packages"
      ],
      "metadata": {
        "id": "pQILrAKNgQIS"
      }
    },
    {
      "cell_type": "code",
      "source": [
        "!pip install full-fred"
      ],
      "metadata": {
        "colab": {
          "base_uri": "https://localhost:8080/"
        },
        "id": "RjG_atBVVNIo",
        "outputId": "757e363e-e1d4-4ff8-9609-abadf988cc9d"
      },
      "execution_count": null,
      "outputs": [
        {
          "output_type": "stream",
          "name": "stdout",
          "text": [
            "Collecting full-fred\n",
            "  Downloading full_fred-0.0.9a3-py3-none-any.whl (47 kB)\n",
            "\u001b[2K     \u001b[90m━━━━━━━━━━━━━━━━━━━━━━━━━━━━━━━━━━━━━━━━\u001b[0m \u001b[32m47.6/47.6 kB\u001b[0m \u001b[31m601.0 kB/s\u001b[0m eta \u001b[36m0:00:00\u001b[0m\n",
            "\u001b[?25hRequirement already satisfied: pandas in /usr/local/lib/python3.10/dist-packages (from full-fred) (2.0.3)\n",
            "Requirement already satisfied: requests in /usr/local/lib/python3.10/dist-packages (from full-fred) (2.31.0)\n",
            "Requirement already satisfied: python-dateutil>=2.8.2 in /usr/local/lib/python3.10/dist-packages (from pandas->full-fred) (2.8.2)\n",
            "Requirement already satisfied: pytz>=2020.1 in /usr/local/lib/python3.10/dist-packages (from pandas->full-fred) (2023.4)\n",
            "Requirement already satisfied: tzdata>=2022.1 in /usr/local/lib/python3.10/dist-packages (from pandas->full-fred) (2024.1)\n",
            "Requirement already satisfied: numpy>=1.21.0 in /usr/local/lib/python3.10/dist-packages (from pandas->full-fred) (1.25.2)\n",
            "Requirement already satisfied: charset-normalizer<4,>=2 in /usr/local/lib/python3.10/dist-packages (from requests->full-fred) (3.3.2)\n",
            "Requirement already satisfied: idna<4,>=2.5 in /usr/local/lib/python3.10/dist-packages (from requests->full-fred) (3.7)\n",
            "Requirement already satisfied: urllib3<3,>=1.21.1 in /usr/local/lib/python3.10/dist-packages (from requests->full-fred) (2.0.7)\n",
            "Requirement already satisfied: certifi>=2017.4.17 in /usr/local/lib/python3.10/dist-packages (from requests->full-fred) (2024.2.2)\n",
            "Requirement already satisfied: six>=1.5 in /usr/local/lib/python3.10/dist-packages (from python-dateutil>=2.8.2->pandas->full-fred) (1.16.0)\n",
            "Installing collected packages: full-fred\n",
            "Successfully installed full-fred-0.0.9a3\n"
          ]
        }
      ]
    },
    {
      "cell_type": "code",
      "source": [
        "import requests\n",
        "import json\n",
        "from full_fred.fred import Fred\n",
        "from google.colab import files\n",
        "import pandas as pd\n",
        "from tqdm import tqdm  # Import tqdm library"
      ],
      "metadata": {
        "id": "bwkQQE-3lFjl"
      },
      "execution_count": null,
      "outputs": []
    },
    {
      "cell_type": "markdown",
      "source": [
        "---"
      ],
      "metadata": {
        "id": "D-6A0dbZgSXu"
      }
    },
    {
      "cell_type": "markdown",
      "source": [
        "\n",
        "### API Key\n",
        "Queries to FRED web service require an API key. FRED has [free API keys available with an account (also free)](https://research.stlouisfed.org/useraccount/apikey)\n",
        "\n",
        "make at least 3 API Keys and add them to the list below"
      ],
      "metadata": {
        "id": "6H61pCoFeARV"
      }
    },
    {
      "cell_type": "code",
      "source": [
        "API_Key_l = ['<api key1>', '<api key2>', '<api key3>']"
      ],
      "metadata": {
        "id": "i1PgHs7qvmee"
      },
      "execution_count": null,
      "outputs": []
    },
    {
      "cell_type": "code",
      "source": [
        "# @title API manager\n",
        "\n",
        "from full_fred.fred import Fred  # Import Fred class from full_fred package\n",
        "\n",
        "class api_manager():\n",
        "  def __init__(self, api_l: list):\n",
        "    # Initialize api_manager with a list of API keys\n",
        "    self._update_api_l(api_l)\n",
        "    # Set the filename for storing the API key\n",
        "    self.api_fn = 'api_key.txt'\n",
        "\n",
        "  def _update_api_l(self, api_l: list):\n",
        "    # Update list of API keys and set counters\n",
        "    self.api_l = api_l\n",
        "    self.n_api = len(api_l)\n",
        "    self.n = 0\n",
        "    self.cycle_api()\n",
        "\n",
        "  def n_up(self):\n",
        "    # Increment counter for cycling through API keys\n",
        "    self.n += 1\n",
        "    # Reset counter to 0 if it reaches the end of the list\n",
        "    if self.n == self.n_api:\n",
        "      self.n = 0\n",
        "\n",
        "  def get_api(self, n = None):\n",
        "    # Get API key by index, or return current API key if index is None\n",
        "    if n is None:\n",
        "      return self.api\n",
        "    else:\n",
        "      return self.api_l[n]\n",
        "\n",
        "  def update_api_f(self):\n",
        "    # Update the API key file with the current API key\n",
        "    api = self.get_api()\n",
        "    with open(self.api_fn, 'w') as file:\n",
        "      file.write(api)\n",
        "    return self.api_fn\n",
        "\n",
        "  def cycle_api(self):\n",
        "    # Cycle to the next API key and return it\n",
        "    self.api = self.get_api(self.n)\n",
        "    self.n_up()\n",
        "    return (self.api)\n",
        "\n",
        "  def cycle_api_file(self, ):\n",
        "    # Cycle to the next API key and update the API key file\n",
        "    self.cycle_api()\n",
        "    return self.update_api_f()\n",
        "\n",
        "  def update_fred(self):\n",
        "    # Update Fred object with the current API key from the API key file\n",
        "    return Fred(self.update_api_f())\n",
        "\n",
        "  def cycle_fred(self):\n",
        "    # Cycle to the next API key and update Fred object\n",
        "    return Fred(self.cycle_api_file())\n"
      ],
      "metadata": {
        "id": "TQKTme4Mw6HD"
      },
      "execution_count": null,
      "outputs": []
    },
    {
      "cell_type": "code",
      "source": [
        "# @title Data Download Object\n",
        "\n",
        "class fred_df_manager:\n",
        "  def __init__(self, config_dict):\n",
        "    # Initialize config_dict\n",
        "    self.config_dict = {}\n",
        "    # Update config_dict with provided configuration\n",
        "    self.update_config(config_dict)\n",
        "\n",
        "  def update_config(self, config_dict):\n",
        "    # Check if anything import ant is missing\n",
        "    check_l = ['api_url', 'date', 'series_id', 'metric_name', 'api_manager']\n",
        "    missing_keys = [key for key in check_l if key not in list(self.config_dict.keys()) + list(config_dict.keys())]\n",
        "\n",
        "    # If missing keys are found, raise ValueError\n",
        "    if len(missing_keys) != 0:\n",
        "      for key in missing_keys:\n",
        "        print(f'Missing: {key} from config')\n",
        "      raise ValueError('Missing keys in config')\n",
        "\n",
        "    # Update config\n",
        "    for key in config_dict:\n",
        "      self.config_dict[key] = config_dict[key]\n",
        "\n",
        "    # URL to get series id\n",
        "    self.api_url_s = self.config_dict['api_url']\n",
        "    # Date\n",
        "    self.date = self.config_dict['date']\n",
        "    # Series\n",
        "    self.series_id = self.config_dict['series_id']\n",
        "    # Metric Name\n",
        "    self.metric_name = self.config_dict['metric_name']\n",
        "    # api_manager\n",
        "    self.api_manager = self.config_dict['api_manager']\n",
        "\n",
        "  def api_json(self, url_s, payload):\n",
        "    # Send API request and return JSON response\n",
        "    r = requests.get(url_s, params = payload)\n",
        "    return r.json()\n",
        "\n",
        "\n",
        "  def get_info(self):\n",
        "    # Payload\n",
        "    payload = {'api_key': self.api_manager.get_api()\n",
        "              , 'file_type': 'json'\n",
        "              , 'series_id': self.series_id\n",
        "              , 'date': self.date}\n",
        "\n",
        "    # info dictionary\n",
        "    info_dict = self.api_json(self.api_url_s, payload)['meta']\n",
        "    for key in info_dict.keys():\n",
        "      v = info_dict[key]\n",
        "      if type(v) in [str, int, float]:\n",
        "        print(f'{key}: {v}')\n",
        "    return info_dict\n",
        "\n",
        "  def get_data_fred(self, sid, tries: int = 3):\n",
        "    # Attempt to download data with specified number of tries\n",
        "    for n_try in range(tries):\n",
        "      try:\n",
        "        # Get series data DataFrame\n",
        "        data_df = self.fred.get_series_df(sid)\n",
        "        return data_df\n",
        "      except:\n",
        "        # Cycle to next API key if download fails\n",
        "        self.fred = self.api_manager.cycle_fred()\n",
        "        print(f\"Switching Keys: {n_try}\")\n",
        "        pass\n",
        "    raise ValueError('Unable to download data')\n",
        "\n",
        "  def get_data(self, sid, tries: int = 3):\n",
        "    # Update fred attribute and return data\n",
        "    self.fred = self.api_manager.update_fred()\n",
        "    return self.get_data_fred(sid, tries)\n",
        "\n",
        "  def download_data(self, rename_dict= None, tries: int = 3):\n",
        "    # Retrieve information dictionary\n",
        "    self.info_dict = self.get_info()\n",
        "    self.fred = self.api_manager.update_fred()\n",
        "\n",
        "    # Define column list for DataFrame\n",
        "    col_l = ['date', 'region', self.metric_name]\n",
        "\n",
        "    # Define dictionary to rename columns in DataFrame\n",
        "    rename_dict = {} if rename_dict is None else rename_dict\n",
        "\n",
        "    # Initialize list to store DataFrames\n",
        "    data_l = []\n",
        "\n",
        "    # Get the total number of iterations\n",
        "    total_iterations = len(self.info_dict['data'][self.date])\n",
        "\n",
        "    # Iterate over data in information dictionary with tqdm for progress bar\n",
        "    # for data_dict in self.info_dict['data'][self.date]:\n",
        "    for data_dict in tqdm(self.info_dict['data'][self.date], total=total_iterations, desc='Downloading data'):\n",
        "      # Download data using series_id and specified number of tries\n",
        "      data_df = self.get_data_fred(data_dict['series_id'], tries)\n",
        "\n",
        "      # Rename columns in DataFrame\n",
        "      data_df = data_df.rename(columns=rename_dict)\n",
        "\n",
        "      # Add additional information from data_dict to DataFrame\n",
        "      for key in data_dict.keys():\n",
        "          data_df[key] = data_dict[key]\n",
        "\n",
        "      # Append DataFrame to list\n",
        "      data_l.append(data_df)\n",
        "\n",
        "    # Concatenate the list of DataFrames into a single DataFrame\n",
        "    combined_df = pd.concat(data_l, ignore_index=True)\n",
        "\n",
        "    # return\n",
        "    return combined_df\n",
        "\n",
        "\n"
      ],
      "metadata": {
        "id": "cUwxSdtFEwFT"
      },
      "execution_count": null,
      "outputs": []
    },
    {
      "cell_type": "markdown",
      "source": [
        "---"
      ],
      "metadata": {
        "id": "A8295gvtnbfq"
      }
    },
    {
      "cell_type": "markdown",
      "source": [
        "# Unemployment Rate"
      ],
      "metadata": {
        "id": "g_eGsSooncnK"
      }
    },
    {
      "cell_type": "code",
      "source": [
        "# Settings\n",
        "snapshot_date = '2024-02-01'\n",
        "series_id = 'WVMERC0URN'\n",
        "metric_name = 'unemployment_rate'\n",
        "\n",
        "\n",
        "# API Manager\n",
        "am = api_manager(API_Key_l)\n",
        "\n",
        "# CONFIG\n",
        "config_dict = {'api_url': 'https://api.stlouisfed.org/geofred/series/data?'\n",
        "               , 'date': snapshot_date\n",
        "               , 'series_id': series_id\n",
        "               , 'metric_name': metric_name\n",
        "               , 'api_manager': am\n",
        "              }\n",
        "\n",
        "# download manager\n",
        "dl_manager = fred_df_manager(config_dict)\n",
        "\n",
        "# download\n",
        "unemployment_rate_df = dl_manager.download_data({'value': metric_name})\n",
        "unemployment_rate_df.head()"
      ],
      "metadata": {
        "colab": {
          "base_uri": "https://localhost:8080/",
          "height": 1000
        },
        "id": "cAJy7cTO4Nxo",
        "outputId": "f2358884-dc42-4de4-942c-e75e3007778c"
      },
      "execution_count": null,
      "outputs": [
        {
          "output_type": "stream",
          "name": "stdout",
          "text": [
            "title: 2024 February Unemployment Rate by County (Percent)\n",
            "region: county\n",
            "seasonality: Not Seasonally Adjusted\n",
            "units: Percent\n",
            "frequency: Monthly\n"
          ]
        },
        {
          "output_type": "stream",
          "name": "stderr",
          "text": [
            "Downloading data:   4%|▍         | 119/3139 [00:26<11:30,  4.37it/s]"
          ]
        },
        {
          "output_type": "stream",
          "name": "stdout",
          "text": [
            "Error Message: Too Many Requests.  Exceeded Rate Limit\n",
            "Switching Keys: 0\n"
          ]
        },
        {
          "output_type": "stream",
          "name": "stderr",
          "text": [
            "Downloading data:   9%|▊         | 268/3139 [01:00<12:46,  3.75it/s]"
          ]
        },
        {
          "output_type": "stream",
          "name": "stdout",
          "text": [
            "Error Message: Too Many Requests.  Exceeded Rate Limit\n",
            "Switching Keys: 0\n"
          ]
        },
        {
          "output_type": "stream",
          "name": "stderr",
          "text": [
            "Downloading data:  12%|█▏        | 387/3139 [01:28<11:27,  4.01it/s]"
          ]
        },
        {
          "output_type": "stream",
          "name": "stdout",
          "text": [
            "Error Message: Too Many Requests.  Exceeded Rate Limit\n",
            "Switching Keys: 0\n"
          ]
        },
        {
          "output_type": "stream",
          "name": "stderr",
          "text": [
            "Downloading data:  17%|█▋        | 523/3139 [02:04<09:40,  4.51it/s]"
          ]
        },
        {
          "output_type": "stream",
          "name": "stdout",
          "text": [
            "Error Message: Too Many Requests.  Exceeded Rate Limit\n",
            "Switching Keys: 0\n"
          ]
        },
        {
          "output_type": "stream",
          "name": "stderr",
          "text": [
            "Downloading data:  24%|██▍       | 761/3139 [03:01<08:53,  4.46it/s]"
          ]
        },
        {
          "output_type": "stream",
          "name": "stdout",
          "text": [
            "Error Message: Too Many Requests.  Exceeded Rate Limit\n",
            "Switching Keys: 0\n"
          ]
        },
        {
          "output_type": "stream",
          "name": "stderr",
          "text": [
            "Downloading data:  28%|██▊       | 881/3139 [03:30<16:57,  2.22it/s]"
          ]
        },
        {
          "output_type": "stream",
          "name": "stdout",
          "text": [
            "Error Message: Too Many Requests.  Exceeded Rate Limit\n",
            "Switching Keys: 0\n"
          ]
        },
        {
          "output_type": "stream",
          "name": "stderr",
          "text": [
            "Downloading data:  32%|███▏      | 1009/3139 [04:00<10:41,  3.32it/s]"
          ]
        },
        {
          "output_type": "stream",
          "name": "stdout",
          "text": [
            "Error Message: Too Many Requests.  Exceeded Rate Limit\n",
            "Switching Keys: 0\n"
          ]
        },
        {
          "output_type": "stream",
          "name": "stderr",
          "text": [
            "Downloading data:  40%|███▉      | 1246/3139 [05:01<07:21,  4.29it/s]"
          ]
        },
        {
          "output_type": "stream",
          "name": "stdout",
          "text": [
            "Error Message: Too Many Requests.  Exceeded Rate Limit\n",
            "Switching Keys: 0\n"
          ]
        },
        {
          "output_type": "stream",
          "name": "stderr",
          "text": [
            "Downloading data:  44%|████▎     | 1366/3139 [05:28<06:27,  4.57it/s]"
          ]
        },
        {
          "output_type": "stream",
          "name": "stdout",
          "text": [
            "Error Message: Too Many Requests.  Exceeded Rate Limit\n",
            "Switching Keys: 0\n"
          ]
        },
        {
          "output_type": "stream",
          "name": "stderr",
          "text": [
            "Downloading data:  48%|████▊     | 1503/3139 [06:00<07:35,  3.59it/s]"
          ]
        },
        {
          "output_type": "stream",
          "name": "stdout",
          "text": [
            "Error Message: Too Many Requests.  Exceeded Rate Limit\n",
            "Switching Keys: 0\n"
          ]
        },
        {
          "output_type": "stream",
          "name": "stderr",
          "text": [
            "Downloading data:  52%|█████▏    | 1623/3139 [06:32<07:49,  3.23it/s]"
          ]
        },
        {
          "output_type": "stream",
          "name": "stdout",
          "text": [
            "Error Message: Too Many Requests.  Exceeded Rate Limit\n",
            "Switching Keys: 0\n"
          ]
        },
        {
          "output_type": "stream",
          "name": "stderr",
          "text": [
            "Downloading data:  56%|█████▌    | 1745/3139 [07:01<05:43,  4.06it/s]"
          ]
        },
        {
          "output_type": "stream",
          "name": "stdout",
          "text": [
            "Error Message: Too Many Requests.  Exceeded Rate Limit\n",
            "Switching Keys: 0\n"
          ]
        },
        {
          "output_type": "stream",
          "name": "stderr",
          "text": [
            "Downloading data:  59%|█████▉    | 1865/3139 [07:29<04:21,  4.87it/s]"
          ]
        },
        {
          "output_type": "stream",
          "name": "stdout",
          "text": [
            "Error Message: Too Many Requests.  Exceeded Rate Limit\n",
            "Switching Keys: 0\n"
          ]
        },
        {
          "output_type": "stream",
          "name": "stderr",
          "text": [
            "Downloading data:  64%|██████▎   | 1999/3139 [08:06<04:48,  3.95it/s]"
          ]
        },
        {
          "output_type": "stream",
          "name": "stdout",
          "text": [
            "Error Message: Too Many Requests.  Exceeded Rate Limit\n",
            "Switching Keys: 0\n"
          ]
        },
        {
          "output_type": "stream",
          "name": "stderr",
          "text": [
            "Downloading data:  71%|███████   | 2221/3139 [09:01<03:22,  4.54it/s]"
          ]
        },
        {
          "output_type": "stream",
          "name": "stdout",
          "text": [
            "Error Message: Too Many Requests.  Exceeded Rate Limit\n",
            "Switching Keys: 0\n"
          ]
        },
        {
          "output_type": "stream",
          "name": "stderr",
          "text": [
            "Downloading data:  75%|███████▍  | 2341/3139 [09:29<02:40,  4.96it/s]"
          ]
        },
        {
          "output_type": "stream",
          "name": "stdout",
          "text": [
            "Error Message: Too Many Requests.  Exceeded Rate Limit\n",
            "Switching Keys: 0\n"
          ]
        },
        {
          "output_type": "stream",
          "name": "stderr",
          "text": [
            "Downloading data:  79%|███████▉  | 2475/3139 [10:00<02:42,  4.10it/s]"
          ]
        },
        {
          "output_type": "stream",
          "name": "stdout",
          "text": [
            "Error Message: Too Many Requests.  Exceeded Rate Limit\n",
            "Switching Keys: 0\n"
          ]
        },
        {
          "output_type": "stream",
          "name": "stderr",
          "text": [
            "Downloading data:  83%|████████▎ | 2596/3139 [10:28<02:18,  3.92it/s]"
          ]
        },
        {
          "output_type": "stream",
          "name": "stdout",
          "text": [
            "Error Message: Too Many Requests.  Exceeded Rate Limit\n",
            "Switching Keys: 0\n"
          ]
        },
        {
          "output_type": "stream",
          "name": "stderr",
          "text": [
            "Downloading data:  87%|████████▋ | 2737/3139 [11:00<01:41,  3.94it/s]"
          ]
        },
        {
          "output_type": "stream",
          "name": "stdout",
          "text": [
            "Error Message: Too Many Requests.  Exceeded Rate Limit\n",
            "Switching Keys: 0\n"
          ]
        },
        {
          "output_type": "stream",
          "name": "stderr",
          "text": [
            "Downloading data:  91%|█████████ | 2856/3139 [11:27<00:59,  4.79it/s]"
          ]
        },
        {
          "output_type": "stream",
          "name": "stdout",
          "text": [
            "Error Message: Too Many Requests.  Exceeded Rate Limit\n",
            "Switching Keys: 0\n"
          ]
        },
        {
          "output_type": "stream",
          "name": "stderr",
          "text": [
            "Downloading data:  96%|█████████▌| 3000/3139 [12:05<00:32,  4.27it/s]"
          ]
        },
        {
          "output_type": "stream",
          "name": "stdout",
          "text": [
            "Error Message: Too Many Requests.  Exceeded Rate Limit\n",
            "Switching Keys: 0\n"
          ]
        },
        {
          "output_type": "stream",
          "name": "stderr",
          "text": [
            "Downloading data: 100%|██████████| 3139/3139 [12:38<00:00,  4.14it/s]\n"
          ]
        },
        {
          "output_type": "execute_result",
          "data": {
            "text/plain": [
              "  realtime_start realtime_end        date unemployment_rate  \\\n",
              "0     2024-04-21   2024-04-21  1990-01-01               1.8   \n",
              "1     2024-04-21   2024-04-21  1990-02-01               2.0   \n",
              "2     2024-04-21   2024-04-21  1990-03-01               1.7   \n",
              "3     2024-04-21   2024-04-21  1990-04-01               2.1   \n",
              "4     2024-04-21   2024-04-21  1990-05-01               2.0   \n",
              "\n",
              "                   region   code  value   series_id  \n",
              "0  Manassas Park City, VA  51685    2.5  VAMANA5URN  \n",
              "1  Manassas Park City, VA  51685    2.5  VAMANA5URN  \n",
              "2  Manassas Park City, VA  51685    2.5  VAMANA5URN  \n",
              "3  Manassas Park City, VA  51685    2.5  VAMANA5URN  \n",
              "4  Manassas Park City, VA  51685    2.5  VAMANA5URN  "
            ],
            "text/html": [
              "\n",
              "  <div id=\"df-671acb95-ff0c-4761-a3c7-146fa0db16fa\" class=\"colab-df-container\">\n",
              "    <div>\n",
              "<style scoped>\n",
              "    .dataframe tbody tr th:only-of-type {\n",
              "        vertical-align: middle;\n",
              "    }\n",
              "\n",
              "    .dataframe tbody tr th {\n",
              "        vertical-align: top;\n",
              "    }\n",
              "\n",
              "    .dataframe thead th {\n",
              "        text-align: right;\n",
              "    }\n",
              "</style>\n",
              "<table border=\"1\" class=\"dataframe\">\n",
              "  <thead>\n",
              "    <tr style=\"text-align: right;\">\n",
              "      <th></th>\n",
              "      <th>realtime_start</th>\n",
              "      <th>realtime_end</th>\n",
              "      <th>date</th>\n",
              "      <th>unemployment_rate</th>\n",
              "      <th>region</th>\n",
              "      <th>code</th>\n",
              "      <th>value</th>\n",
              "      <th>series_id</th>\n",
              "    </tr>\n",
              "  </thead>\n",
              "  <tbody>\n",
              "    <tr>\n",
              "      <th>0</th>\n",
              "      <td>2024-04-21</td>\n",
              "      <td>2024-04-21</td>\n",
              "      <td>1990-01-01</td>\n",
              "      <td>1.8</td>\n",
              "      <td>Manassas Park City, VA</td>\n",
              "      <td>51685</td>\n",
              "      <td>2.5</td>\n",
              "      <td>VAMANA5URN</td>\n",
              "    </tr>\n",
              "    <tr>\n",
              "      <th>1</th>\n",
              "      <td>2024-04-21</td>\n",
              "      <td>2024-04-21</td>\n",
              "      <td>1990-02-01</td>\n",
              "      <td>2.0</td>\n",
              "      <td>Manassas Park City, VA</td>\n",
              "      <td>51685</td>\n",
              "      <td>2.5</td>\n",
              "      <td>VAMANA5URN</td>\n",
              "    </tr>\n",
              "    <tr>\n",
              "      <th>2</th>\n",
              "      <td>2024-04-21</td>\n",
              "      <td>2024-04-21</td>\n",
              "      <td>1990-03-01</td>\n",
              "      <td>1.7</td>\n",
              "      <td>Manassas Park City, VA</td>\n",
              "      <td>51685</td>\n",
              "      <td>2.5</td>\n",
              "      <td>VAMANA5URN</td>\n",
              "    </tr>\n",
              "    <tr>\n",
              "      <th>3</th>\n",
              "      <td>2024-04-21</td>\n",
              "      <td>2024-04-21</td>\n",
              "      <td>1990-04-01</td>\n",
              "      <td>2.1</td>\n",
              "      <td>Manassas Park City, VA</td>\n",
              "      <td>51685</td>\n",
              "      <td>2.5</td>\n",
              "      <td>VAMANA5URN</td>\n",
              "    </tr>\n",
              "    <tr>\n",
              "      <th>4</th>\n",
              "      <td>2024-04-21</td>\n",
              "      <td>2024-04-21</td>\n",
              "      <td>1990-05-01</td>\n",
              "      <td>2.0</td>\n",
              "      <td>Manassas Park City, VA</td>\n",
              "      <td>51685</td>\n",
              "      <td>2.5</td>\n",
              "      <td>VAMANA5URN</td>\n",
              "    </tr>\n",
              "  </tbody>\n",
              "</table>\n",
              "</div>\n",
              "    <div class=\"colab-df-buttons\">\n",
              "\n",
              "  <div class=\"colab-df-container\">\n",
              "    <button class=\"colab-df-convert\" onclick=\"convertToInteractive('df-671acb95-ff0c-4761-a3c7-146fa0db16fa')\"\n",
              "            title=\"Convert this dataframe to an interactive table.\"\n",
              "            style=\"display:none;\">\n",
              "\n",
              "  <svg xmlns=\"http://www.w3.org/2000/svg\" height=\"24px\" viewBox=\"0 -960 960 960\">\n",
              "    <path d=\"M120-120v-720h720v720H120Zm60-500h600v-160H180v160Zm220 220h160v-160H400v160Zm0 220h160v-160H400v160ZM180-400h160v-160H180v160Zm440 0h160v-160H620v160ZM180-180h160v-160H180v160Zm440 0h160v-160H620v160Z\"/>\n",
              "  </svg>\n",
              "    </button>\n",
              "\n",
              "  <style>\n",
              "    .colab-df-container {\n",
              "      display:flex;\n",
              "      gap: 12px;\n",
              "    }\n",
              "\n",
              "    .colab-df-convert {\n",
              "      background-color: #E8F0FE;\n",
              "      border: none;\n",
              "      border-radius: 50%;\n",
              "      cursor: pointer;\n",
              "      display: none;\n",
              "      fill: #1967D2;\n",
              "      height: 32px;\n",
              "      padding: 0 0 0 0;\n",
              "      width: 32px;\n",
              "    }\n",
              "\n",
              "    .colab-df-convert:hover {\n",
              "      background-color: #E2EBFA;\n",
              "      box-shadow: 0px 1px 2px rgba(60, 64, 67, 0.3), 0px 1px 3px 1px rgba(60, 64, 67, 0.15);\n",
              "      fill: #174EA6;\n",
              "    }\n",
              "\n",
              "    .colab-df-buttons div {\n",
              "      margin-bottom: 4px;\n",
              "    }\n",
              "\n",
              "    [theme=dark] .colab-df-convert {\n",
              "      background-color: #3B4455;\n",
              "      fill: #D2E3FC;\n",
              "    }\n",
              "\n",
              "    [theme=dark] .colab-df-convert:hover {\n",
              "      background-color: #434B5C;\n",
              "      box-shadow: 0px 1px 3px 1px rgba(0, 0, 0, 0.15);\n",
              "      filter: drop-shadow(0px 1px 2px rgba(0, 0, 0, 0.3));\n",
              "      fill: #FFFFFF;\n",
              "    }\n",
              "  </style>\n",
              "\n",
              "    <script>\n",
              "      const buttonEl =\n",
              "        document.querySelector('#df-671acb95-ff0c-4761-a3c7-146fa0db16fa button.colab-df-convert');\n",
              "      buttonEl.style.display =\n",
              "        google.colab.kernel.accessAllowed ? 'block' : 'none';\n",
              "\n",
              "      async function convertToInteractive(key) {\n",
              "        const element = document.querySelector('#df-671acb95-ff0c-4761-a3c7-146fa0db16fa');\n",
              "        const dataTable =\n",
              "          await google.colab.kernel.invokeFunction('convertToInteractive',\n",
              "                                                    [key], {});\n",
              "        if (!dataTable) return;\n",
              "\n",
              "        const docLinkHtml = 'Like what you see? Visit the ' +\n",
              "          '<a target=\"_blank\" href=https://colab.research.google.com/notebooks/data_table.ipynb>data table notebook</a>'\n",
              "          + ' to learn more about interactive tables.';\n",
              "        element.innerHTML = '';\n",
              "        dataTable['output_type'] = 'display_data';\n",
              "        await google.colab.output.renderOutput(dataTable, element);\n",
              "        const docLink = document.createElement('div');\n",
              "        docLink.innerHTML = docLinkHtml;\n",
              "        element.appendChild(docLink);\n",
              "      }\n",
              "    </script>\n",
              "  </div>\n",
              "\n",
              "\n",
              "<div id=\"df-c84094c2-6e2f-4494-b153-5ad8caae74c8\">\n",
              "  <button class=\"colab-df-quickchart\" onclick=\"quickchart('df-c84094c2-6e2f-4494-b153-5ad8caae74c8')\"\n",
              "            title=\"Suggest charts\"\n",
              "            style=\"display:none;\">\n",
              "\n",
              "<svg xmlns=\"http://www.w3.org/2000/svg\" height=\"24px\"viewBox=\"0 0 24 24\"\n",
              "     width=\"24px\">\n",
              "    <g>\n",
              "        <path d=\"M19 3H5c-1.1 0-2 .9-2 2v14c0 1.1.9 2 2 2h14c1.1 0 2-.9 2-2V5c0-1.1-.9-2-2-2zM9 17H7v-7h2v7zm4 0h-2V7h2v10zm4 0h-2v-4h2v4z\"/>\n",
              "    </g>\n",
              "</svg>\n",
              "  </button>\n",
              "\n",
              "<style>\n",
              "  .colab-df-quickchart {\n",
              "      --bg-color: #E8F0FE;\n",
              "      --fill-color: #1967D2;\n",
              "      --hover-bg-color: #E2EBFA;\n",
              "      --hover-fill-color: #174EA6;\n",
              "      --disabled-fill-color: #AAA;\n",
              "      --disabled-bg-color: #DDD;\n",
              "  }\n",
              "\n",
              "  [theme=dark] .colab-df-quickchart {\n",
              "      --bg-color: #3B4455;\n",
              "      --fill-color: #D2E3FC;\n",
              "      --hover-bg-color: #434B5C;\n",
              "      --hover-fill-color: #FFFFFF;\n",
              "      --disabled-bg-color: #3B4455;\n",
              "      --disabled-fill-color: #666;\n",
              "  }\n",
              "\n",
              "  .colab-df-quickchart {\n",
              "    background-color: var(--bg-color);\n",
              "    border: none;\n",
              "    border-radius: 50%;\n",
              "    cursor: pointer;\n",
              "    display: none;\n",
              "    fill: var(--fill-color);\n",
              "    height: 32px;\n",
              "    padding: 0;\n",
              "    width: 32px;\n",
              "  }\n",
              "\n",
              "  .colab-df-quickchart:hover {\n",
              "    background-color: var(--hover-bg-color);\n",
              "    box-shadow: 0 1px 2px rgba(60, 64, 67, 0.3), 0 1px 3px 1px rgba(60, 64, 67, 0.15);\n",
              "    fill: var(--button-hover-fill-color);\n",
              "  }\n",
              "\n",
              "  .colab-df-quickchart-complete:disabled,\n",
              "  .colab-df-quickchart-complete:disabled:hover {\n",
              "    background-color: var(--disabled-bg-color);\n",
              "    fill: var(--disabled-fill-color);\n",
              "    box-shadow: none;\n",
              "  }\n",
              "\n",
              "  .colab-df-spinner {\n",
              "    border: 2px solid var(--fill-color);\n",
              "    border-color: transparent;\n",
              "    border-bottom-color: var(--fill-color);\n",
              "    animation:\n",
              "      spin 1s steps(1) infinite;\n",
              "  }\n",
              "\n",
              "  @keyframes spin {\n",
              "    0% {\n",
              "      border-color: transparent;\n",
              "      border-bottom-color: var(--fill-color);\n",
              "      border-left-color: var(--fill-color);\n",
              "    }\n",
              "    20% {\n",
              "      border-color: transparent;\n",
              "      border-left-color: var(--fill-color);\n",
              "      border-top-color: var(--fill-color);\n",
              "    }\n",
              "    30% {\n",
              "      border-color: transparent;\n",
              "      border-left-color: var(--fill-color);\n",
              "      border-top-color: var(--fill-color);\n",
              "      border-right-color: var(--fill-color);\n",
              "    }\n",
              "    40% {\n",
              "      border-color: transparent;\n",
              "      border-right-color: var(--fill-color);\n",
              "      border-top-color: var(--fill-color);\n",
              "    }\n",
              "    60% {\n",
              "      border-color: transparent;\n",
              "      border-right-color: var(--fill-color);\n",
              "    }\n",
              "    80% {\n",
              "      border-color: transparent;\n",
              "      border-right-color: var(--fill-color);\n",
              "      border-bottom-color: var(--fill-color);\n",
              "    }\n",
              "    90% {\n",
              "      border-color: transparent;\n",
              "      border-bottom-color: var(--fill-color);\n",
              "    }\n",
              "  }\n",
              "</style>\n",
              "\n",
              "  <script>\n",
              "    async function quickchart(key) {\n",
              "      const quickchartButtonEl =\n",
              "        document.querySelector('#' + key + ' button');\n",
              "      quickchartButtonEl.disabled = true;  // To prevent multiple clicks.\n",
              "      quickchartButtonEl.classList.add('colab-df-spinner');\n",
              "      try {\n",
              "        const charts = await google.colab.kernel.invokeFunction(\n",
              "            'suggestCharts', [key], {});\n",
              "      } catch (error) {\n",
              "        console.error('Error during call to suggestCharts:', error);\n",
              "      }\n",
              "      quickchartButtonEl.classList.remove('colab-df-spinner');\n",
              "      quickchartButtonEl.classList.add('colab-df-quickchart-complete');\n",
              "    }\n",
              "    (() => {\n",
              "      let quickchartButtonEl =\n",
              "        document.querySelector('#df-c84094c2-6e2f-4494-b153-5ad8caae74c8 button');\n",
              "      quickchartButtonEl.style.display =\n",
              "        google.colab.kernel.accessAllowed ? 'block' : 'none';\n",
              "    })();\n",
              "  </script>\n",
              "</div>\n",
              "\n",
              "    </div>\n",
              "  </div>\n"
            ],
            "application/vnd.google.colaboratory.intrinsic+json": {
              "type": "dataframe",
              "variable_name": "unemployment_rate_df"
            }
          },
          "metadata": {},
          "execution_count": 38
        }
      ]
    },
    {
      "cell_type": "code",
      "source": [
        "# Cleaning\n",
        "col_l = ['date', 'year', 'month', 'country', 'region', 'state', 'county', 'code', metric_name]\n",
        "\n",
        "unemployment_rate_df['date'] = pd.to_datetime(unemployment_rate_df['date'])\n",
        "unemployment_rate_df['year'] = unemployment_rate_df['date'].dt.year\n",
        "unemployment_rate_df['month'] = unemployment_rate_df['date'].dt.month\n",
        "unemployment_rate_df['date'] = unemployment_rate_df['date'].dt.date\n",
        "\n",
        "unemployment_rate_df['country'] = 'USA'\n",
        "unemployment_rate_df['state'] = unemployment_rate_df['region'].apply(lambda x: str(x).split(',')[-1].strip())\n",
        "unemployment_rate_df['county'] = unemployment_rate_df['region'].apply(lambda x: str(x).split(',')[0].strip())\n",
        "unemployment_rate_df = unemployment_rate_df[col_l]\n",
        "\n",
        "unemployment_rate_df.head()"
      ],
      "metadata": {
        "colab": {
          "base_uri": "https://localhost:8080/",
          "height": 206
        },
        "id": "-m-11pQNknaS",
        "outputId": "54ca9686-1543-4700-ca4b-c2aa7d58da20"
      },
      "execution_count": null,
      "outputs": [
        {
          "output_type": "execute_result",
          "data": {
            "text/plain": [
              "         date  year  month country                  region state  \\\n",
              "0  1990-01-01  1990      1     USA  Manassas Park City, VA    VA   \n",
              "1  1990-02-01  1990      2     USA  Manassas Park City, VA    VA   \n",
              "2  1990-03-01  1990      3     USA  Manassas Park City, VA    VA   \n",
              "3  1990-04-01  1990      4     USA  Manassas Park City, VA    VA   \n",
              "4  1990-05-01  1990      5     USA  Manassas Park City, VA    VA   \n",
              "\n",
              "               county   code unemployment_rate  \n",
              "0  Manassas Park City  51685               1.8  \n",
              "1  Manassas Park City  51685               2.0  \n",
              "2  Manassas Park City  51685               1.7  \n",
              "3  Manassas Park City  51685               2.1  \n",
              "4  Manassas Park City  51685               2.0  "
            ],
            "text/html": [
              "\n",
              "  <div id=\"df-32c95865-1d58-4947-b745-a789654fc76a\" class=\"colab-df-container\">\n",
              "    <div>\n",
              "<style scoped>\n",
              "    .dataframe tbody tr th:only-of-type {\n",
              "        vertical-align: middle;\n",
              "    }\n",
              "\n",
              "    .dataframe tbody tr th {\n",
              "        vertical-align: top;\n",
              "    }\n",
              "\n",
              "    .dataframe thead th {\n",
              "        text-align: right;\n",
              "    }\n",
              "</style>\n",
              "<table border=\"1\" class=\"dataframe\">\n",
              "  <thead>\n",
              "    <tr style=\"text-align: right;\">\n",
              "      <th></th>\n",
              "      <th>date</th>\n",
              "      <th>year</th>\n",
              "      <th>month</th>\n",
              "      <th>country</th>\n",
              "      <th>region</th>\n",
              "      <th>state</th>\n",
              "      <th>county</th>\n",
              "      <th>code</th>\n",
              "      <th>unemployment_rate</th>\n",
              "    </tr>\n",
              "  </thead>\n",
              "  <tbody>\n",
              "    <tr>\n",
              "      <th>0</th>\n",
              "      <td>1990-01-01</td>\n",
              "      <td>1990</td>\n",
              "      <td>1</td>\n",
              "      <td>USA</td>\n",
              "      <td>Manassas Park City, VA</td>\n",
              "      <td>VA</td>\n",
              "      <td>Manassas Park City</td>\n",
              "      <td>51685</td>\n",
              "      <td>1.8</td>\n",
              "    </tr>\n",
              "    <tr>\n",
              "      <th>1</th>\n",
              "      <td>1990-02-01</td>\n",
              "      <td>1990</td>\n",
              "      <td>2</td>\n",
              "      <td>USA</td>\n",
              "      <td>Manassas Park City, VA</td>\n",
              "      <td>VA</td>\n",
              "      <td>Manassas Park City</td>\n",
              "      <td>51685</td>\n",
              "      <td>2.0</td>\n",
              "    </tr>\n",
              "    <tr>\n",
              "      <th>2</th>\n",
              "      <td>1990-03-01</td>\n",
              "      <td>1990</td>\n",
              "      <td>3</td>\n",
              "      <td>USA</td>\n",
              "      <td>Manassas Park City, VA</td>\n",
              "      <td>VA</td>\n",
              "      <td>Manassas Park City</td>\n",
              "      <td>51685</td>\n",
              "      <td>1.7</td>\n",
              "    </tr>\n",
              "    <tr>\n",
              "      <th>3</th>\n",
              "      <td>1990-04-01</td>\n",
              "      <td>1990</td>\n",
              "      <td>4</td>\n",
              "      <td>USA</td>\n",
              "      <td>Manassas Park City, VA</td>\n",
              "      <td>VA</td>\n",
              "      <td>Manassas Park City</td>\n",
              "      <td>51685</td>\n",
              "      <td>2.1</td>\n",
              "    </tr>\n",
              "    <tr>\n",
              "      <th>4</th>\n",
              "      <td>1990-05-01</td>\n",
              "      <td>1990</td>\n",
              "      <td>5</td>\n",
              "      <td>USA</td>\n",
              "      <td>Manassas Park City, VA</td>\n",
              "      <td>VA</td>\n",
              "      <td>Manassas Park City</td>\n",
              "      <td>51685</td>\n",
              "      <td>2.0</td>\n",
              "    </tr>\n",
              "  </tbody>\n",
              "</table>\n",
              "</div>\n",
              "    <div class=\"colab-df-buttons\">\n",
              "\n",
              "  <div class=\"colab-df-container\">\n",
              "    <button class=\"colab-df-convert\" onclick=\"convertToInteractive('df-32c95865-1d58-4947-b745-a789654fc76a')\"\n",
              "            title=\"Convert this dataframe to an interactive table.\"\n",
              "            style=\"display:none;\">\n",
              "\n",
              "  <svg xmlns=\"http://www.w3.org/2000/svg\" height=\"24px\" viewBox=\"0 -960 960 960\">\n",
              "    <path d=\"M120-120v-720h720v720H120Zm60-500h600v-160H180v160Zm220 220h160v-160H400v160Zm0 220h160v-160H400v160ZM180-400h160v-160H180v160Zm440 0h160v-160H620v160ZM180-180h160v-160H180v160Zm440 0h160v-160H620v160Z\"/>\n",
              "  </svg>\n",
              "    </button>\n",
              "\n",
              "  <style>\n",
              "    .colab-df-container {\n",
              "      display:flex;\n",
              "      gap: 12px;\n",
              "    }\n",
              "\n",
              "    .colab-df-convert {\n",
              "      background-color: #E8F0FE;\n",
              "      border: none;\n",
              "      border-radius: 50%;\n",
              "      cursor: pointer;\n",
              "      display: none;\n",
              "      fill: #1967D2;\n",
              "      height: 32px;\n",
              "      padding: 0 0 0 0;\n",
              "      width: 32px;\n",
              "    }\n",
              "\n",
              "    .colab-df-convert:hover {\n",
              "      background-color: #E2EBFA;\n",
              "      box-shadow: 0px 1px 2px rgba(60, 64, 67, 0.3), 0px 1px 3px 1px rgba(60, 64, 67, 0.15);\n",
              "      fill: #174EA6;\n",
              "    }\n",
              "\n",
              "    .colab-df-buttons div {\n",
              "      margin-bottom: 4px;\n",
              "    }\n",
              "\n",
              "    [theme=dark] .colab-df-convert {\n",
              "      background-color: #3B4455;\n",
              "      fill: #D2E3FC;\n",
              "    }\n",
              "\n",
              "    [theme=dark] .colab-df-convert:hover {\n",
              "      background-color: #434B5C;\n",
              "      box-shadow: 0px 1px 3px 1px rgba(0, 0, 0, 0.15);\n",
              "      filter: drop-shadow(0px 1px 2px rgba(0, 0, 0, 0.3));\n",
              "      fill: #FFFFFF;\n",
              "    }\n",
              "  </style>\n",
              "\n",
              "    <script>\n",
              "      const buttonEl =\n",
              "        document.querySelector('#df-32c95865-1d58-4947-b745-a789654fc76a button.colab-df-convert');\n",
              "      buttonEl.style.display =\n",
              "        google.colab.kernel.accessAllowed ? 'block' : 'none';\n",
              "\n",
              "      async function convertToInteractive(key) {\n",
              "        const element = document.querySelector('#df-32c95865-1d58-4947-b745-a789654fc76a');\n",
              "        const dataTable =\n",
              "          await google.colab.kernel.invokeFunction('convertToInteractive',\n",
              "                                                    [key], {});\n",
              "        if (!dataTable) return;\n",
              "\n",
              "        const docLinkHtml = 'Like what you see? Visit the ' +\n",
              "          '<a target=\"_blank\" href=https://colab.research.google.com/notebooks/data_table.ipynb>data table notebook</a>'\n",
              "          + ' to learn more about interactive tables.';\n",
              "        element.innerHTML = '';\n",
              "        dataTable['output_type'] = 'display_data';\n",
              "        await google.colab.output.renderOutput(dataTable, element);\n",
              "        const docLink = document.createElement('div');\n",
              "        docLink.innerHTML = docLinkHtml;\n",
              "        element.appendChild(docLink);\n",
              "      }\n",
              "    </script>\n",
              "  </div>\n",
              "\n",
              "\n",
              "<div id=\"df-a152510e-96e5-4aeb-999a-72e6e6523976\">\n",
              "  <button class=\"colab-df-quickchart\" onclick=\"quickchart('df-a152510e-96e5-4aeb-999a-72e6e6523976')\"\n",
              "            title=\"Suggest charts\"\n",
              "            style=\"display:none;\">\n",
              "\n",
              "<svg xmlns=\"http://www.w3.org/2000/svg\" height=\"24px\"viewBox=\"0 0 24 24\"\n",
              "     width=\"24px\">\n",
              "    <g>\n",
              "        <path d=\"M19 3H5c-1.1 0-2 .9-2 2v14c0 1.1.9 2 2 2h14c1.1 0 2-.9 2-2V5c0-1.1-.9-2-2-2zM9 17H7v-7h2v7zm4 0h-2V7h2v10zm4 0h-2v-4h2v4z\"/>\n",
              "    </g>\n",
              "</svg>\n",
              "  </button>\n",
              "\n",
              "<style>\n",
              "  .colab-df-quickchart {\n",
              "      --bg-color: #E8F0FE;\n",
              "      --fill-color: #1967D2;\n",
              "      --hover-bg-color: #E2EBFA;\n",
              "      --hover-fill-color: #174EA6;\n",
              "      --disabled-fill-color: #AAA;\n",
              "      --disabled-bg-color: #DDD;\n",
              "  }\n",
              "\n",
              "  [theme=dark] .colab-df-quickchart {\n",
              "      --bg-color: #3B4455;\n",
              "      --fill-color: #D2E3FC;\n",
              "      --hover-bg-color: #434B5C;\n",
              "      --hover-fill-color: #FFFFFF;\n",
              "      --disabled-bg-color: #3B4455;\n",
              "      --disabled-fill-color: #666;\n",
              "  }\n",
              "\n",
              "  .colab-df-quickchart {\n",
              "    background-color: var(--bg-color);\n",
              "    border: none;\n",
              "    border-radius: 50%;\n",
              "    cursor: pointer;\n",
              "    display: none;\n",
              "    fill: var(--fill-color);\n",
              "    height: 32px;\n",
              "    padding: 0;\n",
              "    width: 32px;\n",
              "  }\n",
              "\n",
              "  .colab-df-quickchart:hover {\n",
              "    background-color: var(--hover-bg-color);\n",
              "    box-shadow: 0 1px 2px rgba(60, 64, 67, 0.3), 0 1px 3px 1px rgba(60, 64, 67, 0.15);\n",
              "    fill: var(--button-hover-fill-color);\n",
              "  }\n",
              "\n",
              "  .colab-df-quickchart-complete:disabled,\n",
              "  .colab-df-quickchart-complete:disabled:hover {\n",
              "    background-color: var(--disabled-bg-color);\n",
              "    fill: var(--disabled-fill-color);\n",
              "    box-shadow: none;\n",
              "  }\n",
              "\n",
              "  .colab-df-spinner {\n",
              "    border: 2px solid var(--fill-color);\n",
              "    border-color: transparent;\n",
              "    border-bottom-color: var(--fill-color);\n",
              "    animation:\n",
              "      spin 1s steps(1) infinite;\n",
              "  }\n",
              "\n",
              "  @keyframes spin {\n",
              "    0% {\n",
              "      border-color: transparent;\n",
              "      border-bottom-color: var(--fill-color);\n",
              "      border-left-color: var(--fill-color);\n",
              "    }\n",
              "    20% {\n",
              "      border-color: transparent;\n",
              "      border-left-color: var(--fill-color);\n",
              "      border-top-color: var(--fill-color);\n",
              "    }\n",
              "    30% {\n",
              "      border-color: transparent;\n",
              "      border-left-color: var(--fill-color);\n",
              "      border-top-color: var(--fill-color);\n",
              "      border-right-color: var(--fill-color);\n",
              "    }\n",
              "    40% {\n",
              "      border-color: transparent;\n",
              "      border-right-color: var(--fill-color);\n",
              "      border-top-color: var(--fill-color);\n",
              "    }\n",
              "    60% {\n",
              "      border-color: transparent;\n",
              "      border-right-color: var(--fill-color);\n",
              "    }\n",
              "    80% {\n",
              "      border-color: transparent;\n",
              "      border-right-color: var(--fill-color);\n",
              "      border-bottom-color: var(--fill-color);\n",
              "    }\n",
              "    90% {\n",
              "      border-color: transparent;\n",
              "      border-bottom-color: var(--fill-color);\n",
              "    }\n",
              "  }\n",
              "</style>\n",
              "\n",
              "  <script>\n",
              "    async function quickchart(key) {\n",
              "      const quickchartButtonEl =\n",
              "        document.querySelector('#' + key + ' button');\n",
              "      quickchartButtonEl.disabled = true;  // To prevent multiple clicks.\n",
              "      quickchartButtonEl.classList.add('colab-df-spinner');\n",
              "      try {\n",
              "        const charts = await google.colab.kernel.invokeFunction(\n",
              "            'suggestCharts', [key], {});\n",
              "      } catch (error) {\n",
              "        console.error('Error during call to suggestCharts:', error);\n",
              "      }\n",
              "      quickchartButtonEl.classList.remove('colab-df-spinner');\n",
              "      quickchartButtonEl.classList.add('colab-df-quickchart-complete');\n",
              "    }\n",
              "    (() => {\n",
              "      let quickchartButtonEl =\n",
              "        document.querySelector('#df-a152510e-96e5-4aeb-999a-72e6e6523976 button');\n",
              "      quickchartButtonEl.style.display =\n",
              "        google.colab.kernel.accessAllowed ? 'block' : 'none';\n",
              "    })();\n",
              "  </script>\n",
              "</div>\n",
              "\n",
              "    </div>\n",
              "  </div>\n"
            ],
            "application/vnd.google.colaboratory.intrinsic+json": {
              "type": "dataframe",
              "variable_name": "unemployment_rate_df"
            }
          },
          "metadata": {},
          "execution_count": 51
        }
      ]
    },
    {
      "cell_type": "code",
      "source": [
        "# download data\n",
        "fn = f'{metric_name}.csv'\n",
        "unemployment_rate_df.to_csv(fn, index=False)\n",
        "files.download(fn)"
      ],
      "metadata": {
        "colab": {
          "base_uri": "https://localhost:8080/",
          "height": 17
        },
        "id": "dalLKFKTnCSj",
        "outputId": "f80e31ee-e659-47b7-b4d3-3efe242aae74"
      },
      "execution_count": null,
      "outputs": [
        {
          "output_type": "display_data",
          "data": {
            "text/plain": [
              "<IPython.core.display.Javascript object>"
            ],
            "application/javascript": [
              "\n",
              "    async function download(id, filename, size) {\n",
              "      if (!google.colab.kernel.accessAllowed) {\n",
              "        return;\n",
              "      }\n",
              "      const div = document.createElement('div');\n",
              "      const label = document.createElement('label');\n",
              "      label.textContent = `Downloading \"${filename}\": `;\n",
              "      div.appendChild(label);\n",
              "      const progress = document.createElement('progress');\n",
              "      progress.max = size;\n",
              "      div.appendChild(progress);\n",
              "      document.body.appendChild(div);\n",
              "\n",
              "      const buffers = [];\n",
              "      let downloaded = 0;\n",
              "\n",
              "      const channel = await google.colab.kernel.comms.open(id);\n",
              "      // Send a message to notify the kernel that we're ready.\n",
              "      channel.send({})\n",
              "\n",
              "      for await (const message of channel.messages) {\n",
              "        // Send a message to notify the kernel that we're ready.\n",
              "        channel.send({})\n",
              "        if (message.buffers) {\n",
              "          for (const buffer of message.buffers) {\n",
              "            buffers.push(buffer);\n",
              "            downloaded += buffer.byteLength;\n",
              "            progress.value = downloaded;\n",
              "          }\n",
              "        }\n",
              "      }\n",
              "      const blob = new Blob(buffers, {type: 'application/binary'});\n",
              "      const a = document.createElement('a');\n",
              "      a.href = window.URL.createObjectURL(blob);\n",
              "      a.download = filename;\n",
              "      div.appendChild(a);\n",
              "      a.click();\n",
              "      div.remove();\n",
              "    }\n",
              "  "
            ]
          },
          "metadata": {}
        },
        {
          "output_type": "display_data",
          "data": {
            "text/plain": [
              "<IPython.core.display.Javascript object>"
            ],
            "application/javascript": [
              "download(\"download_7b1e2452-0530-4a77-ba23-00cc1d09fdf7\", \"unemployment_rate.csv\", 91770251)"
            ]
          },
          "metadata": {}
        }
      ]
    },
    {
      "cell_type": "markdown",
      "source": [
        "---\n",
        "---\n",
        "---"
      ],
      "metadata": {
        "id": "Pru1blk8nKXj"
      }
    },
    {
      "cell_type": "code",
      "source": [
        "# Settings\n",
        "snapshot_date = '2024-02-01'\n",
        "series_id = 'MELIPRMMCOUNTY6059'\n",
        "metric_name = 'market_hotness_prec_change'\n",
        "\n",
        "\n",
        "# API Manager\n",
        "am = api_manager(API_Key_l)\n",
        "\n",
        "# CONFIG\n",
        "config_dict = {'api_url': 'https://api.stlouisfed.org/geofred/series/data?'\n",
        "               , 'date': snapshot_date\n",
        "               , 'series_id': series_id\n",
        "               , 'metric_name': metric_name\n",
        "               , 'api_manager': am\n",
        "              }\n",
        "\n",
        "# download manager\n",
        "dl_manager = fred_df_manager(config_dict)\n",
        "\n",
        "# # test\n",
        "# market_hotness_rate_df = dl_manager.get_data(series_id)\n",
        "\n",
        "\n",
        "# # download\n",
        "market_hotness_rate_df = dl_manager.download_data({'value': metric_name})\n",
        "\n",
        "# PREVIEW\n",
        "market_hotness_rate_df.head()"
      ],
      "metadata": {
        "colab": {
          "base_uri": "https://localhost:8080/",
          "height": 650
        },
        "id": "iEeVGHXBnoGq",
        "outputId": "49d88e3c-edf3-4b43-84c5-bf1fb820a783"
      },
      "execution_count": null,
      "outputs": [
        {
          "output_type": "stream",
          "name": "stdout",
          "text": [
            "title: 2024 February Market Hotness: Median Listing Price by County (Percent Change)\n",
            "region: county\n",
            "seasonality: Not Seasonally Adjusted\n",
            "units: Percent Change\n",
            "frequency: Monthly\n"
          ]
        },
        {
          "output_type": "stream",
          "name": "stderr",
          "text": [
            "Downloading data:  12%|█▏        | 121/995 [00:27<03:55,  3.71it/s]"
          ]
        },
        {
          "output_type": "stream",
          "name": "stdout",
          "text": [
            "Error Message: Too Many Requests.  Exceeded Rate Limit\n",
            "Switching Keys: 0\n"
          ]
        },
        {
          "output_type": "stream",
          "name": "stderr",
          "text": [
            "Downloading data:  24%|██▍       | 240/995 [00:53<02:48,  4.49it/s]"
          ]
        },
        {
          "output_type": "stream",
          "name": "stdout",
          "text": [
            "Error Message: Too Many Requests.  Exceeded Rate Limit\n",
            "Switching Keys: 0\n"
          ]
        },
        {
          "output_type": "stream",
          "name": "stderr",
          "text": [
            "Downloading data:  39%|███▉      | 388/995 [01:26<02:38,  3.82it/s]"
          ]
        },
        {
          "output_type": "stream",
          "name": "stdout",
          "text": [
            "Error Message: Too Many Requests.  Exceeded Rate Limit\n",
            "Switching Keys: 0\n"
          ]
        },
        {
          "output_type": "stream",
          "name": "stderr",
          "text": [
            "Downloading data:  51%|█████     | 508/995 [01:52<02:02,  3.97it/s]"
          ]
        },
        {
          "output_type": "stream",
          "name": "stdout",
          "text": [
            "Error Message: Too Many Requests.  Exceeded Rate Limit\n",
            "Switching Keys: 0\n"
          ]
        },
        {
          "output_type": "stream",
          "name": "stderr",
          "text": [
            "Downloading data:  67%|██████▋   | 662/995 [02:25<01:22,  4.05it/s]"
          ]
        },
        {
          "output_type": "stream",
          "name": "stdout",
          "text": [
            "Error Message: Too Many Requests.  Exceeded Rate Limit\n",
            "Switching Keys: 0\n"
          ]
        },
        {
          "output_type": "stream",
          "name": "stderr",
          "text": [
            "Downloading data:  78%|███████▊  | 781/995 [02:52<00:55,  3.83it/s]"
          ]
        },
        {
          "output_type": "stream",
          "name": "stdout",
          "text": [
            "Error Message: Too Many Requests.  Exceeded Rate Limit\n",
            "Switching Keys: 0\n"
          ]
        },
        {
          "output_type": "stream",
          "name": "stderr",
          "text": [
            "Downloading data:  93%|█████████▎| 924/995 [03:31<00:21,  3.29it/s]"
          ]
        },
        {
          "output_type": "stream",
          "name": "stdout",
          "text": [
            "Error Message: Too Many Requests.  Exceeded Rate Limit\n",
            "Switching Keys: 0\n"
          ]
        },
        {
          "output_type": "stream",
          "name": "stderr",
          "text": [
            "Downloading data: 100%|██████████| 995/995 [03:51<00:00,  4.30it/s]\n"
          ]
        },
        {
          "output_type": "execute_result",
          "data": {
            "text/plain": [
              "  realtime_start realtime_end        date market_hotness_prec_change  \\\n",
              "0     2024-04-21   2024-04-21  2017-07-01                          .   \n",
              "1     2024-04-21   2024-04-21  2017-08-01                 -0.6941327   \n",
              "2     2024-04-21   2024-04-21  2017-09-01                 -2.6290166   \n",
              "3     2024-04-21   2024-04-21  2017-10-01                 -0.1571429   \n",
              "4     2024-04-21   2024-04-21  2017-11-01                 -1.2734297   \n",
              "\n",
              "                  region   code     value            series_id  \n",
              "0  Cumberland County, ME  23005  0.900901  MELIPRMMCOUNTY23005  \n",
              "1  Cumberland County, ME  23005  0.900901  MELIPRMMCOUNTY23005  \n",
              "2  Cumberland County, ME  23005  0.900901  MELIPRMMCOUNTY23005  \n",
              "3  Cumberland County, ME  23005  0.900901  MELIPRMMCOUNTY23005  \n",
              "4  Cumberland County, ME  23005  0.900901  MELIPRMMCOUNTY23005  "
            ],
            "text/html": [
              "\n",
              "  <div id=\"df-166d76df-e689-4d0a-ba91-1242d94d8a35\" class=\"colab-df-container\">\n",
              "    <div>\n",
              "<style scoped>\n",
              "    .dataframe tbody tr th:only-of-type {\n",
              "        vertical-align: middle;\n",
              "    }\n",
              "\n",
              "    .dataframe tbody tr th {\n",
              "        vertical-align: top;\n",
              "    }\n",
              "\n",
              "    .dataframe thead th {\n",
              "        text-align: right;\n",
              "    }\n",
              "</style>\n",
              "<table border=\"1\" class=\"dataframe\">\n",
              "  <thead>\n",
              "    <tr style=\"text-align: right;\">\n",
              "      <th></th>\n",
              "      <th>realtime_start</th>\n",
              "      <th>realtime_end</th>\n",
              "      <th>date</th>\n",
              "      <th>market_hotness_prec_change</th>\n",
              "      <th>region</th>\n",
              "      <th>code</th>\n",
              "      <th>value</th>\n",
              "      <th>series_id</th>\n",
              "    </tr>\n",
              "  </thead>\n",
              "  <tbody>\n",
              "    <tr>\n",
              "      <th>0</th>\n",
              "      <td>2024-04-21</td>\n",
              "      <td>2024-04-21</td>\n",
              "      <td>2017-07-01</td>\n",
              "      <td>.</td>\n",
              "      <td>Cumberland County, ME</td>\n",
              "      <td>23005</td>\n",
              "      <td>0.900901</td>\n",
              "      <td>MELIPRMMCOUNTY23005</td>\n",
              "    </tr>\n",
              "    <tr>\n",
              "      <th>1</th>\n",
              "      <td>2024-04-21</td>\n",
              "      <td>2024-04-21</td>\n",
              "      <td>2017-08-01</td>\n",
              "      <td>-0.6941327</td>\n",
              "      <td>Cumberland County, ME</td>\n",
              "      <td>23005</td>\n",
              "      <td>0.900901</td>\n",
              "      <td>MELIPRMMCOUNTY23005</td>\n",
              "    </tr>\n",
              "    <tr>\n",
              "      <th>2</th>\n",
              "      <td>2024-04-21</td>\n",
              "      <td>2024-04-21</td>\n",
              "      <td>2017-09-01</td>\n",
              "      <td>-2.6290166</td>\n",
              "      <td>Cumberland County, ME</td>\n",
              "      <td>23005</td>\n",
              "      <td>0.900901</td>\n",
              "      <td>MELIPRMMCOUNTY23005</td>\n",
              "    </tr>\n",
              "    <tr>\n",
              "      <th>3</th>\n",
              "      <td>2024-04-21</td>\n",
              "      <td>2024-04-21</td>\n",
              "      <td>2017-10-01</td>\n",
              "      <td>-0.1571429</td>\n",
              "      <td>Cumberland County, ME</td>\n",
              "      <td>23005</td>\n",
              "      <td>0.900901</td>\n",
              "      <td>MELIPRMMCOUNTY23005</td>\n",
              "    </tr>\n",
              "    <tr>\n",
              "      <th>4</th>\n",
              "      <td>2024-04-21</td>\n",
              "      <td>2024-04-21</td>\n",
              "      <td>2017-11-01</td>\n",
              "      <td>-1.2734297</td>\n",
              "      <td>Cumberland County, ME</td>\n",
              "      <td>23005</td>\n",
              "      <td>0.900901</td>\n",
              "      <td>MELIPRMMCOUNTY23005</td>\n",
              "    </tr>\n",
              "  </tbody>\n",
              "</table>\n",
              "</div>\n",
              "    <div class=\"colab-df-buttons\">\n",
              "\n",
              "  <div class=\"colab-df-container\">\n",
              "    <button class=\"colab-df-convert\" onclick=\"convertToInteractive('df-166d76df-e689-4d0a-ba91-1242d94d8a35')\"\n",
              "            title=\"Convert this dataframe to an interactive table.\"\n",
              "            style=\"display:none;\">\n",
              "\n",
              "  <svg xmlns=\"http://www.w3.org/2000/svg\" height=\"24px\" viewBox=\"0 -960 960 960\">\n",
              "    <path d=\"M120-120v-720h720v720H120Zm60-500h600v-160H180v160Zm220 220h160v-160H400v160Zm0 220h160v-160H400v160ZM180-400h160v-160H180v160Zm440 0h160v-160H620v160ZM180-180h160v-160H180v160Zm440 0h160v-160H620v160Z\"/>\n",
              "  </svg>\n",
              "    </button>\n",
              "\n",
              "  <style>\n",
              "    .colab-df-container {\n",
              "      display:flex;\n",
              "      gap: 12px;\n",
              "    }\n",
              "\n",
              "    .colab-df-convert {\n",
              "      background-color: #E8F0FE;\n",
              "      border: none;\n",
              "      border-radius: 50%;\n",
              "      cursor: pointer;\n",
              "      display: none;\n",
              "      fill: #1967D2;\n",
              "      height: 32px;\n",
              "      padding: 0 0 0 0;\n",
              "      width: 32px;\n",
              "    }\n",
              "\n",
              "    .colab-df-convert:hover {\n",
              "      background-color: #E2EBFA;\n",
              "      box-shadow: 0px 1px 2px rgba(60, 64, 67, 0.3), 0px 1px 3px 1px rgba(60, 64, 67, 0.15);\n",
              "      fill: #174EA6;\n",
              "    }\n",
              "\n",
              "    .colab-df-buttons div {\n",
              "      margin-bottom: 4px;\n",
              "    }\n",
              "\n",
              "    [theme=dark] .colab-df-convert {\n",
              "      background-color: #3B4455;\n",
              "      fill: #D2E3FC;\n",
              "    }\n",
              "\n",
              "    [theme=dark] .colab-df-convert:hover {\n",
              "      background-color: #434B5C;\n",
              "      box-shadow: 0px 1px 3px 1px rgba(0, 0, 0, 0.15);\n",
              "      filter: drop-shadow(0px 1px 2px rgba(0, 0, 0, 0.3));\n",
              "      fill: #FFFFFF;\n",
              "    }\n",
              "  </style>\n",
              "\n",
              "    <script>\n",
              "      const buttonEl =\n",
              "        document.querySelector('#df-166d76df-e689-4d0a-ba91-1242d94d8a35 button.colab-df-convert');\n",
              "      buttonEl.style.display =\n",
              "        google.colab.kernel.accessAllowed ? 'block' : 'none';\n",
              "\n",
              "      async function convertToInteractive(key) {\n",
              "        const element = document.querySelector('#df-166d76df-e689-4d0a-ba91-1242d94d8a35');\n",
              "        const dataTable =\n",
              "          await google.colab.kernel.invokeFunction('convertToInteractive',\n",
              "                                                    [key], {});\n",
              "        if (!dataTable) return;\n",
              "\n",
              "        const docLinkHtml = 'Like what you see? Visit the ' +\n",
              "          '<a target=\"_blank\" href=https://colab.research.google.com/notebooks/data_table.ipynb>data table notebook</a>'\n",
              "          + ' to learn more about interactive tables.';\n",
              "        element.innerHTML = '';\n",
              "        dataTable['output_type'] = 'display_data';\n",
              "        await google.colab.output.renderOutput(dataTable, element);\n",
              "        const docLink = document.createElement('div');\n",
              "        docLink.innerHTML = docLinkHtml;\n",
              "        element.appendChild(docLink);\n",
              "      }\n",
              "    </script>\n",
              "  </div>\n",
              "\n",
              "\n",
              "<div id=\"df-f8aa9d6a-1978-42b0-914f-9d589a7523f7\">\n",
              "  <button class=\"colab-df-quickchart\" onclick=\"quickchart('df-f8aa9d6a-1978-42b0-914f-9d589a7523f7')\"\n",
              "            title=\"Suggest charts\"\n",
              "            style=\"display:none;\">\n",
              "\n",
              "<svg xmlns=\"http://www.w3.org/2000/svg\" height=\"24px\"viewBox=\"0 0 24 24\"\n",
              "     width=\"24px\">\n",
              "    <g>\n",
              "        <path d=\"M19 3H5c-1.1 0-2 .9-2 2v14c0 1.1.9 2 2 2h14c1.1 0 2-.9 2-2V5c0-1.1-.9-2-2-2zM9 17H7v-7h2v7zm4 0h-2V7h2v10zm4 0h-2v-4h2v4z\"/>\n",
              "    </g>\n",
              "</svg>\n",
              "  </button>\n",
              "\n",
              "<style>\n",
              "  .colab-df-quickchart {\n",
              "      --bg-color: #E8F0FE;\n",
              "      --fill-color: #1967D2;\n",
              "      --hover-bg-color: #E2EBFA;\n",
              "      --hover-fill-color: #174EA6;\n",
              "      --disabled-fill-color: #AAA;\n",
              "      --disabled-bg-color: #DDD;\n",
              "  }\n",
              "\n",
              "  [theme=dark] .colab-df-quickchart {\n",
              "      --bg-color: #3B4455;\n",
              "      --fill-color: #D2E3FC;\n",
              "      --hover-bg-color: #434B5C;\n",
              "      --hover-fill-color: #FFFFFF;\n",
              "      --disabled-bg-color: #3B4455;\n",
              "      --disabled-fill-color: #666;\n",
              "  }\n",
              "\n",
              "  .colab-df-quickchart {\n",
              "    background-color: var(--bg-color);\n",
              "    border: none;\n",
              "    border-radius: 50%;\n",
              "    cursor: pointer;\n",
              "    display: none;\n",
              "    fill: var(--fill-color);\n",
              "    height: 32px;\n",
              "    padding: 0;\n",
              "    width: 32px;\n",
              "  }\n",
              "\n",
              "  .colab-df-quickchart:hover {\n",
              "    background-color: var(--hover-bg-color);\n",
              "    box-shadow: 0 1px 2px rgba(60, 64, 67, 0.3), 0 1px 3px 1px rgba(60, 64, 67, 0.15);\n",
              "    fill: var(--button-hover-fill-color);\n",
              "  }\n",
              "\n",
              "  .colab-df-quickchart-complete:disabled,\n",
              "  .colab-df-quickchart-complete:disabled:hover {\n",
              "    background-color: var(--disabled-bg-color);\n",
              "    fill: var(--disabled-fill-color);\n",
              "    box-shadow: none;\n",
              "  }\n",
              "\n",
              "  .colab-df-spinner {\n",
              "    border: 2px solid var(--fill-color);\n",
              "    border-color: transparent;\n",
              "    border-bottom-color: var(--fill-color);\n",
              "    animation:\n",
              "      spin 1s steps(1) infinite;\n",
              "  }\n",
              "\n",
              "  @keyframes spin {\n",
              "    0% {\n",
              "      border-color: transparent;\n",
              "      border-bottom-color: var(--fill-color);\n",
              "      border-left-color: var(--fill-color);\n",
              "    }\n",
              "    20% {\n",
              "      border-color: transparent;\n",
              "      border-left-color: var(--fill-color);\n",
              "      border-top-color: var(--fill-color);\n",
              "    }\n",
              "    30% {\n",
              "      border-color: transparent;\n",
              "      border-left-color: var(--fill-color);\n",
              "      border-top-color: var(--fill-color);\n",
              "      border-right-color: var(--fill-color);\n",
              "    }\n",
              "    40% {\n",
              "      border-color: transparent;\n",
              "      border-right-color: var(--fill-color);\n",
              "      border-top-color: var(--fill-color);\n",
              "    }\n",
              "    60% {\n",
              "      border-color: transparent;\n",
              "      border-right-color: var(--fill-color);\n",
              "    }\n",
              "    80% {\n",
              "      border-color: transparent;\n",
              "      border-right-color: var(--fill-color);\n",
              "      border-bottom-color: var(--fill-color);\n",
              "    }\n",
              "    90% {\n",
              "      border-color: transparent;\n",
              "      border-bottom-color: var(--fill-color);\n",
              "    }\n",
              "  }\n",
              "</style>\n",
              "\n",
              "  <script>\n",
              "    async function quickchart(key) {\n",
              "      const quickchartButtonEl =\n",
              "        document.querySelector('#' + key + ' button');\n",
              "      quickchartButtonEl.disabled = true;  // To prevent multiple clicks.\n",
              "      quickchartButtonEl.classList.add('colab-df-spinner');\n",
              "      try {\n",
              "        const charts = await google.colab.kernel.invokeFunction(\n",
              "            'suggestCharts', [key], {});\n",
              "      } catch (error) {\n",
              "        console.error('Error during call to suggestCharts:', error);\n",
              "      }\n",
              "      quickchartButtonEl.classList.remove('colab-df-spinner');\n",
              "      quickchartButtonEl.classList.add('colab-df-quickchart-complete');\n",
              "    }\n",
              "    (() => {\n",
              "      let quickchartButtonEl =\n",
              "        document.querySelector('#df-f8aa9d6a-1978-42b0-914f-9d589a7523f7 button');\n",
              "      quickchartButtonEl.style.display =\n",
              "        google.colab.kernel.accessAllowed ? 'block' : 'none';\n",
              "    })();\n",
              "  </script>\n",
              "</div>\n",
              "\n",
              "    </div>\n",
              "  </div>\n"
            ],
            "application/vnd.google.colaboratory.intrinsic+json": {
              "type": "dataframe",
              "variable_name": "market_hotness_rate_df",
              "summary": "{\n  \"name\": \"market_hotness_rate_df\",\n  \"rows\": 80595,\n  \"fields\": [\n    {\n      \"column\": \"realtime_start\",\n      \"properties\": {\n        \"dtype\": \"object\",\n        \"num_unique_values\": 1,\n        \"samples\": [\n          \"2024-04-21\"\n        ],\n        \"semantic_type\": \"\",\n        \"description\": \"\"\n      }\n    },\n    {\n      \"column\": \"realtime_end\",\n      \"properties\": {\n        \"dtype\": \"object\",\n        \"num_unique_values\": 1,\n        \"samples\": [\n          \"2024-04-21\"\n        ],\n        \"semantic_type\": \"\",\n        \"description\": \"\"\n      }\n    },\n    {\n      \"column\": \"date\",\n      \"properties\": {\n        \"dtype\": \"object\",\n        \"num_unique_values\": 81,\n        \"samples\": [\n          \"2020-01-01\"\n        ],\n        \"semantic_type\": \"\",\n        \"description\": \"\"\n      }\n    },\n    {\n      \"column\": \"market_hotness_prec_change\",\n      \"properties\": {\n        \"dtype\": \"string\",\n        \"num_unique_values\": 69084,\n        \"samples\": [\n          \"3.9413154\"\n        ],\n        \"semantic_type\": \"\",\n        \"description\": \"\"\n      }\n    },\n    {\n      \"column\": \"region\",\n      \"properties\": {\n        \"dtype\": \"category\",\n        \"num_unique_values\": 995,\n        \"samples\": [\n          \"Lynchburg City, VA\"\n        ],\n        \"semantic_type\": \"\",\n        \"description\": \"\"\n      }\n    },\n    {\n      \"column\": \"code\",\n      \"properties\": {\n        \"dtype\": \"category\",\n        \"num_unique_values\": 995,\n        \"samples\": [\n          \"51680\"\n        ],\n        \"semantic_type\": \"\",\n        \"description\": \"\"\n      }\n    },\n    {\n      \"column\": \"value\",\n      \"properties\": {\n        \"dtype\": \"number\",\n        \"std\": 4.136130033160213,\n        \"min\": -14.2790949,\n        \"max\": 27.4366197,\n        \"num_unique_values\": 974,\n        \"samples\": [\n          -2.765708\n        ],\n        \"semantic_type\": \"\",\n        \"description\": \"\"\n      }\n    },\n    {\n      \"column\": \"series_id\",\n      \"properties\": {\n        \"dtype\": \"category\",\n        \"num_unique_values\": 995,\n        \"samples\": [\n          \"MELIPRMMCOUNTY51680\"\n        ],\n        \"semantic_type\": \"\",\n        \"description\": \"\"\n      }\n    }\n  ]\n}"
            }
          },
          "metadata": {},
          "execution_count": 59
        }
      ]
    },
    {
      "cell_type": "code",
      "source": [
        "# Cleaning\n",
        "col_l = ['date', 'year', 'month', 'country', 'region', 'state', 'county', 'code', metric_name]\n",
        "\n",
        "market_hotness_rate_df['date'] = pd.to_datetime(market_hotness_rate_df['date'])\n",
        "market_hotness_rate_df['year'] = market_hotness_rate_df['date'].dt.year\n",
        "market_hotness_rate_df['month'] = market_hotness_rate_df['date'].dt.month\n",
        "market_hotness_rate_df['date'] = market_hotness_rate_df['date'].dt.date\n",
        "\n",
        "market_hotness_rate_df['country'] = 'USA'\n",
        "market_hotness_rate_df['state'] = market_hotness_rate_df['region'].apply(lambda x: str(x).split(',')[-1].strip())\n",
        "market_hotness_rate_df['county'] = market_hotness_rate_df['region'].apply(lambda x: str(x).split(',')[0].strip())\n",
        "market_hotness_rate_df = market_hotness_rate_df[col_l]\n",
        "\n",
        "market_hotness_rate_df.head()"
      ],
      "metadata": {
        "colab": {
          "base_uri": "https://localhost:8080/",
          "height": 206
        },
        "id": "n1UVsYnwqjUP",
        "outputId": "f0877c08-6822-4370-8e1d-ed7bc80174a7"
      },
      "execution_count": null,
      "outputs": [
        {
          "output_type": "execute_result",
          "data": {
            "text/plain": [
              "         date  year  month country                 region state  \\\n",
              "0  2017-07-01  2017      7     USA  Cumberland County, ME    ME   \n",
              "1  2017-08-01  2017      8     USA  Cumberland County, ME    ME   \n",
              "2  2017-09-01  2017      9     USA  Cumberland County, ME    ME   \n",
              "3  2017-10-01  2017     10     USA  Cumberland County, ME    ME   \n",
              "4  2017-11-01  2017     11     USA  Cumberland County, ME    ME   \n",
              "\n",
              "              county   code market_hotness_prec_change  \n",
              "0  Cumberland County  23005                          .  \n",
              "1  Cumberland County  23005                 -0.6941327  \n",
              "2  Cumberland County  23005                 -2.6290166  \n",
              "3  Cumberland County  23005                 -0.1571429  \n",
              "4  Cumberland County  23005                 -1.2734297  "
            ],
            "text/html": [
              "\n",
              "  <div id=\"df-b59b7d66-9b91-44fd-919e-1fa34a8690fb\" class=\"colab-df-container\">\n",
              "    <div>\n",
              "<style scoped>\n",
              "    .dataframe tbody tr th:only-of-type {\n",
              "        vertical-align: middle;\n",
              "    }\n",
              "\n",
              "    .dataframe tbody tr th {\n",
              "        vertical-align: top;\n",
              "    }\n",
              "\n",
              "    .dataframe thead th {\n",
              "        text-align: right;\n",
              "    }\n",
              "</style>\n",
              "<table border=\"1\" class=\"dataframe\">\n",
              "  <thead>\n",
              "    <tr style=\"text-align: right;\">\n",
              "      <th></th>\n",
              "      <th>date</th>\n",
              "      <th>year</th>\n",
              "      <th>month</th>\n",
              "      <th>country</th>\n",
              "      <th>region</th>\n",
              "      <th>state</th>\n",
              "      <th>county</th>\n",
              "      <th>code</th>\n",
              "      <th>market_hotness_prec_change</th>\n",
              "    </tr>\n",
              "  </thead>\n",
              "  <tbody>\n",
              "    <tr>\n",
              "      <th>0</th>\n",
              "      <td>2017-07-01</td>\n",
              "      <td>2017</td>\n",
              "      <td>7</td>\n",
              "      <td>USA</td>\n",
              "      <td>Cumberland County, ME</td>\n",
              "      <td>ME</td>\n",
              "      <td>Cumberland County</td>\n",
              "      <td>23005</td>\n",
              "      <td>.</td>\n",
              "    </tr>\n",
              "    <tr>\n",
              "      <th>1</th>\n",
              "      <td>2017-08-01</td>\n",
              "      <td>2017</td>\n",
              "      <td>8</td>\n",
              "      <td>USA</td>\n",
              "      <td>Cumberland County, ME</td>\n",
              "      <td>ME</td>\n",
              "      <td>Cumberland County</td>\n",
              "      <td>23005</td>\n",
              "      <td>-0.6941327</td>\n",
              "    </tr>\n",
              "    <tr>\n",
              "      <th>2</th>\n",
              "      <td>2017-09-01</td>\n",
              "      <td>2017</td>\n",
              "      <td>9</td>\n",
              "      <td>USA</td>\n",
              "      <td>Cumberland County, ME</td>\n",
              "      <td>ME</td>\n",
              "      <td>Cumberland County</td>\n",
              "      <td>23005</td>\n",
              "      <td>-2.6290166</td>\n",
              "    </tr>\n",
              "    <tr>\n",
              "      <th>3</th>\n",
              "      <td>2017-10-01</td>\n",
              "      <td>2017</td>\n",
              "      <td>10</td>\n",
              "      <td>USA</td>\n",
              "      <td>Cumberland County, ME</td>\n",
              "      <td>ME</td>\n",
              "      <td>Cumberland County</td>\n",
              "      <td>23005</td>\n",
              "      <td>-0.1571429</td>\n",
              "    </tr>\n",
              "    <tr>\n",
              "      <th>4</th>\n",
              "      <td>2017-11-01</td>\n",
              "      <td>2017</td>\n",
              "      <td>11</td>\n",
              "      <td>USA</td>\n",
              "      <td>Cumberland County, ME</td>\n",
              "      <td>ME</td>\n",
              "      <td>Cumberland County</td>\n",
              "      <td>23005</td>\n",
              "      <td>-1.2734297</td>\n",
              "    </tr>\n",
              "  </tbody>\n",
              "</table>\n",
              "</div>\n",
              "    <div class=\"colab-df-buttons\">\n",
              "\n",
              "  <div class=\"colab-df-container\">\n",
              "    <button class=\"colab-df-convert\" onclick=\"convertToInteractive('df-b59b7d66-9b91-44fd-919e-1fa34a8690fb')\"\n",
              "            title=\"Convert this dataframe to an interactive table.\"\n",
              "            style=\"display:none;\">\n",
              "\n",
              "  <svg xmlns=\"http://www.w3.org/2000/svg\" height=\"24px\" viewBox=\"0 -960 960 960\">\n",
              "    <path d=\"M120-120v-720h720v720H120Zm60-500h600v-160H180v160Zm220 220h160v-160H400v160Zm0 220h160v-160H400v160ZM180-400h160v-160H180v160Zm440 0h160v-160H620v160ZM180-180h160v-160H180v160Zm440 0h160v-160H620v160Z\"/>\n",
              "  </svg>\n",
              "    </button>\n",
              "\n",
              "  <style>\n",
              "    .colab-df-container {\n",
              "      display:flex;\n",
              "      gap: 12px;\n",
              "    }\n",
              "\n",
              "    .colab-df-convert {\n",
              "      background-color: #E8F0FE;\n",
              "      border: none;\n",
              "      border-radius: 50%;\n",
              "      cursor: pointer;\n",
              "      display: none;\n",
              "      fill: #1967D2;\n",
              "      height: 32px;\n",
              "      padding: 0 0 0 0;\n",
              "      width: 32px;\n",
              "    }\n",
              "\n",
              "    .colab-df-convert:hover {\n",
              "      background-color: #E2EBFA;\n",
              "      box-shadow: 0px 1px 2px rgba(60, 64, 67, 0.3), 0px 1px 3px 1px rgba(60, 64, 67, 0.15);\n",
              "      fill: #174EA6;\n",
              "    }\n",
              "\n",
              "    .colab-df-buttons div {\n",
              "      margin-bottom: 4px;\n",
              "    }\n",
              "\n",
              "    [theme=dark] .colab-df-convert {\n",
              "      background-color: #3B4455;\n",
              "      fill: #D2E3FC;\n",
              "    }\n",
              "\n",
              "    [theme=dark] .colab-df-convert:hover {\n",
              "      background-color: #434B5C;\n",
              "      box-shadow: 0px 1px 3px 1px rgba(0, 0, 0, 0.15);\n",
              "      filter: drop-shadow(0px 1px 2px rgba(0, 0, 0, 0.3));\n",
              "      fill: #FFFFFF;\n",
              "    }\n",
              "  </style>\n",
              "\n",
              "    <script>\n",
              "      const buttonEl =\n",
              "        document.querySelector('#df-b59b7d66-9b91-44fd-919e-1fa34a8690fb button.colab-df-convert');\n",
              "      buttonEl.style.display =\n",
              "        google.colab.kernel.accessAllowed ? 'block' : 'none';\n",
              "\n",
              "      async function convertToInteractive(key) {\n",
              "        const element = document.querySelector('#df-b59b7d66-9b91-44fd-919e-1fa34a8690fb');\n",
              "        const dataTable =\n",
              "          await google.colab.kernel.invokeFunction('convertToInteractive',\n",
              "                                                    [key], {});\n",
              "        if (!dataTable) return;\n",
              "\n",
              "        const docLinkHtml = 'Like what you see? Visit the ' +\n",
              "          '<a target=\"_blank\" href=https://colab.research.google.com/notebooks/data_table.ipynb>data table notebook</a>'\n",
              "          + ' to learn more about interactive tables.';\n",
              "        element.innerHTML = '';\n",
              "        dataTable['output_type'] = 'display_data';\n",
              "        await google.colab.output.renderOutput(dataTable, element);\n",
              "        const docLink = document.createElement('div');\n",
              "        docLink.innerHTML = docLinkHtml;\n",
              "        element.appendChild(docLink);\n",
              "      }\n",
              "    </script>\n",
              "  </div>\n",
              "\n",
              "\n",
              "<div id=\"df-fc25ba6d-bcbc-4aa2-81c0-dfb0ff8461e4\">\n",
              "  <button class=\"colab-df-quickchart\" onclick=\"quickchart('df-fc25ba6d-bcbc-4aa2-81c0-dfb0ff8461e4')\"\n",
              "            title=\"Suggest charts\"\n",
              "            style=\"display:none;\">\n",
              "\n",
              "<svg xmlns=\"http://www.w3.org/2000/svg\" height=\"24px\"viewBox=\"0 0 24 24\"\n",
              "     width=\"24px\">\n",
              "    <g>\n",
              "        <path d=\"M19 3H5c-1.1 0-2 .9-2 2v14c0 1.1.9 2 2 2h14c1.1 0 2-.9 2-2V5c0-1.1-.9-2-2-2zM9 17H7v-7h2v7zm4 0h-2V7h2v10zm4 0h-2v-4h2v4z\"/>\n",
              "    </g>\n",
              "</svg>\n",
              "  </button>\n",
              "\n",
              "<style>\n",
              "  .colab-df-quickchart {\n",
              "      --bg-color: #E8F0FE;\n",
              "      --fill-color: #1967D2;\n",
              "      --hover-bg-color: #E2EBFA;\n",
              "      --hover-fill-color: #174EA6;\n",
              "      --disabled-fill-color: #AAA;\n",
              "      --disabled-bg-color: #DDD;\n",
              "  }\n",
              "\n",
              "  [theme=dark] .colab-df-quickchart {\n",
              "      --bg-color: #3B4455;\n",
              "      --fill-color: #D2E3FC;\n",
              "      --hover-bg-color: #434B5C;\n",
              "      --hover-fill-color: #FFFFFF;\n",
              "      --disabled-bg-color: #3B4455;\n",
              "      --disabled-fill-color: #666;\n",
              "  }\n",
              "\n",
              "  .colab-df-quickchart {\n",
              "    background-color: var(--bg-color);\n",
              "    border: none;\n",
              "    border-radius: 50%;\n",
              "    cursor: pointer;\n",
              "    display: none;\n",
              "    fill: var(--fill-color);\n",
              "    height: 32px;\n",
              "    padding: 0;\n",
              "    width: 32px;\n",
              "  }\n",
              "\n",
              "  .colab-df-quickchart:hover {\n",
              "    background-color: var(--hover-bg-color);\n",
              "    box-shadow: 0 1px 2px rgba(60, 64, 67, 0.3), 0 1px 3px 1px rgba(60, 64, 67, 0.15);\n",
              "    fill: var(--button-hover-fill-color);\n",
              "  }\n",
              "\n",
              "  .colab-df-quickchart-complete:disabled,\n",
              "  .colab-df-quickchart-complete:disabled:hover {\n",
              "    background-color: var(--disabled-bg-color);\n",
              "    fill: var(--disabled-fill-color);\n",
              "    box-shadow: none;\n",
              "  }\n",
              "\n",
              "  .colab-df-spinner {\n",
              "    border: 2px solid var(--fill-color);\n",
              "    border-color: transparent;\n",
              "    border-bottom-color: var(--fill-color);\n",
              "    animation:\n",
              "      spin 1s steps(1) infinite;\n",
              "  }\n",
              "\n",
              "  @keyframes spin {\n",
              "    0% {\n",
              "      border-color: transparent;\n",
              "      border-bottom-color: var(--fill-color);\n",
              "      border-left-color: var(--fill-color);\n",
              "    }\n",
              "    20% {\n",
              "      border-color: transparent;\n",
              "      border-left-color: var(--fill-color);\n",
              "      border-top-color: var(--fill-color);\n",
              "    }\n",
              "    30% {\n",
              "      border-color: transparent;\n",
              "      border-left-color: var(--fill-color);\n",
              "      border-top-color: var(--fill-color);\n",
              "      border-right-color: var(--fill-color);\n",
              "    }\n",
              "    40% {\n",
              "      border-color: transparent;\n",
              "      border-right-color: var(--fill-color);\n",
              "      border-top-color: var(--fill-color);\n",
              "    }\n",
              "    60% {\n",
              "      border-color: transparent;\n",
              "      border-right-color: var(--fill-color);\n",
              "    }\n",
              "    80% {\n",
              "      border-color: transparent;\n",
              "      border-right-color: var(--fill-color);\n",
              "      border-bottom-color: var(--fill-color);\n",
              "    }\n",
              "    90% {\n",
              "      border-color: transparent;\n",
              "      border-bottom-color: var(--fill-color);\n",
              "    }\n",
              "  }\n",
              "</style>\n",
              "\n",
              "  <script>\n",
              "    async function quickchart(key) {\n",
              "      const quickchartButtonEl =\n",
              "        document.querySelector('#' + key + ' button');\n",
              "      quickchartButtonEl.disabled = true;  // To prevent multiple clicks.\n",
              "      quickchartButtonEl.classList.add('colab-df-spinner');\n",
              "      try {\n",
              "        const charts = await google.colab.kernel.invokeFunction(\n",
              "            'suggestCharts', [key], {});\n",
              "      } catch (error) {\n",
              "        console.error('Error during call to suggestCharts:', error);\n",
              "      }\n",
              "      quickchartButtonEl.classList.remove('colab-df-spinner');\n",
              "      quickchartButtonEl.classList.add('colab-df-quickchart-complete');\n",
              "    }\n",
              "    (() => {\n",
              "      let quickchartButtonEl =\n",
              "        document.querySelector('#df-fc25ba6d-bcbc-4aa2-81c0-dfb0ff8461e4 button');\n",
              "      quickchartButtonEl.style.display =\n",
              "        google.colab.kernel.accessAllowed ? 'block' : 'none';\n",
              "    })();\n",
              "  </script>\n",
              "</div>\n",
              "\n",
              "    </div>\n",
              "  </div>\n"
            ],
            "application/vnd.google.colaboratory.intrinsic+json": {
              "type": "dataframe",
              "variable_name": "market_hotness_rate_df",
              "summary": "{\n  \"name\": \"market_hotness_rate_df\",\n  \"rows\": 80595,\n  \"fields\": [\n    {\n      \"column\": \"date\",\n      \"properties\": {\n        \"dtype\": \"date\",\n        \"min\": \"2017-07-01\",\n        \"max\": \"2024-03-01\",\n        \"num_unique_values\": 81,\n        \"samples\": [\n          \"2020-01-01\",\n          \"2017-07-01\",\n          \"2019-05-01\"\n        ],\n        \"semantic_type\": \"\",\n        \"description\": \"\"\n      }\n    },\n    {\n      \"column\": \"year\",\n      \"properties\": {\n        \"dtype\": \"int32\",\n        \"num_unique_values\": 8,\n        \"samples\": [\n          2018,\n          2022,\n          2017\n        ],\n        \"semantic_type\": \"\",\n        \"description\": \"\"\n      }\n    },\n    {\n      \"column\": \"month\",\n      \"properties\": {\n        \"dtype\": \"int32\",\n        \"num_unique_values\": 12,\n        \"samples\": [\n          5,\n          4,\n          7\n        ],\n        \"semantic_type\": \"\",\n        \"description\": \"\"\n      }\n    },\n    {\n      \"column\": \"country\",\n      \"properties\": {\n        \"dtype\": \"category\",\n        \"num_unique_values\": 1,\n        \"samples\": [\n          \"USA\"\n        ],\n        \"semantic_type\": \"\",\n        \"description\": \"\"\n      }\n    },\n    {\n      \"column\": \"region\",\n      \"properties\": {\n        \"dtype\": \"category\",\n        \"num_unique_values\": 995,\n        \"samples\": [\n          \"Lynchburg City, VA\"\n        ],\n        \"semantic_type\": \"\",\n        \"description\": \"\"\n      }\n    },\n    {\n      \"column\": \"state\",\n      \"properties\": {\n        \"dtype\": \"category\",\n        \"num_unique_values\": 51,\n        \"samples\": [\n          \"MD\"\n        ],\n        \"semantic_type\": \"\",\n        \"description\": \"\"\n      }\n    },\n    {\n      \"column\": \"county\",\n      \"properties\": {\n        \"dtype\": \"category\",\n        \"num_unique_values\": 757,\n        \"samples\": [\n          \"Kosciusko County\"\n        ],\n        \"semantic_type\": \"\",\n        \"description\": \"\"\n      }\n    },\n    {\n      \"column\": \"code\",\n      \"properties\": {\n        \"dtype\": \"category\",\n        \"num_unique_values\": 995,\n        \"samples\": [\n          \"51680\"\n        ],\n        \"semantic_type\": \"\",\n        \"description\": \"\"\n      }\n    },\n    {\n      \"column\": \"market_hotness_prec_change\",\n      \"properties\": {\n        \"dtype\": \"string\",\n        \"num_unique_values\": 69084,\n        \"samples\": [\n          \"3.9413154\"\n        ],\n        \"semantic_type\": \"\",\n        \"description\": \"\"\n      }\n    }\n  ]\n}"
            }
          },
          "metadata": {},
          "execution_count": 60
        }
      ]
    },
    {
      "cell_type": "code",
      "source": [
        "# download data\n",
        "fn = f'{metric_name}.csv'\n",
        "market_hotness_rate_df.to_csv(fn, index=False)\n",
        "files.download(fn)"
      ],
      "metadata": {
        "colab": {
          "base_uri": "https://localhost:8080/",
          "height": 17
        },
        "id": "O0Np3B5BrKsN",
        "outputId": "d548b7ce-af12-4f3b-d04b-8385e33aa3d7"
      },
      "execution_count": null,
      "outputs": [
        {
          "output_type": "display_data",
          "data": {
            "text/plain": [
              "<IPython.core.display.Javascript object>"
            ],
            "application/javascript": [
              "\n",
              "    async function download(id, filename, size) {\n",
              "      if (!google.colab.kernel.accessAllowed) {\n",
              "        return;\n",
              "      }\n",
              "      const div = document.createElement('div');\n",
              "      const label = document.createElement('label');\n",
              "      label.textContent = `Downloading \"${filename}\": `;\n",
              "      div.appendChild(label);\n",
              "      const progress = document.createElement('progress');\n",
              "      progress.max = size;\n",
              "      div.appendChild(progress);\n",
              "      document.body.appendChild(div);\n",
              "\n",
              "      const buffers = [];\n",
              "      let downloaded = 0;\n",
              "\n",
              "      const channel = await google.colab.kernel.comms.open(id);\n",
              "      // Send a message to notify the kernel that we're ready.\n",
              "      channel.send({})\n",
              "\n",
              "      for await (const message of channel.messages) {\n",
              "        // Send a message to notify the kernel that we're ready.\n",
              "        channel.send({})\n",
              "        if (message.buffers) {\n",
              "          for (const buffer of message.buffers) {\n",
              "            buffers.push(buffer);\n",
              "            downloaded += buffer.byteLength;\n",
              "            progress.value = downloaded;\n",
              "          }\n",
              "        }\n",
              "      }\n",
              "      const blob = new Blob(buffers, {type: 'application/binary'});\n",
              "      const a = document.createElement('a');\n",
              "      a.href = window.URL.createObjectURL(blob);\n",
              "      a.download = filename;\n",
              "      div.appendChild(a);\n",
              "      a.click();\n",
              "      div.remove();\n",
              "    }\n",
              "  "
            ]
          },
          "metadata": {}
        },
        {
          "output_type": "display_data",
          "data": {
            "text/plain": [
              "<IPython.core.display.Javascript object>"
            ],
            "application/javascript": [
              "download(\"download_8338636f-cc56-4bec-ac08-f128e71006e8\", \"market_hotness_prec_change.csv\", 6271896)"
            ]
          },
          "metadata": {}
        }
      ]
    },
    {
      "cell_type": "markdown",
      "source": [
        "---\n",
        "---\n",
        "---"
      ],
      "metadata": {
        "id": "RXqOvey4rD6X"
      }
    },
    {
      "cell_type": "code",
      "source": [
        "# Settings\n",
        "snapshot_date = '2024-02-01'\n",
        "series_id = 'MELIPRCOUNTY6059'\n",
        "metric_name = 'market_hotness'\n",
        "\n",
        "\n",
        "# API Manager\n",
        "am = api_manager(API_Key_l)\n",
        "\n",
        "# CONFIG\n",
        "config_dict = {'api_url': 'https://api.stlouisfed.org/geofred/series/data?'\n",
        "               , 'date': snapshot_date\n",
        "               , 'series_id': series_id\n",
        "               , 'metric_name': metric_name\n",
        "               , 'api_manager': am\n",
        "              }\n",
        "\n",
        "# download manager\n",
        "dl_manager = fred_df_manager(config_dict)\n",
        "\n",
        "# # test\n",
        "# market_hotness_rate_df = dl_manager.get_data(series_id)\n",
        "\n",
        "\n",
        "# # download\n",
        "data_df = dl_manager.download_data({'value': metric_name})\n",
        "\n",
        "# PREVIEW\n",
        "data_df.head()"
      ],
      "metadata": {
        "colab": {
          "base_uri": "https://localhost:8080/",
          "height": 528
        },
        "id": "4knMih92roHb",
        "outputId": "ba28f62a-a21a-420e-85da-07b04b614a97"
      },
      "execution_count": null,
      "outputs": [
        {
          "output_type": "stream",
          "name": "stdout",
          "text": [
            "title: 2024 February Market Hotness: Median Listing Price by County (U.S. Dollars)\n",
            "region: county\n",
            "seasonality: Not Seasonally Adjusted\n",
            "units: U.S. Dollars\n",
            "frequency: Monthly\n"
          ]
        },
        {
          "output_type": "stream",
          "name": "stderr",
          "text": [
            "Downloading data:  12%|█▏        | 119/995 [00:31<04:28,  3.26it/s]"
          ]
        },
        {
          "output_type": "stream",
          "name": "stdout",
          "text": [
            "Error Message: Too Many Requests.  Exceeded Rate Limit\n",
            "Switching Keys: 0\n"
          ]
        },
        {
          "output_type": "stream",
          "name": "stderr",
          "text": [
            "Downloading data:  35%|███▌      | 351/995 [01:24<02:10,  4.95it/s]"
          ]
        },
        {
          "output_type": "stream",
          "name": "stdout",
          "text": [
            "Error Message: Too Many Requests.  Exceeded Rate Limit\n",
            "Switching Keys: 0\n"
          ]
        },
        {
          "output_type": "stream",
          "name": "stderr",
          "text": [
            "Downloading data:  47%|████▋     | 471/995 [01:51<01:49,  4.80it/s]"
          ]
        },
        {
          "output_type": "stream",
          "name": "stdout",
          "text": [
            "Error Message: Too Many Requests.  Exceeded Rate Limit\n",
            "Switching Keys: 0\n"
          ]
        },
        {
          "output_type": "stream",
          "name": "stderr",
          "text": [
            "Downloading data:  63%|██████▎   | 626/995 [02:25<01:35,  3.85it/s]"
          ]
        },
        {
          "output_type": "stream",
          "name": "stdout",
          "text": [
            "Error Message: Too Many Requests.  Exceeded Rate Limit\n",
            "Switching Keys: 0\n"
          ]
        },
        {
          "output_type": "stream",
          "name": "stderr",
          "text": [
            "Downloading data:  75%|███████▍  | 746/995 [02:51<01:04,  3.88it/s]"
          ]
        },
        {
          "output_type": "stream",
          "name": "stdout",
          "text": [
            "Error Message: Too Many Requests.  Exceeded Rate Limit\n",
            "Switching Keys: 0\n"
          ]
        },
        {
          "output_type": "stream",
          "name": "stderr",
          "text": [
            "Downloading data:  90%|█████████ | 899/995 [03:25<00:24,  3.86it/s]"
          ]
        },
        {
          "output_type": "stream",
          "name": "stdout",
          "text": [
            "Error Message: Too Many Requests.  Exceeded Rate Limit\n",
            "Switching Keys: 0\n"
          ]
        },
        {
          "output_type": "stream",
          "name": "stderr",
          "text": [
            "Downloading data: 100%|██████████| 995/995 [03:45<00:00,  4.40it/s]\n"
          ]
        },
        {
          "output_type": "execute_result",
          "data": {
            "text/plain": [
              "  realtime_start realtime_end        date market_hotness  \\\n",
              "0     2024-04-21   2024-04-21  2016-07-01              .   \n",
              "1     2024-04-21   2024-04-21  2016-08-01              .   \n",
              "2     2024-04-21   2024-04-21  2016-09-01              .   \n",
              "3     2024-04-21   2024-04-21  2016-10-01              .   \n",
              "4     2024-04-21   2024-04-21  2016-11-01              .   \n",
              "\n",
              "                 region   code     value         series_id  \n",
              "0  Sebastian County, AR  05131  279950.0  MELIPRCOUNTY5131  \n",
              "1  Sebastian County, AR  05131  279950.0  MELIPRCOUNTY5131  \n",
              "2  Sebastian County, AR  05131  279950.0  MELIPRCOUNTY5131  \n",
              "3  Sebastian County, AR  05131  279950.0  MELIPRCOUNTY5131  \n",
              "4  Sebastian County, AR  05131  279950.0  MELIPRCOUNTY5131  "
            ],
            "text/html": [
              "\n",
              "  <div id=\"df-3ed12867-b16f-441a-b444-15effc998adb\" class=\"colab-df-container\">\n",
              "    <div>\n",
              "<style scoped>\n",
              "    .dataframe tbody tr th:only-of-type {\n",
              "        vertical-align: middle;\n",
              "    }\n",
              "\n",
              "    .dataframe tbody tr th {\n",
              "        vertical-align: top;\n",
              "    }\n",
              "\n",
              "    .dataframe thead th {\n",
              "        text-align: right;\n",
              "    }\n",
              "</style>\n",
              "<table border=\"1\" class=\"dataframe\">\n",
              "  <thead>\n",
              "    <tr style=\"text-align: right;\">\n",
              "      <th></th>\n",
              "      <th>realtime_start</th>\n",
              "      <th>realtime_end</th>\n",
              "      <th>date</th>\n",
              "      <th>market_hotness</th>\n",
              "      <th>region</th>\n",
              "      <th>code</th>\n",
              "      <th>value</th>\n",
              "      <th>series_id</th>\n",
              "    </tr>\n",
              "  </thead>\n",
              "  <tbody>\n",
              "    <tr>\n",
              "      <th>0</th>\n",
              "      <td>2024-04-21</td>\n",
              "      <td>2024-04-21</td>\n",
              "      <td>2016-07-01</td>\n",
              "      <td>.</td>\n",
              "      <td>Sebastian County, AR</td>\n",
              "      <td>05131</td>\n",
              "      <td>279950.0</td>\n",
              "      <td>MELIPRCOUNTY5131</td>\n",
              "    </tr>\n",
              "    <tr>\n",
              "      <th>1</th>\n",
              "      <td>2024-04-21</td>\n",
              "      <td>2024-04-21</td>\n",
              "      <td>2016-08-01</td>\n",
              "      <td>.</td>\n",
              "      <td>Sebastian County, AR</td>\n",
              "      <td>05131</td>\n",
              "      <td>279950.0</td>\n",
              "      <td>MELIPRCOUNTY5131</td>\n",
              "    </tr>\n",
              "    <tr>\n",
              "      <th>2</th>\n",
              "      <td>2024-04-21</td>\n",
              "      <td>2024-04-21</td>\n",
              "      <td>2016-09-01</td>\n",
              "      <td>.</td>\n",
              "      <td>Sebastian County, AR</td>\n",
              "      <td>05131</td>\n",
              "      <td>279950.0</td>\n",
              "      <td>MELIPRCOUNTY5131</td>\n",
              "    </tr>\n",
              "    <tr>\n",
              "      <th>3</th>\n",
              "      <td>2024-04-21</td>\n",
              "      <td>2024-04-21</td>\n",
              "      <td>2016-10-01</td>\n",
              "      <td>.</td>\n",
              "      <td>Sebastian County, AR</td>\n",
              "      <td>05131</td>\n",
              "      <td>279950.0</td>\n",
              "      <td>MELIPRCOUNTY5131</td>\n",
              "    </tr>\n",
              "    <tr>\n",
              "      <th>4</th>\n",
              "      <td>2024-04-21</td>\n",
              "      <td>2024-04-21</td>\n",
              "      <td>2016-11-01</td>\n",
              "      <td>.</td>\n",
              "      <td>Sebastian County, AR</td>\n",
              "      <td>05131</td>\n",
              "      <td>279950.0</td>\n",
              "      <td>MELIPRCOUNTY5131</td>\n",
              "    </tr>\n",
              "  </tbody>\n",
              "</table>\n",
              "</div>\n",
              "    <div class=\"colab-df-buttons\">\n",
              "\n",
              "  <div class=\"colab-df-container\">\n",
              "    <button class=\"colab-df-convert\" onclick=\"convertToInteractive('df-3ed12867-b16f-441a-b444-15effc998adb')\"\n",
              "            title=\"Convert this dataframe to an interactive table.\"\n",
              "            style=\"display:none;\">\n",
              "\n",
              "  <svg xmlns=\"http://www.w3.org/2000/svg\" height=\"24px\" viewBox=\"0 -960 960 960\">\n",
              "    <path d=\"M120-120v-720h720v720H120Zm60-500h600v-160H180v160Zm220 220h160v-160H400v160Zm0 220h160v-160H400v160ZM180-400h160v-160H180v160Zm440 0h160v-160H620v160ZM180-180h160v-160H180v160Zm440 0h160v-160H620v160Z\"/>\n",
              "  </svg>\n",
              "    </button>\n",
              "\n",
              "  <style>\n",
              "    .colab-df-container {\n",
              "      display:flex;\n",
              "      gap: 12px;\n",
              "    }\n",
              "\n",
              "    .colab-df-convert {\n",
              "      background-color: #E8F0FE;\n",
              "      border: none;\n",
              "      border-radius: 50%;\n",
              "      cursor: pointer;\n",
              "      display: none;\n",
              "      fill: #1967D2;\n",
              "      height: 32px;\n",
              "      padding: 0 0 0 0;\n",
              "      width: 32px;\n",
              "    }\n",
              "\n",
              "    .colab-df-convert:hover {\n",
              "      background-color: #E2EBFA;\n",
              "      box-shadow: 0px 1px 2px rgba(60, 64, 67, 0.3), 0px 1px 3px 1px rgba(60, 64, 67, 0.15);\n",
              "      fill: #174EA6;\n",
              "    }\n",
              "\n",
              "    .colab-df-buttons div {\n",
              "      margin-bottom: 4px;\n",
              "    }\n",
              "\n",
              "    [theme=dark] .colab-df-convert {\n",
              "      background-color: #3B4455;\n",
              "      fill: #D2E3FC;\n",
              "    }\n",
              "\n",
              "    [theme=dark] .colab-df-convert:hover {\n",
              "      background-color: #434B5C;\n",
              "      box-shadow: 0px 1px 3px 1px rgba(0, 0, 0, 0.15);\n",
              "      filter: drop-shadow(0px 1px 2px rgba(0, 0, 0, 0.3));\n",
              "      fill: #FFFFFF;\n",
              "    }\n",
              "  </style>\n",
              "\n",
              "    <script>\n",
              "      const buttonEl =\n",
              "        document.querySelector('#df-3ed12867-b16f-441a-b444-15effc998adb button.colab-df-convert');\n",
              "      buttonEl.style.display =\n",
              "        google.colab.kernel.accessAllowed ? 'block' : 'none';\n",
              "\n",
              "      async function convertToInteractive(key) {\n",
              "        const element = document.querySelector('#df-3ed12867-b16f-441a-b444-15effc998adb');\n",
              "        const dataTable =\n",
              "          await google.colab.kernel.invokeFunction('convertToInteractive',\n",
              "                                                    [key], {});\n",
              "        if (!dataTable) return;\n",
              "\n",
              "        const docLinkHtml = 'Like what you see? Visit the ' +\n",
              "          '<a target=\"_blank\" href=https://colab.research.google.com/notebooks/data_table.ipynb>data table notebook</a>'\n",
              "          + ' to learn more about interactive tables.';\n",
              "        element.innerHTML = '';\n",
              "        dataTable['output_type'] = 'display_data';\n",
              "        await google.colab.output.renderOutput(dataTable, element);\n",
              "        const docLink = document.createElement('div');\n",
              "        docLink.innerHTML = docLinkHtml;\n",
              "        element.appendChild(docLink);\n",
              "      }\n",
              "    </script>\n",
              "  </div>\n",
              "\n",
              "\n",
              "<div id=\"df-e1c2d37f-b2d1-447f-b165-080d6d4a075f\">\n",
              "  <button class=\"colab-df-quickchart\" onclick=\"quickchart('df-e1c2d37f-b2d1-447f-b165-080d6d4a075f')\"\n",
              "            title=\"Suggest charts\"\n",
              "            style=\"display:none;\">\n",
              "\n",
              "<svg xmlns=\"http://www.w3.org/2000/svg\" height=\"24px\"viewBox=\"0 0 24 24\"\n",
              "     width=\"24px\">\n",
              "    <g>\n",
              "        <path d=\"M19 3H5c-1.1 0-2 .9-2 2v14c0 1.1.9 2 2 2h14c1.1 0 2-.9 2-2V5c0-1.1-.9-2-2-2zM9 17H7v-7h2v7zm4 0h-2V7h2v10zm4 0h-2v-4h2v4z\"/>\n",
              "    </g>\n",
              "</svg>\n",
              "  </button>\n",
              "\n",
              "<style>\n",
              "  .colab-df-quickchart {\n",
              "      --bg-color: #E8F0FE;\n",
              "      --fill-color: #1967D2;\n",
              "      --hover-bg-color: #E2EBFA;\n",
              "      --hover-fill-color: #174EA6;\n",
              "      --disabled-fill-color: #AAA;\n",
              "      --disabled-bg-color: #DDD;\n",
              "  }\n",
              "\n",
              "  [theme=dark] .colab-df-quickchart {\n",
              "      --bg-color: #3B4455;\n",
              "      --fill-color: #D2E3FC;\n",
              "      --hover-bg-color: #434B5C;\n",
              "      --hover-fill-color: #FFFFFF;\n",
              "      --disabled-bg-color: #3B4455;\n",
              "      --disabled-fill-color: #666;\n",
              "  }\n",
              "\n",
              "  .colab-df-quickchart {\n",
              "    background-color: var(--bg-color);\n",
              "    border: none;\n",
              "    border-radius: 50%;\n",
              "    cursor: pointer;\n",
              "    display: none;\n",
              "    fill: var(--fill-color);\n",
              "    height: 32px;\n",
              "    padding: 0;\n",
              "    width: 32px;\n",
              "  }\n",
              "\n",
              "  .colab-df-quickchart:hover {\n",
              "    background-color: var(--hover-bg-color);\n",
              "    box-shadow: 0 1px 2px rgba(60, 64, 67, 0.3), 0 1px 3px 1px rgba(60, 64, 67, 0.15);\n",
              "    fill: var(--button-hover-fill-color);\n",
              "  }\n",
              "\n",
              "  .colab-df-quickchart-complete:disabled,\n",
              "  .colab-df-quickchart-complete:disabled:hover {\n",
              "    background-color: var(--disabled-bg-color);\n",
              "    fill: var(--disabled-fill-color);\n",
              "    box-shadow: none;\n",
              "  }\n",
              "\n",
              "  .colab-df-spinner {\n",
              "    border: 2px solid var(--fill-color);\n",
              "    border-color: transparent;\n",
              "    border-bottom-color: var(--fill-color);\n",
              "    animation:\n",
              "      spin 1s steps(1) infinite;\n",
              "  }\n",
              "\n",
              "  @keyframes spin {\n",
              "    0% {\n",
              "      border-color: transparent;\n",
              "      border-bottom-color: var(--fill-color);\n",
              "      border-left-color: var(--fill-color);\n",
              "    }\n",
              "    20% {\n",
              "      border-color: transparent;\n",
              "      border-left-color: var(--fill-color);\n",
              "      border-top-color: var(--fill-color);\n",
              "    }\n",
              "    30% {\n",
              "      border-color: transparent;\n",
              "      border-left-color: var(--fill-color);\n",
              "      border-top-color: var(--fill-color);\n",
              "      border-right-color: var(--fill-color);\n",
              "    }\n",
              "    40% {\n",
              "      border-color: transparent;\n",
              "      border-right-color: var(--fill-color);\n",
              "      border-top-color: var(--fill-color);\n",
              "    }\n",
              "    60% {\n",
              "      border-color: transparent;\n",
              "      border-right-color: var(--fill-color);\n",
              "    }\n",
              "    80% {\n",
              "      border-color: transparent;\n",
              "      border-right-color: var(--fill-color);\n",
              "      border-bottom-color: var(--fill-color);\n",
              "    }\n",
              "    90% {\n",
              "      border-color: transparent;\n",
              "      border-bottom-color: var(--fill-color);\n",
              "    }\n",
              "  }\n",
              "</style>\n",
              "\n",
              "  <script>\n",
              "    async function quickchart(key) {\n",
              "      const quickchartButtonEl =\n",
              "        document.querySelector('#' + key + ' button');\n",
              "      quickchartButtonEl.disabled = true;  // To prevent multiple clicks.\n",
              "      quickchartButtonEl.classList.add('colab-df-spinner');\n",
              "      try {\n",
              "        const charts = await google.colab.kernel.invokeFunction(\n",
              "            'suggestCharts', [key], {});\n",
              "      } catch (error) {\n",
              "        console.error('Error during call to suggestCharts:', error);\n",
              "      }\n",
              "      quickchartButtonEl.classList.remove('colab-df-spinner');\n",
              "      quickchartButtonEl.classList.add('colab-df-quickchart-complete');\n",
              "    }\n",
              "    (() => {\n",
              "      let quickchartButtonEl =\n",
              "        document.querySelector('#df-e1c2d37f-b2d1-447f-b165-080d6d4a075f button');\n",
              "      quickchartButtonEl.style.display =\n",
              "        google.colab.kernel.accessAllowed ? 'block' : 'none';\n",
              "    })();\n",
              "  </script>\n",
              "</div>\n",
              "\n",
              "    </div>\n",
              "  </div>\n"
            ],
            "application/vnd.google.colaboratory.intrinsic+json": {
              "type": "dataframe",
              "variable_name": "data_df",
              "summary": "{\n  \"name\": \"data_df\",\n  \"rows\": 92535,\n  \"fields\": [\n    {\n      \"column\": \"realtime_start\",\n      \"properties\": {\n        \"dtype\": \"object\",\n        \"num_unique_values\": 1,\n        \"samples\": [\n          \"2024-04-21\"\n        ],\n        \"semantic_type\": \"\",\n        \"description\": \"\"\n      }\n    },\n    {\n      \"column\": \"realtime_end\",\n      \"properties\": {\n        \"dtype\": \"object\",\n        \"num_unique_values\": 1,\n        \"samples\": [\n          \"2024-04-21\"\n        ],\n        \"semantic_type\": \"\",\n        \"description\": \"\"\n      }\n    },\n    {\n      \"column\": \"date\",\n      \"properties\": {\n        \"dtype\": \"object\",\n        \"num_unique_values\": 93,\n        \"samples\": [\n          \"2019-11-01\"\n        ],\n        \"semantic_type\": \"\",\n        \"description\": \"\"\n      }\n    },\n    {\n      \"column\": \"market_hotness\",\n      \"properties\": {\n        \"dtype\": \"category\",\n        \"num_unique_values\": 28281,\n        \"samples\": [\n          \"321880.0\"\n        ],\n        \"semantic_type\": \"\",\n        \"description\": \"\"\n      }\n    },\n    {\n      \"column\": \"region\",\n      \"properties\": {\n        \"dtype\": \"category\",\n        \"num_unique_values\": 995,\n        \"samples\": [\n          \"Dodge County, WI\"\n        ],\n        \"semantic_type\": \"\",\n        \"description\": \"\"\n      }\n    },\n    {\n      \"column\": \"code\",\n      \"properties\": {\n        \"dtype\": \"category\",\n        \"num_unique_values\": 995,\n        \"samples\": [\n          \"55027\"\n        ],\n        \"semantic_type\": \"\",\n        \"description\": \"\"\n      }\n    },\n    {\n      \"column\": \"value\",\n      \"properties\": {\n        \"dtype\": \"number\",\n        \"std\": 208536.90671357093,\n        \"min\": 87950.0,\n        \"max\": 1779750.0,\n        \"num_unique_values\": 922,\n        \"samples\": [\n          275825.0\n        ],\n        \"semantic_type\": \"\",\n        \"description\": \"\"\n      }\n    },\n    {\n      \"column\": \"series_id\",\n      \"properties\": {\n        \"dtype\": \"category\",\n        \"num_unique_values\": 995,\n        \"samples\": [\n          \"MELIPRCOUNTY55027\"\n        ],\n        \"semantic_type\": \"\",\n        \"description\": \"\"\n      }\n    }\n  ]\n}"
            }
          },
          "metadata": {},
          "execution_count": 63
        }
      ]
    },
    {
      "cell_type": "code",
      "source": [
        "# Cleaning\n",
        "col_l = ['date', 'year', 'month', 'country', 'region', 'state', 'county', 'code', metric_name]\n",
        "\n",
        "data_df['date'] = pd.to_datetime(data_df['date'])\n",
        "data_df['year'] = data_df['date'].dt.year\n",
        "data_df['month'] = data_df['date'].dt.month\n",
        "data_df['date'] = data_df['date'].dt.date\n",
        "\n",
        "data_df['country'] = 'USA'\n",
        "data_df['state'] = data_df['region'].apply(lambda x: str(x).split(',')[-1].strip())\n",
        "data_df['county'] = data_df['region'].apply(lambda x: str(x).split(',')[0].strip())\n",
        "\n",
        "\n",
        "market_hotness_df = data_df[col_l]\n",
        "\n",
        "market_hotness_df.head()"
      ],
      "metadata": {
        "colab": {
          "base_uri": "https://localhost:8080/",
          "height": 206
        },
        "id": "nNY8CdemroJ5",
        "outputId": "50f120ce-0f00-4ffc-ade0-1faedf059761"
      },
      "execution_count": null,
      "outputs": [
        {
          "output_type": "execute_result",
          "data": {
            "text/plain": [
              "         date  year  month country                region state  \\\n",
              "0  2016-07-01  2016      7     USA  Sebastian County, AR    AR   \n",
              "1  2016-08-01  2016      8     USA  Sebastian County, AR    AR   \n",
              "2  2016-09-01  2016      9     USA  Sebastian County, AR    AR   \n",
              "3  2016-10-01  2016     10     USA  Sebastian County, AR    AR   \n",
              "4  2016-11-01  2016     11     USA  Sebastian County, AR    AR   \n",
              "\n",
              "             county   code market_hotness  \n",
              "0  Sebastian County  05131              .  \n",
              "1  Sebastian County  05131              .  \n",
              "2  Sebastian County  05131              .  \n",
              "3  Sebastian County  05131              .  \n",
              "4  Sebastian County  05131              .  "
            ],
            "text/html": [
              "\n",
              "  <div id=\"df-6b057791-69b4-4891-8ab9-df097884e06f\" class=\"colab-df-container\">\n",
              "    <div>\n",
              "<style scoped>\n",
              "    .dataframe tbody tr th:only-of-type {\n",
              "        vertical-align: middle;\n",
              "    }\n",
              "\n",
              "    .dataframe tbody tr th {\n",
              "        vertical-align: top;\n",
              "    }\n",
              "\n",
              "    .dataframe thead th {\n",
              "        text-align: right;\n",
              "    }\n",
              "</style>\n",
              "<table border=\"1\" class=\"dataframe\">\n",
              "  <thead>\n",
              "    <tr style=\"text-align: right;\">\n",
              "      <th></th>\n",
              "      <th>date</th>\n",
              "      <th>year</th>\n",
              "      <th>month</th>\n",
              "      <th>country</th>\n",
              "      <th>region</th>\n",
              "      <th>state</th>\n",
              "      <th>county</th>\n",
              "      <th>code</th>\n",
              "      <th>market_hotness</th>\n",
              "    </tr>\n",
              "  </thead>\n",
              "  <tbody>\n",
              "    <tr>\n",
              "      <th>0</th>\n",
              "      <td>2016-07-01</td>\n",
              "      <td>2016</td>\n",
              "      <td>7</td>\n",
              "      <td>USA</td>\n",
              "      <td>Sebastian County, AR</td>\n",
              "      <td>AR</td>\n",
              "      <td>Sebastian County</td>\n",
              "      <td>05131</td>\n",
              "      <td>.</td>\n",
              "    </tr>\n",
              "    <tr>\n",
              "      <th>1</th>\n",
              "      <td>2016-08-01</td>\n",
              "      <td>2016</td>\n",
              "      <td>8</td>\n",
              "      <td>USA</td>\n",
              "      <td>Sebastian County, AR</td>\n",
              "      <td>AR</td>\n",
              "      <td>Sebastian County</td>\n",
              "      <td>05131</td>\n",
              "      <td>.</td>\n",
              "    </tr>\n",
              "    <tr>\n",
              "      <th>2</th>\n",
              "      <td>2016-09-01</td>\n",
              "      <td>2016</td>\n",
              "      <td>9</td>\n",
              "      <td>USA</td>\n",
              "      <td>Sebastian County, AR</td>\n",
              "      <td>AR</td>\n",
              "      <td>Sebastian County</td>\n",
              "      <td>05131</td>\n",
              "      <td>.</td>\n",
              "    </tr>\n",
              "    <tr>\n",
              "      <th>3</th>\n",
              "      <td>2016-10-01</td>\n",
              "      <td>2016</td>\n",
              "      <td>10</td>\n",
              "      <td>USA</td>\n",
              "      <td>Sebastian County, AR</td>\n",
              "      <td>AR</td>\n",
              "      <td>Sebastian County</td>\n",
              "      <td>05131</td>\n",
              "      <td>.</td>\n",
              "    </tr>\n",
              "    <tr>\n",
              "      <th>4</th>\n",
              "      <td>2016-11-01</td>\n",
              "      <td>2016</td>\n",
              "      <td>11</td>\n",
              "      <td>USA</td>\n",
              "      <td>Sebastian County, AR</td>\n",
              "      <td>AR</td>\n",
              "      <td>Sebastian County</td>\n",
              "      <td>05131</td>\n",
              "      <td>.</td>\n",
              "    </tr>\n",
              "  </tbody>\n",
              "</table>\n",
              "</div>\n",
              "    <div class=\"colab-df-buttons\">\n",
              "\n",
              "  <div class=\"colab-df-container\">\n",
              "    <button class=\"colab-df-convert\" onclick=\"convertToInteractive('df-6b057791-69b4-4891-8ab9-df097884e06f')\"\n",
              "            title=\"Convert this dataframe to an interactive table.\"\n",
              "            style=\"display:none;\">\n",
              "\n",
              "  <svg xmlns=\"http://www.w3.org/2000/svg\" height=\"24px\" viewBox=\"0 -960 960 960\">\n",
              "    <path d=\"M120-120v-720h720v720H120Zm60-500h600v-160H180v160Zm220 220h160v-160H400v160Zm0 220h160v-160H400v160ZM180-400h160v-160H180v160Zm440 0h160v-160H620v160ZM180-180h160v-160H180v160Zm440 0h160v-160H620v160Z\"/>\n",
              "  </svg>\n",
              "    </button>\n",
              "\n",
              "  <style>\n",
              "    .colab-df-container {\n",
              "      display:flex;\n",
              "      gap: 12px;\n",
              "    }\n",
              "\n",
              "    .colab-df-convert {\n",
              "      background-color: #E8F0FE;\n",
              "      border: none;\n",
              "      border-radius: 50%;\n",
              "      cursor: pointer;\n",
              "      display: none;\n",
              "      fill: #1967D2;\n",
              "      height: 32px;\n",
              "      padding: 0 0 0 0;\n",
              "      width: 32px;\n",
              "    }\n",
              "\n",
              "    .colab-df-convert:hover {\n",
              "      background-color: #E2EBFA;\n",
              "      box-shadow: 0px 1px 2px rgba(60, 64, 67, 0.3), 0px 1px 3px 1px rgba(60, 64, 67, 0.15);\n",
              "      fill: #174EA6;\n",
              "    }\n",
              "\n",
              "    .colab-df-buttons div {\n",
              "      margin-bottom: 4px;\n",
              "    }\n",
              "\n",
              "    [theme=dark] .colab-df-convert {\n",
              "      background-color: #3B4455;\n",
              "      fill: #D2E3FC;\n",
              "    }\n",
              "\n",
              "    [theme=dark] .colab-df-convert:hover {\n",
              "      background-color: #434B5C;\n",
              "      box-shadow: 0px 1px 3px 1px rgba(0, 0, 0, 0.15);\n",
              "      filter: drop-shadow(0px 1px 2px rgba(0, 0, 0, 0.3));\n",
              "      fill: #FFFFFF;\n",
              "    }\n",
              "  </style>\n",
              "\n",
              "    <script>\n",
              "      const buttonEl =\n",
              "        document.querySelector('#df-6b057791-69b4-4891-8ab9-df097884e06f button.colab-df-convert');\n",
              "      buttonEl.style.display =\n",
              "        google.colab.kernel.accessAllowed ? 'block' : 'none';\n",
              "\n",
              "      async function convertToInteractive(key) {\n",
              "        const element = document.querySelector('#df-6b057791-69b4-4891-8ab9-df097884e06f');\n",
              "        const dataTable =\n",
              "          await google.colab.kernel.invokeFunction('convertToInteractive',\n",
              "                                                    [key], {});\n",
              "        if (!dataTable) return;\n",
              "\n",
              "        const docLinkHtml = 'Like what you see? Visit the ' +\n",
              "          '<a target=\"_blank\" href=https://colab.research.google.com/notebooks/data_table.ipynb>data table notebook</a>'\n",
              "          + ' to learn more about interactive tables.';\n",
              "        element.innerHTML = '';\n",
              "        dataTable['output_type'] = 'display_data';\n",
              "        await google.colab.output.renderOutput(dataTable, element);\n",
              "        const docLink = document.createElement('div');\n",
              "        docLink.innerHTML = docLinkHtml;\n",
              "        element.appendChild(docLink);\n",
              "      }\n",
              "    </script>\n",
              "  </div>\n",
              "\n",
              "\n",
              "<div id=\"df-6fe5288d-9b24-449a-9416-c82c092f5498\">\n",
              "  <button class=\"colab-df-quickchart\" onclick=\"quickchart('df-6fe5288d-9b24-449a-9416-c82c092f5498')\"\n",
              "            title=\"Suggest charts\"\n",
              "            style=\"display:none;\">\n",
              "\n",
              "<svg xmlns=\"http://www.w3.org/2000/svg\" height=\"24px\"viewBox=\"0 0 24 24\"\n",
              "     width=\"24px\">\n",
              "    <g>\n",
              "        <path d=\"M19 3H5c-1.1 0-2 .9-2 2v14c0 1.1.9 2 2 2h14c1.1 0 2-.9 2-2V5c0-1.1-.9-2-2-2zM9 17H7v-7h2v7zm4 0h-2V7h2v10zm4 0h-2v-4h2v4z\"/>\n",
              "    </g>\n",
              "</svg>\n",
              "  </button>\n",
              "\n",
              "<style>\n",
              "  .colab-df-quickchart {\n",
              "      --bg-color: #E8F0FE;\n",
              "      --fill-color: #1967D2;\n",
              "      --hover-bg-color: #E2EBFA;\n",
              "      --hover-fill-color: #174EA6;\n",
              "      --disabled-fill-color: #AAA;\n",
              "      --disabled-bg-color: #DDD;\n",
              "  }\n",
              "\n",
              "  [theme=dark] .colab-df-quickchart {\n",
              "      --bg-color: #3B4455;\n",
              "      --fill-color: #D2E3FC;\n",
              "      --hover-bg-color: #434B5C;\n",
              "      --hover-fill-color: #FFFFFF;\n",
              "      --disabled-bg-color: #3B4455;\n",
              "      --disabled-fill-color: #666;\n",
              "  }\n",
              "\n",
              "  .colab-df-quickchart {\n",
              "    background-color: var(--bg-color);\n",
              "    border: none;\n",
              "    border-radius: 50%;\n",
              "    cursor: pointer;\n",
              "    display: none;\n",
              "    fill: var(--fill-color);\n",
              "    height: 32px;\n",
              "    padding: 0;\n",
              "    width: 32px;\n",
              "  }\n",
              "\n",
              "  .colab-df-quickchart:hover {\n",
              "    background-color: var(--hover-bg-color);\n",
              "    box-shadow: 0 1px 2px rgba(60, 64, 67, 0.3), 0 1px 3px 1px rgba(60, 64, 67, 0.15);\n",
              "    fill: var(--button-hover-fill-color);\n",
              "  }\n",
              "\n",
              "  .colab-df-quickchart-complete:disabled,\n",
              "  .colab-df-quickchart-complete:disabled:hover {\n",
              "    background-color: var(--disabled-bg-color);\n",
              "    fill: var(--disabled-fill-color);\n",
              "    box-shadow: none;\n",
              "  }\n",
              "\n",
              "  .colab-df-spinner {\n",
              "    border: 2px solid var(--fill-color);\n",
              "    border-color: transparent;\n",
              "    border-bottom-color: var(--fill-color);\n",
              "    animation:\n",
              "      spin 1s steps(1) infinite;\n",
              "  }\n",
              "\n",
              "  @keyframes spin {\n",
              "    0% {\n",
              "      border-color: transparent;\n",
              "      border-bottom-color: var(--fill-color);\n",
              "      border-left-color: var(--fill-color);\n",
              "    }\n",
              "    20% {\n",
              "      border-color: transparent;\n",
              "      border-left-color: var(--fill-color);\n",
              "      border-top-color: var(--fill-color);\n",
              "    }\n",
              "    30% {\n",
              "      border-color: transparent;\n",
              "      border-left-color: var(--fill-color);\n",
              "      border-top-color: var(--fill-color);\n",
              "      border-right-color: var(--fill-color);\n",
              "    }\n",
              "    40% {\n",
              "      border-color: transparent;\n",
              "      border-right-color: var(--fill-color);\n",
              "      border-top-color: var(--fill-color);\n",
              "    }\n",
              "    60% {\n",
              "      border-color: transparent;\n",
              "      border-right-color: var(--fill-color);\n",
              "    }\n",
              "    80% {\n",
              "      border-color: transparent;\n",
              "      border-right-color: var(--fill-color);\n",
              "      border-bottom-color: var(--fill-color);\n",
              "    }\n",
              "    90% {\n",
              "      border-color: transparent;\n",
              "      border-bottom-color: var(--fill-color);\n",
              "    }\n",
              "  }\n",
              "</style>\n",
              "\n",
              "  <script>\n",
              "    async function quickchart(key) {\n",
              "      const quickchartButtonEl =\n",
              "        document.querySelector('#' + key + ' button');\n",
              "      quickchartButtonEl.disabled = true;  // To prevent multiple clicks.\n",
              "      quickchartButtonEl.classList.add('colab-df-spinner');\n",
              "      try {\n",
              "        const charts = await google.colab.kernel.invokeFunction(\n",
              "            'suggestCharts', [key], {});\n",
              "      } catch (error) {\n",
              "        console.error('Error during call to suggestCharts:', error);\n",
              "      }\n",
              "      quickchartButtonEl.classList.remove('colab-df-spinner');\n",
              "      quickchartButtonEl.classList.add('colab-df-quickchart-complete');\n",
              "    }\n",
              "    (() => {\n",
              "      let quickchartButtonEl =\n",
              "        document.querySelector('#df-6fe5288d-9b24-449a-9416-c82c092f5498 button');\n",
              "      quickchartButtonEl.style.display =\n",
              "        google.colab.kernel.accessAllowed ? 'block' : 'none';\n",
              "    })();\n",
              "  </script>\n",
              "</div>\n",
              "\n",
              "    </div>\n",
              "  </div>\n"
            ],
            "application/vnd.google.colaboratory.intrinsic+json": {
              "type": "dataframe",
              "variable_name": "market_hotness_df",
              "summary": "{\n  \"name\": \"market_hotness_df\",\n  \"rows\": 92535,\n  \"fields\": [\n    {\n      \"column\": \"date\",\n      \"properties\": {\n        \"dtype\": \"date\",\n        \"min\": \"2016-07-01\",\n        \"max\": \"2024-03-01\",\n        \"num_unique_values\": 93,\n        \"samples\": [\n          \"2019-11-01\",\n          \"2018-05-01\",\n          \"2021-02-01\"\n        ],\n        \"semantic_type\": \"\",\n        \"description\": \"\"\n      }\n    },\n    {\n      \"column\": \"year\",\n      \"properties\": {\n        \"dtype\": \"int32\",\n        \"num_unique_values\": 9,\n        \"samples\": [\n          2023,\n          2017,\n          2021\n        ],\n        \"semantic_type\": \"\",\n        \"description\": \"\"\n      }\n    },\n    {\n      \"column\": \"month\",\n      \"properties\": {\n        \"dtype\": \"int32\",\n        \"num_unique_values\": 12,\n        \"samples\": [\n          5,\n          4,\n          7\n        ],\n        \"semantic_type\": \"\",\n        \"description\": \"\"\n      }\n    },\n    {\n      \"column\": \"country\",\n      \"properties\": {\n        \"dtype\": \"category\",\n        \"num_unique_values\": 1,\n        \"samples\": [\n          \"USA\"\n        ],\n        \"semantic_type\": \"\",\n        \"description\": \"\"\n      }\n    },\n    {\n      \"column\": \"region\",\n      \"properties\": {\n        \"dtype\": \"category\",\n        \"num_unique_values\": 995,\n        \"samples\": [\n          \"Dodge County, WI\"\n        ],\n        \"semantic_type\": \"\",\n        \"description\": \"\"\n      }\n    },\n    {\n      \"column\": \"state\",\n      \"properties\": {\n        \"dtype\": \"category\",\n        \"num_unique_values\": 51,\n        \"samples\": [\n          \"WA\"\n        ],\n        \"semantic_type\": \"\",\n        \"description\": \"\"\n      }\n    },\n    {\n      \"column\": \"county\",\n      \"properties\": {\n        \"dtype\": \"category\",\n        \"num_unique_values\": 757,\n        \"samples\": [\n          \"Sumter County\"\n        ],\n        \"semantic_type\": \"\",\n        \"description\": \"\"\n      }\n    },\n    {\n      \"column\": \"code\",\n      \"properties\": {\n        \"dtype\": \"category\",\n        \"num_unique_values\": 995,\n        \"samples\": [\n          \"55027\"\n        ],\n        \"semantic_type\": \"\",\n        \"description\": \"\"\n      }\n    },\n    {\n      \"column\": \"market_hotness\",\n      \"properties\": {\n        \"dtype\": \"category\",\n        \"num_unique_values\": 28281,\n        \"samples\": [\n          \"321880.0\"\n        ],\n        \"semantic_type\": \"\",\n        \"description\": \"\"\n      }\n    }\n  ]\n}"
            }
          },
          "metadata": {},
          "execution_count": 64
        }
      ]
    },
    {
      "cell_type": "code",
      "source": [
        "# download data\n",
        "fn = f'{metric_name}.csv'\n",
        "market_hotness_df.to_csv(fn, index=False)\n",
        "files.download(fn)"
      ],
      "metadata": {
        "colab": {
          "base_uri": "https://localhost:8080/",
          "height": 17
        },
        "id": "KCcCn2DAroM7",
        "outputId": "ef04e011-4789-4875-c607-7c9a0f8400fe"
      },
      "execution_count": null,
      "outputs": [
        {
          "output_type": "display_data",
          "data": {
            "text/plain": [
              "<IPython.core.display.Javascript object>"
            ],
            "application/javascript": [
              "\n",
              "    async function download(id, filename, size) {\n",
              "      if (!google.colab.kernel.accessAllowed) {\n",
              "        return;\n",
              "      }\n",
              "      const div = document.createElement('div');\n",
              "      const label = document.createElement('label');\n",
              "      label.textContent = `Downloading \"${filename}\": `;\n",
              "      div.appendChild(label);\n",
              "      const progress = document.createElement('progress');\n",
              "      progress.max = size;\n",
              "      div.appendChild(progress);\n",
              "      document.body.appendChild(div);\n",
              "\n",
              "      const buffers = [];\n",
              "      let downloaded = 0;\n",
              "\n",
              "      const channel = await google.colab.kernel.comms.open(id);\n",
              "      // Send a message to notify the kernel that we're ready.\n",
              "      channel.send({})\n",
              "\n",
              "      for await (const message of channel.messages) {\n",
              "        // Send a message to notify the kernel that we're ready.\n",
              "        channel.send({})\n",
              "        if (message.buffers) {\n",
              "          for (const buffer of message.buffers) {\n",
              "            buffers.push(buffer);\n",
              "            downloaded += buffer.byteLength;\n",
              "            progress.value = downloaded;\n",
              "          }\n",
              "        }\n",
              "      }\n",
              "      const blob = new Blob(buffers, {type: 'application/binary'});\n",
              "      const a = document.createElement('a');\n",
              "      a.href = window.URL.createObjectURL(blob);\n",
              "      a.download = filename;\n",
              "      div.appendChild(a);\n",
              "      a.click();\n",
              "      div.remove();\n",
              "    }\n",
              "  "
            ]
          },
          "metadata": {}
        },
        {
          "output_type": "display_data",
          "data": {
            "text/plain": [
              "<IPython.core.display.Javascript object>"
            ],
            "application/javascript": [
              "download(\"download_c13745bd-4a48-457f-9525-2dcc50d1cb98\", \"market_hotness.csv\", 7026264)"
            ]
          },
          "metadata": {}
        }
      ]
    },
    {
      "cell_type": "markdown",
      "source": [
        "---\n",
        "---\n",
        "---"
      ],
      "metadata": {
        "id": "QwzJmJECsaZD"
      }
    },
    {
      "cell_type": "code",
      "source": [
        "# Settings\n",
        "snapshot_date = r'2023-01-01'\n",
        "series_id = 'CASANF0POP'\n",
        "metric_name = 'population_annual'\n",
        "\n",
        "\n",
        "# API Manager\n",
        "am = api_manager(API_Key_l)\n",
        "\n",
        "# CONFIG\n",
        "config_dict = {'api_url': 'https://api.stlouisfed.org/geofred/series/data?'\n",
        "               , 'date': snapshot_date\n",
        "               , 'series_id': series_id\n",
        "               , 'metric_name': metric_name\n",
        "               , 'api_manager': am\n",
        "              }\n",
        "\n",
        "# download manager\n",
        "dl_manager = fred_df_manager(config_dict)\n",
        "\n",
        "\n",
        "# # test\n",
        "# data_df = dl_manager.get_data(series_id)\n",
        "\n",
        "\n",
        "# # download\n",
        "data_df = dl_manager.download_data({'value': metric_name})\n",
        "\n",
        "# PREVIEW\n",
        "data_df.head()"
      ],
      "metadata": {
        "colab": {
          "base_uri": "https://localhost:8080/",
          "height": 1000
        },
        "id": "B02pBHYrroPg",
        "outputId": "fc328e6c-a814-40f1-d928-f999b7657a50"
      },
      "execution_count": null,
      "outputs": [
        {
          "output_type": "stream",
          "name": "stdout",
          "text": [
            "title: 2023 Resident Population by County (Thousands of Persons)\n",
            "region: county\n",
            "seasonality: Not Seasonally Adjusted\n",
            "units: Thousands of Persons\n",
            "frequency: Annual\n"
          ]
        },
        {
          "output_type": "stream",
          "name": "stderr",
          "text": [
            "Downloading data:   4%|▍         | 120/3127 [00:26<12:37,  3.97it/s]"
          ]
        },
        {
          "output_type": "stream",
          "name": "stdout",
          "text": [
            "Error Message: Too Many Requests.  Exceeded Rate Limit\n",
            "Switching Keys: 0\n"
          ]
        },
        {
          "output_type": "stream",
          "name": "stderr",
          "text": [
            "Downloading data:   8%|▊         | 247/3127 [00:57<11:23,  4.22it/s]"
          ]
        },
        {
          "output_type": "stream",
          "name": "stdout",
          "text": [
            "Error Message: Too Many Requests.  Exceeded Rate Limit\n",
            "Switching Keys: 0\n"
          ]
        },
        {
          "output_type": "stream",
          "name": "stderr",
          "text": [
            "Downloading data:  15%|█▌        | 471/3127 [01:54<10:50,  4.09it/s]"
          ]
        },
        {
          "output_type": "stream",
          "name": "stdout",
          "text": [
            "Error Message: Too Many Requests.  Exceeded Rate Limit\n",
            "Switching Keys: 0\n"
          ]
        },
        {
          "output_type": "stream",
          "name": "stderr",
          "text": [
            "Downloading data:  19%|█▉        | 591/3127 [02:22<13:11,  3.20it/s]"
          ]
        },
        {
          "output_type": "stream",
          "name": "stdout",
          "text": [
            "Error Message: Too Many Requests.  Exceeded Rate Limit\n",
            "Switching Keys: 0\n"
          ]
        },
        {
          "output_type": "stream",
          "name": "stderr",
          "text": [
            "Downloading data:  23%|██▎       | 732/3127 [02:53<09:37,  4.14it/s]"
          ]
        },
        {
          "output_type": "stream",
          "name": "stdout",
          "text": [
            "Error Message: Too Many Requests.  Exceeded Rate Limit\n",
            "Switching Keys: 0\n"
          ]
        },
        {
          "output_type": "stream",
          "name": "stderr",
          "text": [
            "Downloading data:  27%|██▋       | 853/3127 [03:20<10:03,  3.77it/s]"
          ]
        },
        {
          "output_type": "stream",
          "name": "stdout",
          "text": [
            "Error Message: Too Many Requests.  Exceeded Rate Limit\n",
            "Switching Keys: 0\n"
          ]
        },
        {
          "output_type": "stream",
          "name": "stderr",
          "text": [
            "Downloading data:  32%|███▏      | 1008/3127 [03:54<08:10,  4.32it/s]"
          ]
        },
        {
          "output_type": "stream",
          "name": "stdout",
          "text": [
            "Error Message: Too Many Requests.  Exceeded Rate Limit\n",
            "Switching Keys: 0\n"
          ]
        },
        {
          "output_type": "stream",
          "name": "stderr",
          "text": [
            "Downloading data:  36%|███▌      | 1128/3127 [04:21<07:59,  4.16it/s]"
          ]
        },
        {
          "output_type": "stream",
          "name": "stdout",
          "text": [
            "Error Message: Too Many Requests.  Exceeded Rate Limit\n",
            "Switching Keys: 0\n"
          ]
        },
        {
          "output_type": "stream",
          "name": "stderr",
          "text": [
            "Downloading data:  41%|████      | 1278/3127 [04:54<08:20,  3.70it/s]"
          ]
        },
        {
          "output_type": "stream",
          "name": "stdout",
          "text": [
            "Error Message: Too Many Requests.  Exceeded Rate Limit\n",
            "Switching Keys: 0\n"
          ]
        },
        {
          "output_type": "stream",
          "name": "stderr",
          "text": [
            "Downloading data:  45%|████▍     | 1398/3127 [05:21<07:05,  4.07it/s]"
          ]
        },
        {
          "output_type": "stream",
          "name": "stdout",
          "text": [
            "Error Message: Too Many Requests.  Exceeded Rate Limit\n",
            "Switching Keys: 0\n"
          ]
        },
        {
          "output_type": "stream",
          "name": "stderr",
          "text": [
            "Downloading data:  49%|████▉     | 1545/3127 [06:03<06:34,  4.01it/s]"
          ]
        },
        {
          "output_type": "stream",
          "name": "stdout",
          "text": [
            "Error Message: Too Many Requests.  Exceeded Rate Limit\n",
            "Switching Keys: 0\n"
          ]
        },
        {
          "output_type": "stream",
          "name": "stderr",
          "text": [
            "Downloading data:  57%|█████▋    | 1773/3127 [06:54<05:41,  3.97it/s]"
          ]
        },
        {
          "output_type": "stream",
          "name": "stdout",
          "text": [
            "Error Message: Too Many Requests.  Exceeded Rate Limit\n",
            "Switching Keys: 0\n"
          ]
        },
        {
          "output_type": "stream",
          "name": "stderr",
          "text": [
            "Downloading data:  61%|██████    | 1893/3127 [07:20<05:27,  3.76it/s]"
          ]
        },
        {
          "output_type": "stream",
          "name": "stdout",
          "text": [
            "Error Message: Too Many Requests.  Exceeded Rate Limit\n",
            "Switching Keys: 0\n"
          ]
        },
        {
          "output_type": "stream",
          "name": "stderr",
          "text": [
            "Downloading data:  65%|██████▌   | 2046/3127 [07:54<04:41,  3.84it/s]"
          ]
        },
        {
          "output_type": "stream",
          "name": "stdout",
          "text": [
            "Error Message: Too Many Requests.  Exceeded Rate Limit\n",
            "Switching Keys: 0\n"
          ]
        },
        {
          "output_type": "stream",
          "name": "stderr",
          "text": [
            "Downloading data:  69%|██████▉   | 2166/3127 [08:25<04:05,  3.92it/s]"
          ]
        },
        {
          "output_type": "stream",
          "name": "stdout",
          "text": [
            "Error Message: Too Many Requests.  Exceeded Rate Limit\n",
            "Switching Keys: 0\n"
          ]
        },
        {
          "output_type": "stream",
          "name": "stderr",
          "text": [
            "Downloading data:  74%|███████▎  | 2300/3127 [08:58<04:00,  3.45it/s]"
          ]
        },
        {
          "output_type": "stream",
          "name": "stdout",
          "text": [
            "Error Message: Too Many Requests.  Exceeded Rate Limit\n",
            "Switching Keys: 0\n"
          ]
        },
        {
          "output_type": "stream",
          "name": "stderr",
          "text": [
            "Downloading data:  77%|███████▋  | 2419/3127 [09:27<02:25,  4.86it/s]"
          ]
        },
        {
          "output_type": "stream",
          "name": "stdout",
          "text": [
            "Error Message: Too Many Requests.  Exceeded Rate Limit\n",
            "Switching Keys: 0\n"
          ]
        },
        {
          "output_type": "stream",
          "name": "stderr",
          "text": [
            "Downloading data:  81%|████████▏ | 2542/3127 [09:56<02:28,  3.95it/s]"
          ]
        },
        {
          "output_type": "stream",
          "name": "stdout",
          "text": [
            "Error Message: Too Many Requests.  Exceeded Rate Limit\n",
            "Switching Keys: 0\n"
          ]
        },
        {
          "output_type": "stream",
          "name": "stderr",
          "text": [
            "Downloading data:  85%|████████▌ | 2661/3127 [10:22<01:43,  4.52it/s]"
          ]
        },
        {
          "output_type": "stream",
          "name": "stdout",
          "text": [
            "Error Message: Too Many Requests.  Exceeded Rate Limit\n",
            "Switching Keys: 0\n"
          ]
        },
        {
          "output_type": "stream",
          "name": "stderr",
          "text": [
            "Downloading data:  90%|████████▉ | 2805/3127 [10:55<01:23,  3.84it/s]"
          ]
        },
        {
          "output_type": "stream",
          "name": "stdout",
          "text": [
            "Error Message: Too Many Requests.  Exceeded Rate Limit\n",
            "Switching Keys: 0\n"
          ]
        },
        {
          "output_type": "stream",
          "name": "stderr",
          "text": [
            "Downloading data:  94%|█████████▎| 2924/3127 [11:21<00:52,  3.90it/s]"
          ]
        },
        {
          "output_type": "stream",
          "name": "stdout",
          "text": [
            "Error Message: Too Many Requests.  Exceeded Rate Limit\n",
            "Switching Keys: 0\n"
          ]
        },
        {
          "output_type": "stream",
          "name": "stderr",
          "text": [
            "Downloading data:  98%|█████████▊| 3065/3127 [11:54<00:13,  4.70it/s]"
          ]
        },
        {
          "output_type": "stream",
          "name": "stdout",
          "text": [
            "Error Message: Too Many Requests.  Exceeded Rate Limit\n",
            "Switching Keys: 0\n"
          ]
        },
        {
          "output_type": "stream",
          "name": "stderr",
          "text": [
            "Downloading data: 100%|██████████| 3127/3127 [12:07<00:00,  4.30it/s]\n"
          ]
        },
        {
          "output_type": "execute_result",
          "data": {
            "text/plain": [
              "  realtime_start realtime_end        date population_annual  \\\n",
              "0     2024-04-21   2024-04-21  1970-01-01             5.199   \n",
              "1     2024-04-21   2024-04-21  1971-01-01             5.200   \n",
              "2     2024-04-21   2024-04-21  1972-01-01             5.300   \n",
              "3     2024-04-21   2024-04-21  1973-01-01             5.200   \n",
              "4     2024-04-21   2024-04-21  1974-01-01             5.400   \n",
              "\n",
              "                    region   code  value   series_id  \n",
              "0  Rappahannock County, VA  51157  7.414  VARAPP7POP  \n",
              "1  Rappahannock County, VA  51157  7.414  VARAPP7POP  \n",
              "2  Rappahannock County, VA  51157  7.414  VARAPP7POP  \n",
              "3  Rappahannock County, VA  51157  7.414  VARAPP7POP  \n",
              "4  Rappahannock County, VA  51157  7.414  VARAPP7POP  "
            ],
            "text/html": [
              "\n",
              "  <div id=\"df-e8e99d2d-23ad-471a-b4a3-6bbacb9e699d\" class=\"colab-df-container\">\n",
              "    <div>\n",
              "<style scoped>\n",
              "    .dataframe tbody tr th:only-of-type {\n",
              "        vertical-align: middle;\n",
              "    }\n",
              "\n",
              "    .dataframe tbody tr th {\n",
              "        vertical-align: top;\n",
              "    }\n",
              "\n",
              "    .dataframe thead th {\n",
              "        text-align: right;\n",
              "    }\n",
              "</style>\n",
              "<table border=\"1\" class=\"dataframe\">\n",
              "  <thead>\n",
              "    <tr style=\"text-align: right;\">\n",
              "      <th></th>\n",
              "      <th>realtime_start</th>\n",
              "      <th>realtime_end</th>\n",
              "      <th>date</th>\n",
              "      <th>population_annual</th>\n",
              "      <th>region</th>\n",
              "      <th>code</th>\n",
              "      <th>value</th>\n",
              "      <th>series_id</th>\n",
              "    </tr>\n",
              "  </thead>\n",
              "  <tbody>\n",
              "    <tr>\n",
              "      <th>0</th>\n",
              "      <td>2024-04-21</td>\n",
              "      <td>2024-04-21</td>\n",
              "      <td>1970-01-01</td>\n",
              "      <td>5.199</td>\n",
              "      <td>Rappahannock County, VA</td>\n",
              "      <td>51157</td>\n",
              "      <td>7.414</td>\n",
              "      <td>VARAPP7POP</td>\n",
              "    </tr>\n",
              "    <tr>\n",
              "      <th>1</th>\n",
              "      <td>2024-04-21</td>\n",
              "      <td>2024-04-21</td>\n",
              "      <td>1971-01-01</td>\n",
              "      <td>5.200</td>\n",
              "      <td>Rappahannock County, VA</td>\n",
              "      <td>51157</td>\n",
              "      <td>7.414</td>\n",
              "      <td>VARAPP7POP</td>\n",
              "    </tr>\n",
              "    <tr>\n",
              "      <th>2</th>\n",
              "      <td>2024-04-21</td>\n",
              "      <td>2024-04-21</td>\n",
              "      <td>1972-01-01</td>\n",
              "      <td>5.300</td>\n",
              "      <td>Rappahannock County, VA</td>\n",
              "      <td>51157</td>\n",
              "      <td>7.414</td>\n",
              "      <td>VARAPP7POP</td>\n",
              "    </tr>\n",
              "    <tr>\n",
              "      <th>3</th>\n",
              "      <td>2024-04-21</td>\n",
              "      <td>2024-04-21</td>\n",
              "      <td>1973-01-01</td>\n",
              "      <td>5.200</td>\n",
              "      <td>Rappahannock County, VA</td>\n",
              "      <td>51157</td>\n",
              "      <td>7.414</td>\n",
              "      <td>VARAPP7POP</td>\n",
              "    </tr>\n",
              "    <tr>\n",
              "      <th>4</th>\n",
              "      <td>2024-04-21</td>\n",
              "      <td>2024-04-21</td>\n",
              "      <td>1974-01-01</td>\n",
              "      <td>5.400</td>\n",
              "      <td>Rappahannock County, VA</td>\n",
              "      <td>51157</td>\n",
              "      <td>7.414</td>\n",
              "      <td>VARAPP7POP</td>\n",
              "    </tr>\n",
              "  </tbody>\n",
              "</table>\n",
              "</div>\n",
              "    <div class=\"colab-df-buttons\">\n",
              "\n",
              "  <div class=\"colab-df-container\">\n",
              "    <button class=\"colab-df-convert\" onclick=\"convertToInteractive('df-e8e99d2d-23ad-471a-b4a3-6bbacb9e699d')\"\n",
              "            title=\"Convert this dataframe to an interactive table.\"\n",
              "            style=\"display:none;\">\n",
              "\n",
              "  <svg xmlns=\"http://www.w3.org/2000/svg\" height=\"24px\" viewBox=\"0 -960 960 960\">\n",
              "    <path d=\"M120-120v-720h720v720H120Zm60-500h600v-160H180v160Zm220 220h160v-160H400v160Zm0 220h160v-160H400v160ZM180-400h160v-160H180v160Zm440 0h160v-160H620v160ZM180-180h160v-160H180v160Zm440 0h160v-160H620v160Z\"/>\n",
              "  </svg>\n",
              "    </button>\n",
              "\n",
              "  <style>\n",
              "    .colab-df-container {\n",
              "      display:flex;\n",
              "      gap: 12px;\n",
              "    }\n",
              "\n",
              "    .colab-df-convert {\n",
              "      background-color: #E8F0FE;\n",
              "      border: none;\n",
              "      border-radius: 50%;\n",
              "      cursor: pointer;\n",
              "      display: none;\n",
              "      fill: #1967D2;\n",
              "      height: 32px;\n",
              "      padding: 0 0 0 0;\n",
              "      width: 32px;\n",
              "    }\n",
              "\n",
              "    .colab-df-convert:hover {\n",
              "      background-color: #E2EBFA;\n",
              "      box-shadow: 0px 1px 2px rgba(60, 64, 67, 0.3), 0px 1px 3px 1px rgba(60, 64, 67, 0.15);\n",
              "      fill: #174EA6;\n",
              "    }\n",
              "\n",
              "    .colab-df-buttons div {\n",
              "      margin-bottom: 4px;\n",
              "    }\n",
              "\n",
              "    [theme=dark] .colab-df-convert {\n",
              "      background-color: #3B4455;\n",
              "      fill: #D2E3FC;\n",
              "    }\n",
              "\n",
              "    [theme=dark] .colab-df-convert:hover {\n",
              "      background-color: #434B5C;\n",
              "      box-shadow: 0px 1px 3px 1px rgba(0, 0, 0, 0.15);\n",
              "      filter: drop-shadow(0px 1px 2px rgba(0, 0, 0, 0.3));\n",
              "      fill: #FFFFFF;\n",
              "    }\n",
              "  </style>\n",
              "\n",
              "    <script>\n",
              "      const buttonEl =\n",
              "        document.querySelector('#df-e8e99d2d-23ad-471a-b4a3-6bbacb9e699d button.colab-df-convert');\n",
              "      buttonEl.style.display =\n",
              "        google.colab.kernel.accessAllowed ? 'block' : 'none';\n",
              "\n",
              "      async function convertToInteractive(key) {\n",
              "        const element = document.querySelector('#df-e8e99d2d-23ad-471a-b4a3-6bbacb9e699d');\n",
              "        const dataTable =\n",
              "          await google.colab.kernel.invokeFunction('convertToInteractive',\n",
              "                                                    [key], {});\n",
              "        if (!dataTable) return;\n",
              "\n",
              "        const docLinkHtml = 'Like what you see? Visit the ' +\n",
              "          '<a target=\"_blank\" href=https://colab.research.google.com/notebooks/data_table.ipynb>data table notebook</a>'\n",
              "          + ' to learn more about interactive tables.';\n",
              "        element.innerHTML = '';\n",
              "        dataTable['output_type'] = 'display_data';\n",
              "        await google.colab.output.renderOutput(dataTable, element);\n",
              "        const docLink = document.createElement('div');\n",
              "        docLink.innerHTML = docLinkHtml;\n",
              "        element.appendChild(docLink);\n",
              "      }\n",
              "    </script>\n",
              "  </div>\n",
              "\n",
              "\n",
              "<div id=\"df-1e0c607e-2c97-4b7a-b996-63591a797f0d\">\n",
              "  <button class=\"colab-df-quickchart\" onclick=\"quickchart('df-1e0c607e-2c97-4b7a-b996-63591a797f0d')\"\n",
              "            title=\"Suggest charts\"\n",
              "            style=\"display:none;\">\n",
              "\n",
              "<svg xmlns=\"http://www.w3.org/2000/svg\" height=\"24px\"viewBox=\"0 0 24 24\"\n",
              "     width=\"24px\">\n",
              "    <g>\n",
              "        <path d=\"M19 3H5c-1.1 0-2 .9-2 2v14c0 1.1.9 2 2 2h14c1.1 0 2-.9 2-2V5c0-1.1-.9-2-2-2zM9 17H7v-7h2v7zm4 0h-2V7h2v10zm4 0h-2v-4h2v4z\"/>\n",
              "    </g>\n",
              "</svg>\n",
              "  </button>\n",
              "\n",
              "<style>\n",
              "  .colab-df-quickchart {\n",
              "      --bg-color: #E8F0FE;\n",
              "      --fill-color: #1967D2;\n",
              "      --hover-bg-color: #E2EBFA;\n",
              "      --hover-fill-color: #174EA6;\n",
              "      --disabled-fill-color: #AAA;\n",
              "      --disabled-bg-color: #DDD;\n",
              "  }\n",
              "\n",
              "  [theme=dark] .colab-df-quickchart {\n",
              "      --bg-color: #3B4455;\n",
              "      --fill-color: #D2E3FC;\n",
              "      --hover-bg-color: #434B5C;\n",
              "      --hover-fill-color: #FFFFFF;\n",
              "      --disabled-bg-color: #3B4455;\n",
              "      --disabled-fill-color: #666;\n",
              "  }\n",
              "\n",
              "  .colab-df-quickchart {\n",
              "    background-color: var(--bg-color);\n",
              "    border: none;\n",
              "    border-radius: 50%;\n",
              "    cursor: pointer;\n",
              "    display: none;\n",
              "    fill: var(--fill-color);\n",
              "    height: 32px;\n",
              "    padding: 0;\n",
              "    width: 32px;\n",
              "  }\n",
              "\n",
              "  .colab-df-quickchart:hover {\n",
              "    background-color: var(--hover-bg-color);\n",
              "    box-shadow: 0 1px 2px rgba(60, 64, 67, 0.3), 0 1px 3px 1px rgba(60, 64, 67, 0.15);\n",
              "    fill: var(--button-hover-fill-color);\n",
              "  }\n",
              "\n",
              "  .colab-df-quickchart-complete:disabled,\n",
              "  .colab-df-quickchart-complete:disabled:hover {\n",
              "    background-color: var(--disabled-bg-color);\n",
              "    fill: var(--disabled-fill-color);\n",
              "    box-shadow: none;\n",
              "  }\n",
              "\n",
              "  .colab-df-spinner {\n",
              "    border: 2px solid var(--fill-color);\n",
              "    border-color: transparent;\n",
              "    border-bottom-color: var(--fill-color);\n",
              "    animation:\n",
              "      spin 1s steps(1) infinite;\n",
              "  }\n",
              "\n",
              "  @keyframes spin {\n",
              "    0% {\n",
              "      border-color: transparent;\n",
              "      border-bottom-color: var(--fill-color);\n",
              "      border-left-color: var(--fill-color);\n",
              "    }\n",
              "    20% {\n",
              "      border-color: transparent;\n",
              "      border-left-color: var(--fill-color);\n",
              "      border-top-color: var(--fill-color);\n",
              "    }\n",
              "    30% {\n",
              "      border-color: transparent;\n",
              "      border-left-color: var(--fill-color);\n",
              "      border-top-color: var(--fill-color);\n",
              "      border-right-color: var(--fill-color);\n",
              "    }\n",
              "    40% {\n",
              "      border-color: transparent;\n",
              "      border-right-color: var(--fill-color);\n",
              "      border-top-color: var(--fill-color);\n",
              "    }\n",
              "    60% {\n",
              "      border-color: transparent;\n",
              "      border-right-color: var(--fill-color);\n",
              "    }\n",
              "    80% {\n",
              "      border-color: transparent;\n",
              "      border-right-color: var(--fill-color);\n",
              "      border-bottom-color: var(--fill-color);\n",
              "    }\n",
              "    90% {\n",
              "      border-color: transparent;\n",
              "      border-bottom-color: var(--fill-color);\n",
              "    }\n",
              "  }\n",
              "</style>\n",
              "\n",
              "  <script>\n",
              "    async function quickchart(key) {\n",
              "      const quickchartButtonEl =\n",
              "        document.querySelector('#' + key + ' button');\n",
              "      quickchartButtonEl.disabled = true;  // To prevent multiple clicks.\n",
              "      quickchartButtonEl.classList.add('colab-df-spinner');\n",
              "      try {\n",
              "        const charts = await google.colab.kernel.invokeFunction(\n",
              "            'suggestCharts', [key], {});\n",
              "      } catch (error) {\n",
              "        console.error('Error during call to suggestCharts:', error);\n",
              "      }\n",
              "      quickchartButtonEl.classList.remove('colab-df-spinner');\n",
              "      quickchartButtonEl.classList.add('colab-df-quickchart-complete');\n",
              "    }\n",
              "    (() => {\n",
              "      let quickchartButtonEl =\n",
              "        document.querySelector('#df-1e0c607e-2c97-4b7a-b996-63591a797f0d button');\n",
              "      quickchartButtonEl.style.display =\n",
              "        google.colab.kernel.accessAllowed ? 'block' : 'none';\n",
              "    })();\n",
              "  </script>\n",
              "</div>\n",
              "\n",
              "    </div>\n",
              "  </div>\n"
            ],
            "application/vnd.google.colaboratory.intrinsic+json": {
              "type": "dataframe",
              "variable_name": "data_df"
            }
          },
          "metadata": {},
          "execution_count": 76
        }
      ]
    },
    {
      "cell_type": "code",
      "source": [
        "# Cleaning\n",
        "col_l = ['date', 'year', 'country', 'region', 'state', 'county', 'code', metric_name]\n",
        "\n",
        "data_df['date'] = pd.to_datetime(data_df['date'])\n",
        "data_df['year'] = data_df['date'].dt.year\n",
        "# data_df['month'] = data_df['date'].dt.month\n",
        "data_df['date'] = data_df['date'].dt.date\n",
        "\n",
        "data_df['country'] = 'USA'\n",
        "data_df['state'] = data_df['region'].apply(lambda x: str(x).split(',')[-1].strip())\n",
        "data_df['county'] = data_df['region'].apply(lambda x: str(x).split(',')[0].strip())\n",
        "\n",
        "\n",
        "population_df = data_df[col_l].drop_duplicates()\n",
        "\n",
        "population_df.head()"
      ],
      "metadata": {
        "colab": {
          "base_uri": "https://localhost:8080/",
          "height": 206
        },
        "id": "dvmdIy7EroR9",
        "outputId": "5731e034-8f91-4487-bf5a-2e1530c2d1da"
      },
      "execution_count": null,
      "outputs": [
        {
          "output_type": "execute_result",
          "data": {
            "text/plain": [
              "         date  year country                   region state  \\\n",
              "0  1970-01-01  1970     USA  Rappahannock County, VA    VA   \n",
              "1  1971-01-01  1971     USA  Rappahannock County, VA    VA   \n",
              "2  1972-01-01  1972     USA  Rappahannock County, VA    VA   \n",
              "3  1973-01-01  1973     USA  Rappahannock County, VA    VA   \n",
              "4  1974-01-01  1974     USA  Rappahannock County, VA    VA   \n",
              "\n",
              "                county   code population_annual  \n",
              "0  Rappahannock County  51157             5.199  \n",
              "1  Rappahannock County  51157             5.200  \n",
              "2  Rappahannock County  51157             5.300  \n",
              "3  Rappahannock County  51157             5.200  \n",
              "4  Rappahannock County  51157             5.400  "
            ],
            "text/html": [
              "\n",
              "  <div id=\"df-d2ea022d-3d49-4ab3-98df-c0957fde84ce\" class=\"colab-df-container\">\n",
              "    <div>\n",
              "<style scoped>\n",
              "    .dataframe tbody tr th:only-of-type {\n",
              "        vertical-align: middle;\n",
              "    }\n",
              "\n",
              "    .dataframe tbody tr th {\n",
              "        vertical-align: top;\n",
              "    }\n",
              "\n",
              "    .dataframe thead th {\n",
              "        text-align: right;\n",
              "    }\n",
              "</style>\n",
              "<table border=\"1\" class=\"dataframe\">\n",
              "  <thead>\n",
              "    <tr style=\"text-align: right;\">\n",
              "      <th></th>\n",
              "      <th>date</th>\n",
              "      <th>year</th>\n",
              "      <th>country</th>\n",
              "      <th>region</th>\n",
              "      <th>state</th>\n",
              "      <th>county</th>\n",
              "      <th>code</th>\n",
              "      <th>population_annual</th>\n",
              "    </tr>\n",
              "  </thead>\n",
              "  <tbody>\n",
              "    <tr>\n",
              "      <th>0</th>\n",
              "      <td>1970-01-01</td>\n",
              "      <td>1970</td>\n",
              "      <td>USA</td>\n",
              "      <td>Rappahannock County, VA</td>\n",
              "      <td>VA</td>\n",
              "      <td>Rappahannock County</td>\n",
              "      <td>51157</td>\n",
              "      <td>5.199</td>\n",
              "    </tr>\n",
              "    <tr>\n",
              "      <th>1</th>\n",
              "      <td>1971-01-01</td>\n",
              "      <td>1971</td>\n",
              "      <td>USA</td>\n",
              "      <td>Rappahannock County, VA</td>\n",
              "      <td>VA</td>\n",
              "      <td>Rappahannock County</td>\n",
              "      <td>51157</td>\n",
              "      <td>5.200</td>\n",
              "    </tr>\n",
              "    <tr>\n",
              "      <th>2</th>\n",
              "      <td>1972-01-01</td>\n",
              "      <td>1972</td>\n",
              "      <td>USA</td>\n",
              "      <td>Rappahannock County, VA</td>\n",
              "      <td>VA</td>\n",
              "      <td>Rappahannock County</td>\n",
              "      <td>51157</td>\n",
              "      <td>5.300</td>\n",
              "    </tr>\n",
              "    <tr>\n",
              "      <th>3</th>\n",
              "      <td>1973-01-01</td>\n",
              "      <td>1973</td>\n",
              "      <td>USA</td>\n",
              "      <td>Rappahannock County, VA</td>\n",
              "      <td>VA</td>\n",
              "      <td>Rappahannock County</td>\n",
              "      <td>51157</td>\n",
              "      <td>5.200</td>\n",
              "    </tr>\n",
              "    <tr>\n",
              "      <th>4</th>\n",
              "      <td>1974-01-01</td>\n",
              "      <td>1974</td>\n",
              "      <td>USA</td>\n",
              "      <td>Rappahannock County, VA</td>\n",
              "      <td>VA</td>\n",
              "      <td>Rappahannock County</td>\n",
              "      <td>51157</td>\n",
              "      <td>5.400</td>\n",
              "    </tr>\n",
              "  </tbody>\n",
              "</table>\n",
              "</div>\n",
              "    <div class=\"colab-df-buttons\">\n",
              "\n",
              "  <div class=\"colab-df-container\">\n",
              "    <button class=\"colab-df-convert\" onclick=\"convertToInteractive('df-d2ea022d-3d49-4ab3-98df-c0957fde84ce')\"\n",
              "            title=\"Convert this dataframe to an interactive table.\"\n",
              "            style=\"display:none;\">\n",
              "\n",
              "  <svg xmlns=\"http://www.w3.org/2000/svg\" height=\"24px\" viewBox=\"0 -960 960 960\">\n",
              "    <path d=\"M120-120v-720h720v720H120Zm60-500h600v-160H180v160Zm220 220h160v-160H400v160Zm0 220h160v-160H400v160ZM180-400h160v-160H180v160Zm440 0h160v-160H620v160ZM180-180h160v-160H180v160Zm440 0h160v-160H620v160Z\"/>\n",
              "  </svg>\n",
              "    </button>\n",
              "\n",
              "  <style>\n",
              "    .colab-df-container {\n",
              "      display:flex;\n",
              "      gap: 12px;\n",
              "    }\n",
              "\n",
              "    .colab-df-convert {\n",
              "      background-color: #E8F0FE;\n",
              "      border: none;\n",
              "      border-radius: 50%;\n",
              "      cursor: pointer;\n",
              "      display: none;\n",
              "      fill: #1967D2;\n",
              "      height: 32px;\n",
              "      padding: 0 0 0 0;\n",
              "      width: 32px;\n",
              "    }\n",
              "\n",
              "    .colab-df-convert:hover {\n",
              "      background-color: #E2EBFA;\n",
              "      box-shadow: 0px 1px 2px rgba(60, 64, 67, 0.3), 0px 1px 3px 1px rgba(60, 64, 67, 0.15);\n",
              "      fill: #174EA6;\n",
              "    }\n",
              "\n",
              "    .colab-df-buttons div {\n",
              "      margin-bottom: 4px;\n",
              "    }\n",
              "\n",
              "    [theme=dark] .colab-df-convert {\n",
              "      background-color: #3B4455;\n",
              "      fill: #D2E3FC;\n",
              "    }\n",
              "\n",
              "    [theme=dark] .colab-df-convert:hover {\n",
              "      background-color: #434B5C;\n",
              "      box-shadow: 0px 1px 3px 1px rgba(0, 0, 0, 0.15);\n",
              "      filter: drop-shadow(0px 1px 2px rgba(0, 0, 0, 0.3));\n",
              "      fill: #FFFFFF;\n",
              "    }\n",
              "  </style>\n",
              "\n",
              "    <script>\n",
              "      const buttonEl =\n",
              "        document.querySelector('#df-d2ea022d-3d49-4ab3-98df-c0957fde84ce button.colab-df-convert');\n",
              "      buttonEl.style.display =\n",
              "        google.colab.kernel.accessAllowed ? 'block' : 'none';\n",
              "\n",
              "      async function convertToInteractive(key) {\n",
              "        const element = document.querySelector('#df-d2ea022d-3d49-4ab3-98df-c0957fde84ce');\n",
              "        const dataTable =\n",
              "          await google.colab.kernel.invokeFunction('convertToInteractive',\n",
              "                                                    [key], {});\n",
              "        if (!dataTable) return;\n",
              "\n",
              "        const docLinkHtml = 'Like what you see? Visit the ' +\n",
              "          '<a target=\"_blank\" href=https://colab.research.google.com/notebooks/data_table.ipynb>data table notebook</a>'\n",
              "          + ' to learn more about interactive tables.';\n",
              "        element.innerHTML = '';\n",
              "        dataTable['output_type'] = 'display_data';\n",
              "        await google.colab.output.renderOutput(dataTable, element);\n",
              "        const docLink = document.createElement('div');\n",
              "        docLink.innerHTML = docLinkHtml;\n",
              "        element.appendChild(docLink);\n",
              "      }\n",
              "    </script>\n",
              "  </div>\n",
              "\n",
              "\n",
              "<div id=\"df-477539f6-7c23-409e-be90-ae778e99514e\">\n",
              "  <button class=\"colab-df-quickchart\" onclick=\"quickchart('df-477539f6-7c23-409e-be90-ae778e99514e')\"\n",
              "            title=\"Suggest charts\"\n",
              "            style=\"display:none;\">\n",
              "\n",
              "<svg xmlns=\"http://www.w3.org/2000/svg\" height=\"24px\"viewBox=\"0 0 24 24\"\n",
              "     width=\"24px\">\n",
              "    <g>\n",
              "        <path d=\"M19 3H5c-1.1 0-2 .9-2 2v14c0 1.1.9 2 2 2h14c1.1 0 2-.9 2-2V5c0-1.1-.9-2-2-2zM9 17H7v-7h2v7zm4 0h-2V7h2v10zm4 0h-2v-4h2v4z\"/>\n",
              "    </g>\n",
              "</svg>\n",
              "  </button>\n",
              "\n",
              "<style>\n",
              "  .colab-df-quickchart {\n",
              "      --bg-color: #E8F0FE;\n",
              "      --fill-color: #1967D2;\n",
              "      --hover-bg-color: #E2EBFA;\n",
              "      --hover-fill-color: #174EA6;\n",
              "      --disabled-fill-color: #AAA;\n",
              "      --disabled-bg-color: #DDD;\n",
              "  }\n",
              "\n",
              "  [theme=dark] .colab-df-quickchart {\n",
              "      --bg-color: #3B4455;\n",
              "      --fill-color: #D2E3FC;\n",
              "      --hover-bg-color: #434B5C;\n",
              "      --hover-fill-color: #FFFFFF;\n",
              "      --disabled-bg-color: #3B4455;\n",
              "      --disabled-fill-color: #666;\n",
              "  }\n",
              "\n",
              "  .colab-df-quickchart {\n",
              "    background-color: var(--bg-color);\n",
              "    border: none;\n",
              "    border-radius: 50%;\n",
              "    cursor: pointer;\n",
              "    display: none;\n",
              "    fill: var(--fill-color);\n",
              "    height: 32px;\n",
              "    padding: 0;\n",
              "    width: 32px;\n",
              "  }\n",
              "\n",
              "  .colab-df-quickchart:hover {\n",
              "    background-color: var(--hover-bg-color);\n",
              "    box-shadow: 0 1px 2px rgba(60, 64, 67, 0.3), 0 1px 3px 1px rgba(60, 64, 67, 0.15);\n",
              "    fill: var(--button-hover-fill-color);\n",
              "  }\n",
              "\n",
              "  .colab-df-quickchart-complete:disabled,\n",
              "  .colab-df-quickchart-complete:disabled:hover {\n",
              "    background-color: var(--disabled-bg-color);\n",
              "    fill: var(--disabled-fill-color);\n",
              "    box-shadow: none;\n",
              "  }\n",
              "\n",
              "  .colab-df-spinner {\n",
              "    border: 2px solid var(--fill-color);\n",
              "    border-color: transparent;\n",
              "    border-bottom-color: var(--fill-color);\n",
              "    animation:\n",
              "      spin 1s steps(1) infinite;\n",
              "  }\n",
              "\n",
              "  @keyframes spin {\n",
              "    0% {\n",
              "      border-color: transparent;\n",
              "      border-bottom-color: var(--fill-color);\n",
              "      border-left-color: var(--fill-color);\n",
              "    }\n",
              "    20% {\n",
              "      border-color: transparent;\n",
              "      border-left-color: var(--fill-color);\n",
              "      border-top-color: var(--fill-color);\n",
              "    }\n",
              "    30% {\n",
              "      border-color: transparent;\n",
              "      border-left-color: var(--fill-color);\n",
              "      border-top-color: var(--fill-color);\n",
              "      border-right-color: var(--fill-color);\n",
              "    }\n",
              "    40% {\n",
              "      border-color: transparent;\n",
              "      border-right-color: var(--fill-color);\n",
              "      border-top-color: var(--fill-color);\n",
              "    }\n",
              "    60% {\n",
              "      border-color: transparent;\n",
              "      border-right-color: var(--fill-color);\n",
              "    }\n",
              "    80% {\n",
              "      border-color: transparent;\n",
              "      border-right-color: var(--fill-color);\n",
              "      border-bottom-color: var(--fill-color);\n",
              "    }\n",
              "    90% {\n",
              "      border-color: transparent;\n",
              "      border-bottom-color: var(--fill-color);\n",
              "    }\n",
              "  }\n",
              "</style>\n",
              "\n",
              "  <script>\n",
              "    async function quickchart(key) {\n",
              "      const quickchartButtonEl =\n",
              "        document.querySelector('#' + key + ' button');\n",
              "      quickchartButtonEl.disabled = true;  // To prevent multiple clicks.\n",
              "      quickchartButtonEl.classList.add('colab-df-spinner');\n",
              "      try {\n",
              "        const charts = await google.colab.kernel.invokeFunction(\n",
              "            'suggestCharts', [key], {});\n",
              "      } catch (error) {\n",
              "        console.error('Error during call to suggestCharts:', error);\n",
              "      }\n",
              "      quickchartButtonEl.classList.remove('colab-df-spinner');\n",
              "      quickchartButtonEl.classList.add('colab-df-quickchart-complete');\n",
              "    }\n",
              "    (() => {\n",
              "      let quickchartButtonEl =\n",
              "        document.querySelector('#df-477539f6-7c23-409e-be90-ae778e99514e button');\n",
              "      quickchartButtonEl.style.display =\n",
              "        google.colab.kernel.accessAllowed ? 'block' : 'none';\n",
              "    })();\n",
              "  </script>\n",
              "</div>\n",
              "\n",
              "    </div>\n",
              "  </div>\n"
            ],
            "application/vnd.google.colaboratory.intrinsic+json": {
              "type": "dataframe",
              "variable_name": "population_df"
            }
          },
          "metadata": {},
          "execution_count": 77
        }
      ]
    },
    {
      "cell_type": "code",
      "source": [
        "# download data\n",
        "fn = f'{metric_name}.csv'\n",
        "population_df.to_csv(fn, index=False)\n",
        "files.download(fn)"
      ],
      "metadata": {
        "colab": {
          "base_uri": "https://localhost:8080/",
          "height": 17
        },
        "id": "H1bispeB7rYn",
        "outputId": "59bd7e72-f3c4-4609-a4ac-0c6db64cf739"
      },
      "execution_count": null,
      "outputs": [
        {
          "output_type": "display_data",
          "data": {
            "text/plain": [
              "<IPython.core.display.Javascript object>"
            ],
            "application/javascript": [
              "\n",
              "    async function download(id, filename, size) {\n",
              "      if (!google.colab.kernel.accessAllowed) {\n",
              "        return;\n",
              "      }\n",
              "      const div = document.createElement('div');\n",
              "      const label = document.createElement('label');\n",
              "      label.textContent = `Downloading \"${filename}\": `;\n",
              "      div.appendChild(label);\n",
              "      const progress = document.createElement('progress');\n",
              "      progress.max = size;\n",
              "      div.appendChild(progress);\n",
              "      document.body.appendChild(div);\n",
              "\n",
              "      const buffers = [];\n",
              "      let downloaded = 0;\n",
              "\n",
              "      const channel = await google.colab.kernel.comms.open(id);\n",
              "      // Send a message to notify the kernel that we're ready.\n",
              "      channel.send({})\n",
              "\n",
              "      for await (const message of channel.messages) {\n",
              "        // Send a message to notify the kernel that we're ready.\n",
              "        channel.send({})\n",
              "        if (message.buffers) {\n",
              "          for (const buffer of message.buffers) {\n",
              "            buffers.push(buffer);\n",
              "            downloaded += buffer.byteLength;\n",
              "            progress.value = downloaded;\n",
              "          }\n",
              "        }\n",
              "      }\n",
              "      const blob = new Blob(buffers, {type: 'application/binary'});\n",
              "      const a = document.createElement('a');\n",
              "      a.href = window.URL.createObjectURL(blob);\n",
              "      a.download = filename;\n",
              "      div.appendChild(a);\n",
              "      a.click();\n",
              "      div.remove();\n",
              "    }\n",
              "  "
            ]
          },
          "metadata": {}
        },
        {
          "output_type": "display_data",
          "data": {
            "text/plain": [
              "<IPython.core.display.Javascript object>"
            ],
            "application/javascript": [
              "download(\"download_368bdd71-c485-4ff1-bcea-4bb5964f0991\", \"population_annual.csv\", 12124701)"
            ]
          },
          "metadata": {}
        }
      ]
    },
    {
      "cell_type": "markdown",
      "source": [
        "---\n",
        "---\n",
        "---"
      ],
      "metadata": {
        "id": "K_fHyMc68pXW"
      }
    },
    {
      "cell_type": "code",
      "source": [
        "# Settings\n",
        "snapshot_date = r'2023-10-01'\n",
        "series_id = 'EQFXSUBPRIME036061'\n",
        "metric_name = 'Equifax_Subprime_Credit_Population'\n",
        "\n",
        "\n",
        "# API Manager\n",
        "am = api_manager(API_Key_l)\n",
        "\n",
        "# CONFIG\n",
        "config_dict = {'api_url': 'https://api.stlouisfed.org/geofred/series/data?'\n",
        "               , 'date': snapshot_date\n",
        "               , 'series_id': series_id\n",
        "               , 'metric_name': metric_name\n",
        "               , 'api_manager': am\n",
        "              }\n",
        "\n",
        "# download manager\n",
        "dl_manager = fred_df_manager(config_dict)\n",
        "\n",
        "\n",
        "# # test\n",
        "# data_df = dl_manager.get_data(series_id)\n",
        "\n",
        "\n",
        "# # download\n",
        "data_df = dl_manager.download_data({'value': metric_name})\n",
        "\n",
        "# PREVIEW\n",
        "data_df.head()"
      ],
      "metadata": {
        "colab": {
          "base_uri": "https://localhost:8080/",
          "height": 1000
        },
        "id": "7ZPoiPMK7rfL",
        "outputId": "9dc95fdb-9e65-4ea4-e69c-af6d5e34b2e9"
      },
      "execution_count": null,
      "outputs": [
        {
          "output_type": "stream",
          "name": "stdout",
          "text": [
            "title: 2023 Q4 Equifax Subprime Credit Population by County (Percent)\n",
            "region: county\n",
            "seasonality: Not Seasonally Adjusted\n",
            "units: Percent\n",
            "frequency: Quarterly\n"
          ]
        },
        {
          "output_type": "stream",
          "name": "stderr",
          "text": [
            "Downloading data:   4%|▍         | 119/3131 [00:28<09:43,  5.16it/s]"
          ]
        },
        {
          "output_type": "stream",
          "name": "stdout",
          "text": [
            "Error Message: Too Many Requests.  Exceeded Rate Limit\n",
            "Switching Keys: 0\n"
          ]
        },
        {
          "output_type": "stream",
          "name": "stderr",
          "text": [
            "Downloading data:   8%|▊         | 258/3131 [01:03<12:28,  3.84it/s]"
          ]
        },
        {
          "output_type": "stream",
          "name": "stdout",
          "text": [
            "Error Message: Too Many Requests.  Exceeded Rate Limit\n",
            "Switching Keys: 0\n"
          ]
        },
        {
          "output_type": "stream",
          "name": "stderr",
          "text": [
            "Downloading data:  12%|█▏        | 378/3131 [01:34<11:39,  3.93it/s]"
          ]
        },
        {
          "output_type": "stream",
          "name": "stdout",
          "text": [
            "Error Message: Too Many Requests.  Exceeded Rate Limit\n",
            "Switching Keys: 0\n"
          ]
        },
        {
          "output_type": "stream",
          "name": "stderr",
          "text": [
            "Downloading data:  16%|█▌        | 499/3131 [02:02<10:21,  4.24it/s]"
          ]
        },
        {
          "output_type": "stream",
          "name": "stdout",
          "text": [
            "Error Message: Too Many Requests.  Exceeded Rate Limit\n",
            "Switching Keys: 0\n"
          ]
        },
        {
          "output_type": "stream",
          "name": "stderr",
          "text": [
            "Downloading data:  20%|█▉        | 619/3131 [02:30<12:45,  3.28it/s]"
          ]
        },
        {
          "output_type": "stream",
          "name": "stdout",
          "text": [
            "Error Message: Too Many Requests.  Exceeded Rate Limit\n",
            "Switching Keys: 0\n"
          ]
        },
        {
          "output_type": "stream",
          "name": "stderr",
          "text": [
            "Downloading data:  24%|██▍       | 753/3131 [03:03<08:35,  4.62it/s]"
          ]
        },
        {
          "output_type": "stream",
          "name": "stdout",
          "text": [
            "Error Message: Too Many Requests.  Exceeded Rate Limit\n",
            "Switching Keys: 0\n"
          ]
        },
        {
          "output_type": "stream",
          "name": "stderr",
          "text": [
            "Downloading data:  28%|██▊       | 873/3131 [03:30<08:50,  4.26it/s]"
          ]
        },
        {
          "output_type": "stream",
          "name": "stdout",
          "text": [
            "Error Message: Too Many Requests.  Exceeded Rate Limit\n",
            "Switching Keys: 0\n"
          ]
        },
        {
          "output_type": "stream",
          "name": "stderr",
          "text": [
            "Downloading data:  32%|███▏      | 1010/3131 [04:01<08:38,  4.09it/s]"
          ]
        },
        {
          "output_type": "stream",
          "name": "stdout",
          "text": [
            "Error Message: Too Many Requests.  Exceeded Rate Limit\n",
            "Switching Keys: 0\n"
          ]
        },
        {
          "output_type": "stream",
          "name": "stderr",
          "text": [
            "Downloading data:  36%|███▌      | 1130/3131 [04:28<08:20,  4.00it/s]"
          ]
        },
        {
          "output_type": "stream",
          "name": "stdout",
          "text": [
            "Error Message: Too Many Requests.  Exceeded Rate Limit\n",
            "Switching Keys: 0\n"
          ]
        },
        {
          "output_type": "stream",
          "name": "stderr",
          "text": [
            "Downloading data:  41%|████      | 1276/3131 [05:01<07:43,  4.00it/s]"
          ]
        },
        {
          "output_type": "stream",
          "name": "stdout",
          "text": [
            "Error Message: Too Many Requests.  Exceeded Rate Limit\n",
            "Switching Keys: 0\n"
          ]
        },
        {
          "output_type": "stream",
          "name": "stderr",
          "text": [
            "Downloading data:  48%|████▊     | 1506/3131 [06:07<07:36,  3.56it/s]"
          ]
        },
        {
          "output_type": "stream",
          "name": "stdout",
          "text": [
            "Error Message: Too Many Requests.  Exceeded Rate Limit\n",
            "Switching Keys: 0\n"
          ]
        },
        {
          "output_type": "stream",
          "name": "stderr",
          "text": [
            "Downloading data:  55%|█████▍    | 1721/3131 [07:06<04:49,  4.87it/s]"
          ]
        },
        {
          "output_type": "stream",
          "name": "stdout",
          "text": [
            "Error Message: Too Many Requests.  Exceeded Rate Limit\n",
            "Switching Keys: 0\n"
          ]
        },
        {
          "output_type": "stream",
          "name": "stderr",
          "text": [
            "Downloading data:  59%|█████▉    | 1841/3131 [07:32<04:25,  4.86it/s]"
          ]
        },
        {
          "output_type": "stream",
          "name": "stdout",
          "text": [
            "Error Message: Too Many Requests.  Exceeded Rate Limit\n",
            "Switching Keys: 0\n"
          ]
        },
        {
          "output_type": "stream",
          "name": "stderr",
          "text": [
            "Downloading data:  63%|██████▎   | 1967/3131 [08:00<05:03,  3.84it/s]"
          ]
        },
        {
          "output_type": "stream",
          "name": "stdout",
          "text": [
            "Error Message: Too Many Requests.  Exceeded Rate Limit\n",
            "Switching Keys: 0\n"
          ]
        },
        {
          "output_type": "stream",
          "name": "stderr",
          "text": [
            "Downloading data:  67%|██████▋   | 2086/3131 [08:27<03:39,  4.77it/s]"
          ]
        },
        {
          "output_type": "stream",
          "name": "stdout",
          "text": [
            "Error Message: Too Many Requests.  Exceeded Rate Limit\n",
            "Switching Keys: 0\n"
          ]
        },
        {
          "output_type": "stream",
          "name": "stderr",
          "text": [
            "Downloading data:  71%|███████▏  | 2237/3131 [09:02<04:17,  3.47it/s]"
          ]
        },
        {
          "output_type": "stream",
          "name": "stdout",
          "text": [
            "Error Message: Too Many Requests.  Exceeded Rate Limit\n",
            "Switching Keys: 0\n"
          ]
        },
        {
          "output_type": "stream",
          "name": "stderr",
          "text": [
            "Downloading data:  75%|███████▌  | 2357/3131 [09:29<03:04,  4.19it/s]"
          ]
        },
        {
          "output_type": "stream",
          "name": "stdout",
          "text": [
            "Error Message: Too Many Requests.  Exceeded Rate Limit\n",
            "Switching Keys: 0\n"
          ]
        },
        {
          "output_type": "stream",
          "name": "stderr",
          "text": [
            "Downloading data:  80%|███████▉  | 2498/3131 [10:01<02:47,  3.77it/s]"
          ]
        },
        {
          "output_type": "stream",
          "name": "stdout",
          "text": [
            "Error Message: Too Many Requests.  Exceeded Rate Limit\n",
            "Switching Keys: 0\n"
          ]
        },
        {
          "output_type": "stream",
          "name": "stderr",
          "text": [
            "Downloading data:  84%|████████▎ | 2617/3131 [10:28<01:45,  4.89it/s]"
          ]
        },
        {
          "output_type": "stream",
          "name": "stdout",
          "text": [
            "Error Message: Too Many Requests.  Exceeded Rate Limit\n",
            "Switching Keys: 0\n"
          ]
        },
        {
          "output_type": "stream",
          "name": "stderr",
          "text": [
            "Downloading data:  88%|████████▊ | 2762/3131 [11:02<01:39,  3.73it/s]"
          ]
        },
        {
          "output_type": "stream",
          "name": "stdout",
          "text": [
            "Error Message: Too Many Requests.  Exceeded Rate Limit\n",
            "Switching Keys: 0\n"
          ]
        },
        {
          "output_type": "stream",
          "name": "stderr",
          "text": [
            "Downloading data:  92%|█████████▏| 2881/3131 [11:31<00:52,  4.76it/s]"
          ]
        },
        {
          "output_type": "stream",
          "name": "stdout",
          "text": [
            "Error Message: Too Many Requests.  Exceeded Rate Limit\n",
            "Switching Keys: 0\n"
          ]
        },
        {
          "output_type": "stream",
          "name": "stderr",
          "text": [
            "Downloading data:  96%|█████████▋| 3014/3131 [12:03<00:33,  3.55it/s]"
          ]
        },
        {
          "output_type": "stream",
          "name": "stdout",
          "text": [
            "Error Message: Too Many Requests.  Exceeded Rate Limit\n",
            "Switching Keys: 0\n"
          ]
        },
        {
          "output_type": "stream",
          "name": "stderr",
          "text": [
            "Downloading data: 100%|██████████| 3131/3131 [12:35<00:00,  4.15it/s]\n"
          ]
        },
        {
          "output_type": "execute_result",
          "data": {
            "text/plain": [
              "  realtime_start realtime_end        date Equifax_Subprime_Credit_Population  \\\n",
              "0     2024-04-21   2024-04-21  1999-01-01                                  .   \n",
              "1     2024-04-21   2024-04-21  1999-04-01                                  .   \n",
              "2     2024-04-21   2024-04-21  1999-07-01                                  .   \n",
              "3     2024-04-21   2024-04-21  1999-10-01                                  .   \n",
              "4     2024-04-21   2024-04-21  2000-01-01                                  .   \n",
              "\n",
              "              region   code      value           series_id  \n",
              "0  Martin County, TX  48317  32.105263  EQFXSUBPRIME048317  \n",
              "1  Martin County, TX  48317  32.105263  EQFXSUBPRIME048317  \n",
              "2  Martin County, TX  48317  32.105263  EQFXSUBPRIME048317  \n",
              "3  Martin County, TX  48317  32.105263  EQFXSUBPRIME048317  \n",
              "4  Martin County, TX  48317  32.105263  EQFXSUBPRIME048317  "
            ],
            "text/html": [
              "\n",
              "  <div id=\"df-94e61cda-6a46-48d7-86cc-d95a53e2093f\" class=\"colab-df-container\">\n",
              "    <div>\n",
              "<style scoped>\n",
              "    .dataframe tbody tr th:only-of-type {\n",
              "        vertical-align: middle;\n",
              "    }\n",
              "\n",
              "    .dataframe tbody tr th {\n",
              "        vertical-align: top;\n",
              "    }\n",
              "\n",
              "    .dataframe thead th {\n",
              "        text-align: right;\n",
              "    }\n",
              "</style>\n",
              "<table border=\"1\" class=\"dataframe\">\n",
              "  <thead>\n",
              "    <tr style=\"text-align: right;\">\n",
              "      <th></th>\n",
              "      <th>realtime_start</th>\n",
              "      <th>realtime_end</th>\n",
              "      <th>date</th>\n",
              "      <th>Equifax_Subprime_Credit_Population</th>\n",
              "      <th>region</th>\n",
              "      <th>code</th>\n",
              "      <th>value</th>\n",
              "      <th>series_id</th>\n",
              "    </tr>\n",
              "  </thead>\n",
              "  <tbody>\n",
              "    <tr>\n",
              "      <th>0</th>\n",
              "      <td>2024-04-21</td>\n",
              "      <td>2024-04-21</td>\n",
              "      <td>1999-01-01</td>\n",
              "      <td>.</td>\n",
              "      <td>Martin County, TX</td>\n",
              "      <td>48317</td>\n",
              "      <td>32.105263</td>\n",
              "      <td>EQFXSUBPRIME048317</td>\n",
              "    </tr>\n",
              "    <tr>\n",
              "      <th>1</th>\n",
              "      <td>2024-04-21</td>\n",
              "      <td>2024-04-21</td>\n",
              "      <td>1999-04-01</td>\n",
              "      <td>.</td>\n",
              "      <td>Martin County, TX</td>\n",
              "      <td>48317</td>\n",
              "      <td>32.105263</td>\n",
              "      <td>EQFXSUBPRIME048317</td>\n",
              "    </tr>\n",
              "    <tr>\n",
              "      <th>2</th>\n",
              "      <td>2024-04-21</td>\n",
              "      <td>2024-04-21</td>\n",
              "      <td>1999-07-01</td>\n",
              "      <td>.</td>\n",
              "      <td>Martin County, TX</td>\n",
              "      <td>48317</td>\n",
              "      <td>32.105263</td>\n",
              "      <td>EQFXSUBPRIME048317</td>\n",
              "    </tr>\n",
              "    <tr>\n",
              "      <th>3</th>\n",
              "      <td>2024-04-21</td>\n",
              "      <td>2024-04-21</td>\n",
              "      <td>1999-10-01</td>\n",
              "      <td>.</td>\n",
              "      <td>Martin County, TX</td>\n",
              "      <td>48317</td>\n",
              "      <td>32.105263</td>\n",
              "      <td>EQFXSUBPRIME048317</td>\n",
              "    </tr>\n",
              "    <tr>\n",
              "      <th>4</th>\n",
              "      <td>2024-04-21</td>\n",
              "      <td>2024-04-21</td>\n",
              "      <td>2000-01-01</td>\n",
              "      <td>.</td>\n",
              "      <td>Martin County, TX</td>\n",
              "      <td>48317</td>\n",
              "      <td>32.105263</td>\n",
              "      <td>EQFXSUBPRIME048317</td>\n",
              "    </tr>\n",
              "  </tbody>\n",
              "</table>\n",
              "</div>\n",
              "    <div class=\"colab-df-buttons\">\n",
              "\n",
              "  <div class=\"colab-df-container\">\n",
              "    <button class=\"colab-df-convert\" onclick=\"convertToInteractive('df-94e61cda-6a46-48d7-86cc-d95a53e2093f')\"\n",
              "            title=\"Convert this dataframe to an interactive table.\"\n",
              "            style=\"display:none;\">\n",
              "\n",
              "  <svg xmlns=\"http://www.w3.org/2000/svg\" height=\"24px\" viewBox=\"0 -960 960 960\">\n",
              "    <path d=\"M120-120v-720h720v720H120Zm60-500h600v-160H180v160Zm220 220h160v-160H400v160Zm0 220h160v-160H400v160ZM180-400h160v-160H180v160Zm440 0h160v-160H620v160ZM180-180h160v-160H180v160Zm440 0h160v-160H620v160Z\"/>\n",
              "  </svg>\n",
              "    </button>\n",
              "\n",
              "  <style>\n",
              "    .colab-df-container {\n",
              "      display:flex;\n",
              "      gap: 12px;\n",
              "    }\n",
              "\n",
              "    .colab-df-convert {\n",
              "      background-color: #E8F0FE;\n",
              "      border: none;\n",
              "      border-radius: 50%;\n",
              "      cursor: pointer;\n",
              "      display: none;\n",
              "      fill: #1967D2;\n",
              "      height: 32px;\n",
              "      padding: 0 0 0 0;\n",
              "      width: 32px;\n",
              "    }\n",
              "\n",
              "    .colab-df-convert:hover {\n",
              "      background-color: #E2EBFA;\n",
              "      box-shadow: 0px 1px 2px rgba(60, 64, 67, 0.3), 0px 1px 3px 1px rgba(60, 64, 67, 0.15);\n",
              "      fill: #174EA6;\n",
              "    }\n",
              "\n",
              "    .colab-df-buttons div {\n",
              "      margin-bottom: 4px;\n",
              "    }\n",
              "\n",
              "    [theme=dark] .colab-df-convert {\n",
              "      background-color: #3B4455;\n",
              "      fill: #D2E3FC;\n",
              "    }\n",
              "\n",
              "    [theme=dark] .colab-df-convert:hover {\n",
              "      background-color: #434B5C;\n",
              "      box-shadow: 0px 1px 3px 1px rgba(0, 0, 0, 0.15);\n",
              "      filter: drop-shadow(0px 1px 2px rgba(0, 0, 0, 0.3));\n",
              "      fill: #FFFFFF;\n",
              "    }\n",
              "  </style>\n",
              "\n",
              "    <script>\n",
              "      const buttonEl =\n",
              "        document.querySelector('#df-94e61cda-6a46-48d7-86cc-d95a53e2093f button.colab-df-convert');\n",
              "      buttonEl.style.display =\n",
              "        google.colab.kernel.accessAllowed ? 'block' : 'none';\n",
              "\n",
              "      async function convertToInteractive(key) {\n",
              "        const element = document.querySelector('#df-94e61cda-6a46-48d7-86cc-d95a53e2093f');\n",
              "        const dataTable =\n",
              "          await google.colab.kernel.invokeFunction('convertToInteractive',\n",
              "                                                    [key], {});\n",
              "        if (!dataTable) return;\n",
              "\n",
              "        const docLinkHtml = 'Like what you see? Visit the ' +\n",
              "          '<a target=\"_blank\" href=https://colab.research.google.com/notebooks/data_table.ipynb>data table notebook</a>'\n",
              "          + ' to learn more about interactive tables.';\n",
              "        element.innerHTML = '';\n",
              "        dataTable['output_type'] = 'display_data';\n",
              "        await google.colab.output.renderOutput(dataTable, element);\n",
              "        const docLink = document.createElement('div');\n",
              "        docLink.innerHTML = docLinkHtml;\n",
              "        element.appendChild(docLink);\n",
              "      }\n",
              "    </script>\n",
              "  </div>\n",
              "\n",
              "\n",
              "<div id=\"df-2c3c69c7-078d-42cd-adab-96479c6def7f\">\n",
              "  <button class=\"colab-df-quickchart\" onclick=\"quickchart('df-2c3c69c7-078d-42cd-adab-96479c6def7f')\"\n",
              "            title=\"Suggest charts\"\n",
              "            style=\"display:none;\">\n",
              "\n",
              "<svg xmlns=\"http://www.w3.org/2000/svg\" height=\"24px\"viewBox=\"0 0 24 24\"\n",
              "     width=\"24px\">\n",
              "    <g>\n",
              "        <path d=\"M19 3H5c-1.1 0-2 .9-2 2v14c0 1.1.9 2 2 2h14c1.1 0 2-.9 2-2V5c0-1.1-.9-2-2-2zM9 17H7v-7h2v7zm4 0h-2V7h2v10zm4 0h-2v-4h2v4z\"/>\n",
              "    </g>\n",
              "</svg>\n",
              "  </button>\n",
              "\n",
              "<style>\n",
              "  .colab-df-quickchart {\n",
              "      --bg-color: #E8F0FE;\n",
              "      --fill-color: #1967D2;\n",
              "      --hover-bg-color: #E2EBFA;\n",
              "      --hover-fill-color: #174EA6;\n",
              "      --disabled-fill-color: #AAA;\n",
              "      --disabled-bg-color: #DDD;\n",
              "  }\n",
              "\n",
              "  [theme=dark] .colab-df-quickchart {\n",
              "      --bg-color: #3B4455;\n",
              "      --fill-color: #D2E3FC;\n",
              "      --hover-bg-color: #434B5C;\n",
              "      --hover-fill-color: #FFFFFF;\n",
              "      --disabled-bg-color: #3B4455;\n",
              "      --disabled-fill-color: #666;\n",
              "  }\n",
              "\n",
              "  .colab-df-quickchart {\n",
              "    background-color: var(--bg-color);\n",
              "    border: none;\n",
              "    border-radius: 50%;\n",
              "    cursor: pointer;\n",
              "    display: none;\n",
              "    fill: var(--fill-color);\n",
              "    height: 32px;\n",
              "    padding: 0;\n",
              "    width: 32px;\n",
              "  }\n",
              "\n",
              "  .colab-df-quickchart:hover {\n",
              "    background-color: var(--hover-bg-color);\n",
              "    box-shadow: 0 1px 2px rgba(60, 64, 67, 0.3), 0 1px 3px 1px rgba(60, 64, 67, 0.15);\n",
              "    fill: var(--button-hover-fill-color);\n",
              "  }\n",
              "\n",
              "  .colab-df-quickchart-complete:disabled,\n",
              "  .colab-df-quickchart-complete:disabled:hover {\n",
              "    background-color: var(--disabled-bg-color);\n",
              "    fill: var(--disabled-fill-color);\n",
              "    box-shadow: none;\n",
              "  }\n",
              "\n",
              "  .colab-df-spinner {\n",
              "    border: 2px solid var(--fill-color);\n",
              "    border-color: transparent;\n",
              "    border-bottom-color: var(--fill-color);\n",
              "    animation:\n",
              "      spin 1s steps(1) infinite;\n",
              "  }\n",
              "\n",
              "  @keyframes spin {\n",
              "    0% {\n",
              "      border-color: transparent;\n",
              "      border-bottom-color: var(--fill-color);\n",
              "      border-left-color: var(--fill-color);\n",
              "    }\n",
              "    20% {\n",
              "      border-color: transparent;\n",
              "      border-left-color: var(--fill-color);\n",
              "      border-top-color: var(--fill-color);\n",
              "    }\n",
              "    30% {\n",
              "      border-color: transparent;\n",
              "      border-left-color: var(--fill-color);\n",
              "      border-top-color: var(--fill-color);\n",
              "      border-right-color: var(--fill-color);\n",
              "    }\n",
              "    40% {\n",
              "      border-color: transparent;\n",
              "      border-right-color: var(--fill-color);\n",
              "      border-top-color: var(--fill-color);\n",
              "    }\n",
              "    60% {\n",
              "      border-color: transparent;\n",
              "      border-right-color: var(--fill-color);\n",
              "    }\n",
              "    80% {\n",
              "      border-color: transparent;\n",
              "      border-right-color: var(--fill-color);\n",
              "      border-bottom-color: var(--fill-color);\n",
              "    }\n",
              "    90% {\n",
              "      border-color: transparent;\n",
              "      border-bottom-color: var(--fill-color);\n",
              "    }\n",
              "  }\n",
              "</style>\n",
              "\n",
              "  <script>\n",
              "    async function quickchart(key) {\n",
              "      const quickchartButtonEl =\n",
              "        document.querySelector('#' + key + ' button');\n",
              "      quickchartButtonEl.disabled = true;  // To prevent multiple clicks.\n",
              "      quickchartButtonEl.classList.add('colab-df-spinner');\n",
              "      try {\n",
              "        const charts = await google.colab.kernel.invokeFunction(\n",
              "            'suggestCharts', [key], {});\n",
              "      } catch (error) {\n",
              "        console.error('Error during call to suggestCharts:', error);\n",
              "      }\n",
              "      quickchartButtonEl.classList.remove('colab-df-spinner');\n",
              "      quickchartButtonEl.classList.add('colab-df-quickchart-complete');\n",
              "    }\n",
              "    (() => {\n",
              "      let quickchartButtonEl =\n",
              "        document.querySelector('#df-2c3c69c7-078d-42cd-adab-96479c6def7f button');\n",
              "      quickchartButtonEl.style.display =\n",
              "        google.colab.kernel.accessAllowed ? 'block' : 'none';\n",
              "    })();\n",
              "  </script>\n",
              "</div>\n",
              "\n",
              "    </div>\n",
              "  </div>\n"
            ],
            "application/vnd.google.colaboratory.intrinsic+json": {
              "type": "dataframe",
              "variable_name": "data_df"
            }
          },
          "metadata": {},
          "execution_count": 80
        }
      ]
    },
    {
      "cell_type": "code",
      "source": [
        "# Cleaning\n",
        "col_l = ['date', 'year', 'quarter', 'country', 'region', 'state', 'county', 'code', metric_name]\n",
        "\n",
        "data_df['date'] = pd.to_datetime(data_df['date'])\n",
        "data_df['year'] = data_df['date'].dt.year\n",
        "data_df['quarter'] = data_df['date'].dt.quarter\n",
        "# data_df['month'] = data_df['date'].dt.month\n",
        "data_df['date'] = data_df['date'].dt.date\n",
        "\n",
        "data_df['country'] = 'USA'\n",
        "data_df['state'] = data_df['region'].apply(lambda x: str(x).split(',')[-1].strip())\n",
        "data_df['county'] = data_df['region'].apply(lambda x: str(x).split(',')[0].strip())\n",
        "\n",
        "\n",
        "Equifax_Subprime_Credit_df = data_df[col_l].drop_duplicates()\n",
        "\n",
        "Equifax_Subprime_Credit_df.head()"
      ],
      "metadata": {
        "colab": {
          "base_uri": "https://localhost:8080/",
          "height": 206
        },
        "id": "q0WCV_CP7rhx",
        "outputId": "eb640066-076f-4c03-f0fc-e325112af60d"
      },
      "execution_count": null,
      "outputs": [
        {
          "output_type": "execute_result",
          "data": {
            "text/plain": [
              "         date  year  quarter country             region state         county  \\\n",
              "0  1999-01-01  1999        1     USA  Martin County, TX    TX  Martin County   \n",
              "1  1999-04-01  1999        2     USA  Martin County, TX    TX  Martin County   \n",
              "2  1999-07-01  1999        3     USA  Martin County, TX    TX  Martin County   \n",
              "3  1999-10-01  1999        4     USA  Martin County, TX    TX  Martin County   \n",
              "4  2000-01-01  2000        1     USA  Martin County, TX    TX  Martin County   \n",
              "\n",
              "    code Equifax_Subprime_Credit_Population  \n",
              "0  48317                                  .  \n",
              "1  48317                                  .  \n",
              "2  48317                                  .  \n",
              "3  48317                                  .  \n",
              "4  48317                                  .  "
            ],
            "text/html": [
              "\n",
              "  <div id=\"df-9e02428c-c349-4f50-a946-e737093fb507\" class=\"colab-df-container\">\n",
              "    <div>\n",
              "<style scoped>\n",
              "    .dataframe tbody tr th:only-of-type {\n",
              "        vertical-align: middle;\n",
              "    }\n",
              "\n",
              "    .dataframe tbody tr th {\n",
              "        vertical-align: top;\n",
              "    }\n",
              "\n",
              "    .dataframe thead th {\n",
              "        text-align: right;\n",
              "    }\n",
              "</style>\n",
              "<table border=\"1\" class=\"dataframe\">\n",
              "  <thead>\n",
              "    <tr style=\"text-align: right;\">\n",
              "      <th></th>\n",
              "      <th>date</th>\n",
              "      <th>year</th>\n",
              "      <th>quarter</th>\n",
              "      <th>country</th>\n",
              "      <th>region</th>\n",
              "      <th>state</th>\n",
              "      <th>county</th>\n",
              "      <th>code</th>\n",
              "      <th>Equifax_Subprime_Credit_Population</th>\n",
              "    </tr>\n",
              "  </thead>\n",
              "  <tbody>\n",
              "    <tr>\n",
              "      <th>0</th>\n",
              "      <td>1999-01-01</td>\n",
              "      <td>1999</td>\n",
              "      <td>1</td>\n",
              "      <td>USA</td>\n",
              "      <td>Martin County, TX</td>\n",
              "      <td>TX</td>\n",
              "      <td>Martin County</td>\n",
              "      <td>48317</td>\n",
              "      <td>.</td>\n",
              "    </tr>\n",
              "    <tr>\n",
              "      <th>1</th>\n",
              "      <td>1999-04-01</td>\n",
              "      <td>1999</td>\n",
              "      <td>2</td>\n",
              "      <td>USA</td>\n",
              "      <td>Martin County, TX</td>\n",
              "      <td>TX</td>\n",
              "      <td>Martin County</td>\n",
              "      <td>48317</td>\n",
              "      <td>.</td>\n",
              "    </tr>\n",
              "    <tr>\n",
              "      <th>2</th>\n",
              "      <td>1999-07-01</td>\n",
              "      <td>1999</td>\n",
              "      <td>3</td>\n",
              "      <td>USA</td>\n",
              "      <td>Martin County, TX</td>\n",
              "      <td>TX</td>\n",
              "      <td>Martin County</td>\n",
              "      <td>48317</td>\n",
              "      <td>.</td>\n",
              "    </tr>\n",
              "    <tr>\n",
              "      <th>3</th>\n",
              "      <td>1999-10-01</td>\n",
              "      <td>1999</td>\n",
              "      <td>4</td>\n",
              "      <td>USA</td>\n",
              "      <td>Martin County, TX</td>\n",
              "      <td>TX</td>\n",
              "      <td>Martin County</td>\n",
              "      <td>48317</td>\n",
              "      <td>.</td>\n",
              "    </tr>\n",
              "    <tr>\n",
              "      <th>4</th>\n",
              "      <td>2000-01-01</td>\n",
              "      <td>2000</td>\n",
              "      <td>1</td>\n",
              "      <td>USA</td>\n",
              "      <td>Martin County, TX</td>\n",
              "      <td>TX</td>\n",
              "      <td>Martin County</td>\n",
              "      <td>48317</td>\n",
              "      <td>.</td>\n",
              "    </tr>\n",
              "  </tbody>\n",
              "</table>\n",
              "</div>\n",
              "    <div class=\"colab-df-buttons\">\n",
              "\n",
              "  <div class=\"colab-df-container\">\n",
              "    <button class=\"colab-df-convert\" onclick=\"convertToInteractive('df-9e02428c-c349-4f50-a946-e737093fb507')\"\n",
              "            title=\"Convert this dataframe to an interactive table.\"\n",
              "            style=\"display:none;\">\n",
              "\n",
              "  <svg xmlns=\"http://www.w3.org/2000/svg\" height=\"24px\" viewBox=\"0 -960 960 960\">\n",
              "    <path d=\"M120-120v-720h720v720H120Zm60-500h600v-160H180v160Zm220 220h160v-160H400v160Zm0 220h160v-160H400v160ZM180-400h160v-160H180v160Zm440 0h160v-160H620v160ZM180-180h160v-160H180v160Zm440 0h160v-160H620v160Z\"/>\n",
              "  </svg>\n",
              "    </button>\n",
              "\n",
              "  <style>\n",
              "    .colab-df-container {\n",
              "      display:flex;\n",
              "      gap: 12px;\n",
              "    }\n",
              "\n",
              "    .colab-df-convert {\n",
              "      background-color: #E8F0FE;\n",
              "      border: none;\n",
              "      border-radius: 50%;\n",
              "      cursor: pointer;\n",
              "      display: none;\n",
              "      fill: #1967D2;\n",
              "      height: 32px;\n",
              "      padding: 0 0 0 0;\n",
              "      width: 32px;\n",
              "    }\n",
              "\n",
              "    .colab-df-convert:hover {\n",
              "      background-color: #E2EBFA;\n",
              "      box-shadow: 0px 1px 2px rgba(60, 64, 67, 0.3), 0px 1px 3px 1px rgba(60, 64, 67, 0.15);\n",
              "      fill: #174EA6;\n",
              "    }\n",
              "\n",
              "    .colab-df-buttons div {\n",
              "      margin-bottom: 4px;\n",
              "    }\n",
              "\n",
              "    [theme=dark] .colab-df-convert {\n",
              "      background-color: #3B4455;\n",
              "      fill: #D2E3FC;\n",
              "    }\n",
              "\n",
              "    [theme=dark] .colab-df-convert:hover {\n",
              "      background-color: #434B5C;\n",
              "      box-shadow: 0px 1px 3px 1px rgba(0, 0, 0, 0.15);\n",
              "      filter: drop-shadow(0px 1px 2px rgba(0, 0, 0, 0.3));\n",
              "      fill: #FFFFFF;\n",
              "    }\n",
              "  </style>\n",
              "\n",
              "    <script>\n",
              "      const buttonEl =\n",
              "        document.querySelector('#df-9e02428c-c349-4f50-a946-e737093fb507 button.colab-df-convert');\n",
              "      buttonEl.style.display =\n",
              "        google.colab.kernel.accessAllowed ? 'block' : 'none';\n",
              "\n",
              "      async function convertToInteractive(key) {\n",
              "        const element = document.querySelector('#df-9e02428c-c349-4f50-a946-e737093fb507');\n",
              "        const dataTable =\n",
              "          await google.colab.kernel.invokeFunction('convertToInteractive',\n",
              "                                                    [key], {});\n",
              "        if (!dataTable) return;\n",
              "\n",
              "        const docLinkHtml = 'Like what you see? Visit the ' +\n",
              "          '<a target=\"_blank\" href=https://colab.research.google.com/notebooks/data_table.ipynb>data table notebook</a>'\n",
              "          + ' to learn more about interactive tables.';\n",
              "        element.innerHTML = '';\n",
              "        dataTable['output_type'] = 'display_data';\n",
              "        await google.colab.output.renderOutput(dataTable, element);\n",
              "        const docLink = document.createElement('div');\n",
              "        docLink.innerHTML = docLinkHtml;\n",
              "        element.appendChild(docLink);\n",
              "      }\n",
              "    </script>\n",
              "  </div>\n",
              "\n",
              "\n",
              "<div id=\"df-4bc81c29-e917-4c49-93c1-19580f69fa3f\">\n",
              "  <button class=\"colab-df-quickchart\" onclick=\"quickchart('df-4bc81c29-e917-4c49-93c1-19580f69fa3f')\"\n",
              "            title=\"Suggest charts\"\n",
              "            style=\"display:none;\">\n",
              "\n",
              "<svg xmlns=\"http://www.w3.org/2000/svg\" height=\"24px\"viewBox=\"0 0 24 24\"\n",
              "     width=\"24px\">\n",
              "    <g>\n",
              "        <path d=\"M19 3H5c-1.1 0-2 .9-2 2v14c0 1.1.9 2 2 2h14c1.1 0 2-.9 2-2V5c0-1.1-.9-2-2-2zM9 17H7v-7h2v7zm4 0h-2V7h2v10zm4 0h-2v-4h2v4z\"/>\n",
              "    </g>\n",
              "</svg>\n",
              "  </button>\n",
              "\n",
              "<style>\n",
              "  .colab-df-quickchart {\n",
              "      --bg-color: #E8F0FE;\n",
              "      --fill-color: #1967D2;\n",
              "      --hover-bg-color: #E2EBFA;\n",
              "      --hover-fill-color: #174EA6;\n",
              "      --disabled-fill-color: #AAA;\n",
              "      --disabled-bg-color: #DDD;\n",
              "  }\n",
              "\n",
              "  [theme=dark] .colab-df-quickchart {\n",
              "      --bg-color: #3B4455;\n",
              "      --fill-color: #D2E3FC;\n",
              "      --hover-bg-color: #434B5C;\n",
              "      --hover-fill-color: #FFFFFF;\n",
              "      --disabled-bg-color: #3B4455;\n",
              "      --disabled-fill-color: #666;\n",
              "  }\n",
              "\n",
              "  .colab-df-quickchart {\n",
              "    background-color: var(--bg-color);\n",
              "    border: none;\n",
              "    border-radius: 50%;\n",
              "    cursor: pointer;\n",
              "    display: none;\n",
              "    fill: var(--fill-color);\n",
              "    height: 32px;\n",
              "    padding: 0;\n",
              "    width: 32px;\n",
              "  }\n",
              "\n",
              "  .colab-df-quickchart:hover {\n",
              "    background-color: var(--hover-bg-color);\n",
              "    box-shadow: 0 1px 2px rgba(60, 64, 67, 0.3), 0 1px 3px 1px rgba(60, 64, 67, 0.15);\n",
              "    fill: var(--button-hover-fill-color);\n",
              "  }\n",
              "\n",
              "  .colab-df-quickchart-complete:disabled,\n",
              "  .colab-df-quickchart-complete:disabled:hover {\n",
              "    background-color: var(--disabled-bg-color);\n",
              "    fill: var(--disabled-fill-color);\n",
              "    box-shadow: none;\n",
              "  }\n",
              "\n",
              "  .colab-df-spinner {\n",
              "    border: 2px solid var(--fill-color);\n",
              "    border-color: transparent;\n",
              "    border-bottom-color: var(--fill-color);\n",
              "    animation:\n",
              "      spin 1s steps(1) infinite;\n",
              "  }\n",
              "\n",
              "  @keyframes spin {\n",
              "    0% {\n",
              "      border-color: transparent;\n",
              "      border-bottom-color: var(--fill-color);\n",
              "      border-left-color: var(--fill-color);\n",
              "    }\n",
              "    20% {\n",
              "      border-color: transparent;\n",
              "      border-left-color: var(--fill-color);\n",
              "      border-top-color: var(--fill-color);\n",
              "    }\n",
              "    30% {\n",
              "      border-color: transparent;\n",
              "      border-left-color: var(--fill-color);\n",
              "      border-top-color: var(--fill-color);\n",
              "      border-right-color: var(--fill-color);\n",
              "    }\n",
              "    40% {\n",
              "      border-color: transparent;\n",
              "      border-right-color: var(--fill-color);\n",
              "      border-top-color: var(--fill-color);\n",
              "    }\n",
              "    60% {\n",
              "      border-color: transparent;\n",
              "      border-right-color: var(--fill-color);\n",
              "    }\n",
              "    80% {\n",
              "      border-color: transparent;\n",
              "      border-right-color: var(--fill-color);\n",
              "      border-bottom-color: var(--fill-color);\n",
              "    }\n",
              "    90% {\n",
              "      border-color: transparent;\n",
              "      border-bottom-color: var(--fill-color);\n",
              "    }\n",
              "  }\n",
              "</style>\n",
              "\n",
              "  <script>\n",
              "    async function quickchart(key) {\n",
              "      const quickchartButtonEl =\n",
              "        document.querySelector('#' + key + ' button');\n",
              "      quickchartButtonEl.disabled = true;  // To prevent multiple clicks.\n",
              "      quickchartButtonEl.classList.add('colab-df-spinner');\n",
              "      try {\n",
              "        const charts = await google.colab.kernel.invokeFunction(\n",
              "            'suggestCharts', [key], {});\n",
              "      } catch (error) {\n",
              "        console.error('Error during call to suggestCharts:', error);\n",
              "      }\n",
              "      quickchartButtonEl.classList.remove('colab-df-spinner');\n",
              "      quickchartButtonEl.classList.add('colab-df-quickchart-complete');\n",
              "    }\n",
              "    (() => {\n",
              "      let quickchartButtonEl =\n",
              "        document.querySelector('#df-4bc81c29-e917-4c49-93c1-19580f69fa3f button');\n",
              "      quickchartButtonEl.style.display =\n",
              "        google.colab.kernel.accessAllowed ? 'block' : 'none';\n",
              "    })();\n",
              "  </script>\n",
              "</div>\n",
              "\n",
              "    </div>\n",
              "  </div>\n"
            ],
            "application/vnd.google.colaboratory.intrinsic+json": {
              "type": "dataframe",
              "variable_name": "Equifax_Subprime_Credit_df"
            }
          },
          "metadata": {},
          "execution_count": 81
        }
      ]
    },
    {
      "cell_type": "code",
      "source": [
        "# download data\n",
        "fn = f'{metric_name}.csv'\n",
        "Equifax_Subprime_Credit_df.to_csv(fn, index=False)\n",
        "files.download(fn)"
      ],
      "metadata": {
        "colab": {
          "base_uri": "https://localhost:8080/",
          "height": 17
        },
        "id": "8YqxwwlV9lLL",
        "outputId": "21d61b61-659b-45f8-ed19-af256de49aa0"
      },
      "execution_count": null,
      "outputs": [
        {
          "output_type": "display_data",
          "data": {
            "text/plain": [
              "<IPython.core.display.Javascript object>"
            ],
            "application/javascript": [
              "\n",
              "    async function download(id, filename, size) {\n",
              "      if (!google.colab.kernel.accessAllowed) {\n",
              "        return;\n",
              "      }\n",
              "      const div = document.createElement('div');\n",
              "      const label = document.createElement('label');\n",
              "      label.textContent = `Downloading \"${filename}\": `;\n",
              "      div.appendChild(label);\n",
              "      const progress = document.createElement('progress');\n",
              "      progress.max = size;\n",
              "      div.appendChild(progress);\n",
              "      document.body.appendChild(div);\n",
              "\n",
              "      const buffers = [];\n",
              "      let downloaded = 0;\n",
              "\n",
              "      const channel = await google.colab.kernel.comms.open(id);\n",
              "      // Send a message to notify the kernel that we're ready.\n",
              "      channel.send({})\n",
              "\n",
              "      for await (const message of channel.messages) {\n",
              "        // Send a message to notify the kernel that we're ready.\n",
              "        channel.send({})\n",
              "        if (message.buffers) {\n",
              "          for (const buffer of message.buffers) {\n",
              "            buffers.push(buffer);\n",
              "            downloaded += buffer.byteLength;\n",
              "            progress.value = downloaded;\n",
              "          }\n",
              "        }\n",
              "      }\n",
              "      const blob = new Blob(buffers, {type: 'application/binary'});\n",
              "      const a = document.createElement('a');\n",
              "      a.href = window.URL.createObjectURL(blob);\n",
              "      a.download = filename;\n",
              "      div.appendChild(a);\n",
              "      a.click();\n",
              "      div.remove();\n",
              "    }\n",
              "  "
            ]
          },
          "metadata": {}
        },
        {
          "output_type": "display_data",
          "data": {
            "text/plain": [
              "<IPython.core.display.Javascript object>"
            ],
            "application/javascript": [
              "download(\"download_7ec6ae9d-9df9-406a-a62c-c8722952c799\", \"Equifax_Subprime_Credit_Population.csv\", 23555629)"
            ]
          },
          "metadata": {}
        }
      ]
    },
    {
      "cell_type": "markdown",
      "source": [
        "---\n",
        "---\n",
        "---"
      ],
      "metadata": {
        "id": "Pr-iQqleYtI8"
      }
    },
    {
      "cell_type": "code",
      "source": [
        "# Settings\n",
        "snapshot_date = r'2024-02-01'\n",
        "series_id = 'ORMULT1LFN'\n",
        "metric_name = 'Civilian_Labor_Force'\n",
        "\n",
        "\n",
        "# API Manager\n",
        "am = api_manager(API_Key_l)\n",
        "\n",
        "# CONFIG\n",
        "config_dict = {'api_url': 'https://api.stlouisfed.org/geofred/series/data?'\n",
        "               , 'date': snapshot_date\n",
        "               , 'series_id': series_id\n",
        "               , 'metric_name': metric_name\n",
        "               , 'api_manager': am\n",
        "              }\n",
        "\n",
        "# download manager\n",
        "dl_manager = fred_df_manager(config_dict)\n",
        "\n",
        "\n",
        "# # test\n",
        "# data_df = dl_manager.get_data(series_id)\n",
        "\n",
        "\n",
        "# # download\n",
        "data_df = dl_manager.download_data({'value': metric_name})\n",
        "\n",
        "# PREVIEW\n",
        "data_df.head()"
      ],
      "metadata": {
        "colab": {
          "base_uri": "https://localhost:8080/"
        },
        "id": "q9lTmOcb9lN3",
        "outputId": "de2d9102-cb09-4cfe-c93c-67970b5212c7"
      },
      "execution_count": null,
      "outputs": [
        {
          "output_type": "stream",
          "name": "stdout",
          "text": [
            "title: 2024 February Civilian Labor Force by County (Persons)\n",
            "region: county\n",
            "seasonality: Not Seasonally Adjusted\n",
            "units: Persons\n",
            "frequency: Monthly\n"
          ]
        },
        {
          "output_type": "stream",
          "name": "stderr",
          "text": [
            "Downloading data:   4%|▍         | 119/3139 [00:28<10:49,  4.65it/s]"
          ]
        },
        {
          "output_type": "stream",
          "name": "stdout",
          "text": [
            "Error Message: Too Many Requests.  Exceeded Rate Limit\n",
            "Switching Keys: 0\n"
          ]
        },
        {
          "output_type": "stream",
          "name": "stderr",
          "text": [
            "Downloading data:   8%|▊         | 251/3139 [01:07<13:55,  3.45it/s]"
          ]
        },
        {
          "output_type": "stream",
          "name": "stdout",
          "text": [
            "Error Message: Too Many Requests.  Exceeded Rate Limit\n",
            "Switching Keys: 0\n"
          ]
        },
        {
          "output_type": "stream",
          "name": "stderr",
          "text": [
            "Downloading data:  14%|█▍        | 448/3139 [02:05<11:21,  3.95it/s]"
          ]
        },
        {
          "output_type": "stream",
          "name": "stdout",
          "text": [
            "Error Message: Too Many Requests.  Exceeded Rate Limit\n",
            "Switching Keys: 0\n"
          ]
        },
        {
          "output_type": "stream",
          "name": "stderr",
          "text": [
            "Downloading data:  21%|██▏       | 674/3139 [03:00<10:28,  3.92it/s]"
          ]
        },
        {
          "output_type": "stream",
          "name": "stdout",
          "text": [
            "Error Message: Too Many Requests.  Exceeded Rate Limit\n",
            "Switching Keys: 0\n"
          ]
        },
        {
          "output_type": "stream",
          "name": "stderr",
          "text": [
            "Downloading data:  25%|██▌       | 794/3139 [03:29<08:29,  4.61it/s]"
          ]
        },
        {
          "output_type": "stream",
          "name": "stdout",
          "text": [
            "Error Message: Too Many Requests.  Exceeded Rate Limit\n",
            "Switching Keys: 0\n"
          ]
        },
        {
          "output_type": "stream",
          "name": "stderr",
          "text": [
            "Downloading data:  29%|██▉       | 923/3139 [04:01<08:25,  4.38it/s]"
          ]
        },
        {
          "output_type": "stream",
          "name": "stdout",
          "text": [
            "Error Message: Too Many Requests.  Exceeded Rate Limit\n",
            "Switching Keys: 0\n"
          ]
        },
        {
          "output_type": "stream",
          "name": "stderr",
          "text": [
            "Downloading data:  33%|███▎      | 1043/3139 [04:30<09:06,  3.84it/s]"
          ]
        },
        {
          "output_type": "stream",
          "name": "stdout",
          "text": [
            "Error Message: Too Many Requests.  Exceeded Rate Limit\n",
            "Switching Keys: 0\n"
          ]
        },
        {
          "output_type": "stream",
          "name": "stderr",
          "text": [
            "Downloading data:  37%|███▋      | 1166/3139 [05:00<07:15,  4.53it/s]"
          ]
        },
        {
          "output_type": "stream",
          "name": "stdout",
          "text": [
            "Error Message: Too Many Requests.  Exceeded Rate Limit\n",
            "Switching Keys: 0\n"
          ]
        },
        {
          "output_type": "stream",
          "name": "stderr",
          "text": [
            "Downloading data:  41%|████      | 1286/3139 [05:29<06:41,  4.62it/s]"
          ]
        },
        {
          "output_type": "stream",
          "name": "stdout",
          "text": [
            "Error Message: Too Many Requests.  Exceeded Rate Limit\n",
            "Switching Keys: 0\n"
          ]
        },
        {
          "output_type": "stream",
          "name": "stderr",
          "text": [
            "Downloading data:  45%|████▌     | 1413/3139 [06:00<06:56,  4.15it/s]"
          ]
        },
        {
          "output_type": "stream",
          "name": "stdout",
          "text": [
            "Error Message: Too Many Requests.  Exceeded Rate Limit\n",
            "Switching Keys: 0\n"
          ]
        },
        {
          "output_type": "stream",
          "name": "stderr",
          "text": [
            "Downloading data:  49%|████▉     | 1533/3139 [06:31<07:27,  3.59it/s]"
          ]
        },
        {
          "output_type": "stream",
          "name": "stdout",
          "text": [
            "Error Message: Too Many Requests.  Exceeded Rate Limit\n",
            "Switching Keys: 0\n"
          ]
        },
        {
          "output_type": "stream",
          "name": "stderr",
          "text": [
            "Downloading data:  53%|█████▎    | 1653/3139 [07:03<06:41,  3.70it/s]"
          ]
        },
        {
          "output_type": "stream",
          "name": "stdout",
          "text": [
            "Error Message: Too Many Requests.  Exceeded Rate Limit\n",
            "Switching Keys: 0\n"
          ]
        },
        {
          "output_type": "stream",
          "name": "stderr",
          "text": [
            "Downloading data:  60%|█████▉    | 1883/3139 [08:00<05:47,  3.61it/s]"
          ]
        },
        {
          "output_type": "stream",
          "name": "stdout",
          "text": [
            "Error Message: Too Many Requests.  Exceeded Rate Limit\n",
            "Switching Keys: 0\n"
          ]
        },
        {
          "output_type": "stream",
          "name": "stderr",
          "text": [
            "Downloading data:  63%|██████▎   | 1980/3139 [08:24<04:24,  4.38it/s]"
          ]
        }
      ]
    },
    {
      "cell_type": "code",
      "source": [
        "# Cleaning\n",
        "col_l = ['date', 'year', 'quarter', 'country', 'region', 'state', 'county', 'code', metric_name]\n",
        "\n",
        "data_df['date'] = pd.to_datetime(data_df['date'])\n",
        "data_df['year'] = data_df['date'].dt.year\n",
        "data_df['quarter'] = data_df['date'].dt.quarter\n",
        "# data_df['month'] = data_df['date'].dt.month\n",
        "data_df['date'] = data_df['date'].dt.date\n",
        "\n",
        "data_df['country'] = 'USA'\n",
        "data_df['state'] = data_df['region'].apply(lambda x: str(x).split(',')[-1].strip())\n",
        "data_df['county'] = data_df['region'].apply(lambda x: str(x).split(',')[0].strip())\n",
        "\n",
        "\n",
        "Civilian_Labor_Force_df = data_df[col_l].drop_duplicates()\n",
        "\n",
        "Civilian_Labor_Force_df.head()"
      ],
      "metadata": {
        "id": "GfCWompd9lQt"
      },
      "execution_count": null,
      "outputs": []
    },
    {
      "cell_type": "code",
      "source": [
        "# download data\n",
        "fn = f'{metric_name}.csv'\n",
        "Civilian_Labor_Force_df.to_csv(fn, index=False)\n",
        "files.download(fn)"
      ],
      "metadata": {
        "id": "Nw5hao6O9lTW"
      },
      "execution_count": null,
      "outputs": []
    },
    {
      "cell_type": "markdown",
      "source": [
        "---\n",
        "---\n",
        "---"
      ],
      "metadata": {
        "id": "iiylM7DsdL3n"
      }
    },
    {
      "cell_type": "code",
      "source": [],
      "metadata": {
        "id": "r6xyRnw79lWB"
      },
      "execution_count": null,
      "outputs": []
    },
    {
      "cell_type": "code",
      "source": [],
      "metadata": {
        "id": "zew6lzmProUW"
      },
      "execution_count": null,
      "outputs": []
    },
    {
      "cell_type": "code",
      "source": [],
      "metadata": {
        "id": "oPQSSSbkaq-L"
      },
      "execution_count": null,
      "outputs": []
    }
  ]
}